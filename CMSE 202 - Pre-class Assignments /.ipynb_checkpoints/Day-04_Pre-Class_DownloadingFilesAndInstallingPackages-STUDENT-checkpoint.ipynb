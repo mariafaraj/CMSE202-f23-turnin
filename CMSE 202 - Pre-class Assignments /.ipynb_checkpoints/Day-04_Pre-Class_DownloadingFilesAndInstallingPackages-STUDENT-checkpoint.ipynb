{
 "cells": [
  {
   "cell_type": "markdown",
   "metadata": {
    "slideshow": {
     "slide_type": "-"
    }
   },
   "source": [
    "# Pre-class Assignment: Python Packages\n",
    "# Day 4\n",
    "# CMSE 202\n",
    "\n",
    "## <p style=\"text-align: right;\"> &#9989; Maria Faraj"
   ]
  },
  {
   "cell_type": "markdown",
   "metadata": {
    "slideshow": {
     "slide_type": "-"
    }
   },
   "source": [
    "## Goals for today's pre-class assignment\n",
    "\n",
    "</p>\n",
    "\n",
    "1. Remind yourself how to download indiviual files from the internet via the command line\n",
    "1. Practice installing publicly-available Python packages"
   ]
  },
  {
   "cell_type": "markdown",
   "metadata": {},
   "source": [
    "## Assignment instructions\n",
    "**This assignment is due by 11:59 p.m. the day before class** and should be uploaded into the appropriate \"Pre-class assignments\" submission folder in the Desire2Learn website. "
   ]
  },
  {
   "cell_type": "markdown",
   "metadata": {},
   "source": [
    "----\n",
    "# 1. Downloading individual files from the internet (revisting the `curl` command) \n",
    "\n",
    "In the in-class assignment you may need to download a few files from the internet, a quick and reliable way to do this is using `curl` on the command line!\n",
    "\n",
    "Reflect back on what you learned previously in class or use the internet to answer the questions below:"
   ]
  },
  {
   "cell_type": "markdown",
   "metadata": {},
   "source": [
    "&#9989; **Question 1:** What does the `curl` command do?"
   ]
  },
  {
   "cell_type": "markdown",
   "metadata": {},
   "source": [
    "<font size=+3>&#9998;</font> the curl command allows you to access websites on the cli"
   ]
  },
  {
   "cell_type": "markdown",
   "metadata": {},
   "source": [
    "&#9989; **Question 2:** There is a file called `US_Unemployment_Oct2012.csv` that can be accessed at the following location:\n",
    "\n",
    "`https://raw.githubusercontent.com/wrobstory/vincent/master/examples/data/US_Unemployment_Oct2012.csv`\n",
    "\n",
    "How would you use `curl` to download this file to your computer?\n",
    "\n",
    "**Important**: Remember that by default `curl` will simply output the contents of the file to your screen. What command flag should you use to ensure that the remote file is actually saved as a file on your computer? If you don't remember, you might need to leverage the internet to remind yourself."
   ]
  },
  {
   "cell_type": "markdown",
   "metadata": {},
   "source": [
    "<font size=+3>&#9998;</font>  to download this link, you would do curl-0 URL to download the file and access it "
   ]
  },
  {
   "cell_type": "markdown",
   "metadata": {},
   "source": [
    "&#9989; **Question 3**: Are there any other other command line commands can be used to download files onto your computer from a remote location? There is another very common command out there besides `curl`, but your computer might not have it. Can you figure out what that command is? The MSU JupyerHub server has this command available. If you can figure out what it is, test it out with the file from the previous question!"
   ]
  },
  {
   "cell_type": "markdown",
   "metadata": {},
   "source": [
    "<font size=+3>&#9998;</font> to download a url, you can use wget URL, Lync URL, Elinks URL, W3m URL, and Aria2 URL."
   ]
  },
  {
   "cell_type": "markdown",
   "metadata": {},
   "source": [
    "----\n",
    "# 2. Installing Third Party Packages\n",
    "\n",
    "There is a lot of **awesome** code out there that is publicly available and accessible on the internet (you started to witness a bit of this when you were exploring repositories on GitHub). Part of this ecosystem of publicly available software tools is a bunch of really useful Python packages and libraries that we might not already have installed as part of the Anaconda Python distribution.\n",
    "\n",
    "So, how do we go about installing new third party packages that aren't already a part of our Python installation?\n",
    "\n",
    "If the package you want to use is available as a \"conda\" package or from the Python Package Index (PyPI), installation is generally pretty straight forward.\n",
    "\n",
    "Let's test out installing a package using `conda` and a package using `pip`, which installs packages from PyPI."
   ]
  },
  {
   "cell_type": "markdown",
   "metadata": {},
   "source": [
    "### 2.1 Pip installation\n",
    "\n",
    "There is a great package called [`cmocean`](http://matplotlib.org/cmocean/) (available [here](https://matplotlib.org/cmocean/)) that contains several colormaps that are commonly using for plotting oceanography data. One of the awesome things about the colormaps is that they are designed to be color-blind friendly, meaning that even if you're colorblind you can still extract information from the colormap.\n",
    "\n",
    "**&#9989; Do This**:\n",
    "\n",
    "**If you're doing this on your computer locally**, try installing the package by doing the following on the command line:\n",
    "\n",
    "``` bash\n",
    "pip install \"cmocean[plots]\"\n",
    "```\n",
    "\n",
    "**If you're doing this on the MSU JupyterHub**, you'll need to modify the command a bit in order to make sure you don't run into permission issues with the installation process. If you're not installing pip packages on your local machine or a machine you have root privileges for, you need to use the `--user` flag, like so:\n",
    "\n",
    "``` bash\n",
    "pip install --user \"cmocean[plots]\" # Make sure you include the quotation marks (\") in your command\n",
    "```\n",
    "    \n",
    "This not only installs the main cmocean module, but also installs the \"plots\" submodule, which is necessary to get some of the examples from the cmocean documentation page to work. When you run the command, you'll see that pip finds the packages and also checks if it should install or update any other packages at the same time. Once you've installed the package, you should be able to import it. Test it out in this notebook! Try making a plot using one of the new colormaps you have available.\n",
    "\n",
    "**You also have to include `import cmocean.plots` rather than just using `import cmocean` if you try to run any of the examples that use \"`cmocean.plots`\".**\n",
    "\n"
   ]
  },
  {
   "cell_type": "code",
   "execution_count": 23,
   "metadata": {},
   "outputs": [
    {
     "ename": "ModuleNotFoundError",
     "evalue": "No module named 'cmocean'",
     "output_type": "error",
     "traceback": [
      "\u001b[0;31m---------------------------------------------------------------------------\u001b[0m",
      "\u001b[0;31mModuleNotFoundError\u001b[0m                       Traceback (most recent call last)",
      "\u001b[0;32m<ipython-input-23-6ef873931b23>\u001b[0m in \u001b[0;36m<module>\u001b[0;34m\u001b[0m\n\u001b[1;32m      3\u001b[0m \u001b[0;31m# An easy option is to use some of the code provided on the cmocean website\u001b[0m\u001b[0;34m\u001b[0m\u001b[0;34m\u001b[0m\u001b[0;34m\u001b[0m\u001b[0m\n\u001b[1;32m      4\u001b[0m \u001b[0;34m\u001b[0m\u001b[0m\n\u001b[0;32m----> 5\u001b[0;31m \u001b[0;32mimport\u001b[0m \u001b[0mcmocean\u001b[0m\u001b[0;34m.\u001b[0m\u001b[0mplots\u001b[0m\u001b[0;34m\u001b[0m\u001b[0;34m\u001b[0m\u001b[0m\n\u001b[0m\u001b[1;32m      6\u001b[0m \u001b[0;32mimport\u001b[0m \u001b[0mmatplotlib\u001b[0m\u001b[0;34m.\u001b[0m\u001b[0mpyplot\u001b[0m \u001b[0;32mas\u001b[0m \u001b[0mplt\u001b[0m\u001b[0;34m\u001b[0m\u001b[0;34m\u001b[0m\u001b[0m\n",
      "\u001b[0;31mModuleNotFoundError\u001b[0m: No module named 'cmocean'"
     ]
    }
   ],
   "source": [
    "# Test out importing cmocean here.\n",
    "# If you can, see if you can make a plot using one of the new colormaps.\n",
    "# An easy option is to use some of the code provided on the cmocean website\n",
    "\n",
    "import cmocean.plots\n",
    "import matplotlib.pyplot as plt\n",
    "\n",
    "\n",
    "#ASK PROF\n",
    "#NOTE: I have been able to properly download these packages on the cli but it isnt working for me to load them on jupyter "
   ]
  },
  {
   "cell_type": "markdown",
   "metadata": {},
   "source": [
    "### 2.2 Conda installation\n",
    "\n",
    "While `pip` is one handy way to install Python packages when you're working within an Anaconda environment, you can also make use of the `conda` command. However, **the caveat to this is that you need to have permission to writing new files into your Python installation when using conda to install the package, which you do not have permission to on the MSU JupyterHub server**. If you've been only using JupyterHub for class at this point, that's totally OK, but you should still read about how to use `conda` for installing packages and then you can try to [install the same pacakge with pip instead](#pip-install).\n",
    "\n",
    "#### A package for printing nicer looking tables\n",
    "Occasionally there are times when you're looking at simple datasets in Python and it would be handy to be able to manipulate and visualize the data in simple ASCII formats without dealing with all of the Pandas dataframe overhead. Or perhaps you need to output the a data table in an HTML format so that you can render the table on the web.\n",
    "\n",
    "**&#9989; Do This**: \n",
    "To achieve these sorts of tasks, you can install a package called `prettytable` using `conda` like so:\n",
    "\n",
    "``` bash\n",
    "conda install -c conda-forge prettytable\n",
    "```\n",
    "\n",
    "This uses conda to install the package by locating it on [conda-forge](https://conda-forge.org/), which is a community maintained set of conda packages. When you run the command, you'll see that conda finds the packages and also checks if it should update any other packages at the same time and will let you know everything it plans to do before you confirm that you want it to happen. Once you've installed the package, you should be able to import it. Some documentation for `prettytable` can be found here: [https://github.com/jazzband/prettytable](https://github.com/jazzband/prettytable)\n",
    "\n",
    "If you were able to get `prettytable` installed, test it out and make sure it's working by trying to run some of the examples from the `README` file on the GitHub page linked above.\n",
    "\n",
    "<a id=\"pip-install\"></a>\n",
    "**Important note:** If you're trying to do this on JupyterHub, rather than on your personal computer, you will get a error that you don't have permissions to install new packages. Luckily, you can install `prettytable` with pip as well!\n",
    "\n",
    "To do so, try running this command:\n",
    "``` bash\n",
    "pip install --user prettytable\n",
    "```\n",
    "Try out one of the examples from the link above!"
   ]
  },
  {
   "cell_type": "code",
   "execution_count": 24,
   "metadata": {},
   "outputs": [
    {
     "ename": "ModuleNotFoundError",
     "evalue": "No module named 'prettytable'",
     "output_type": "error",
     "traceback": [
      "\u001b[0;31m---------------------------------------------------------------------------\u001b[0m",
      "\u001b[0;31mModuleNotFoundError\u001b[0m                       Traceback (most recent call last)",
      "\u001b[0;32m<ipython-input-24-7f3392cb605b>\u001b[0m in \u001b[0;36m<module>\u001b[0;34m\u001b[0m\n\u001b[1;32m      1\u001b[0m \u001b[0;31m# Put your prettytable testing code here\u001b[0m\u001b[0;34m\u001b[0m\u001b[0;34m\u001b[0m\u001b[0;34m\u001b[0m\u001b[0m\n\u001b[0;32m----> 2\u001b[0;31m \u001b[0;32mimport\u001b[0m \u001b[0mprettytable\u001b[0m\u001b[0;34m\u001b[0m\u001b[0;34m\u001b[0m\u001b[0m\n\u001b[0m",
      "\u001b[0;31mModuleNotFoundError\u001b[0m: No module named 'prettytable'"
     ]
    }
   ],
   "source": [
    "# Put your prettytable testing code here\n",
    "import prettytable\n",
    "\n",
    "#ASK PROF\n",
    "#NOTE: I have been able to properly download these packages on the cli but it isnt working for me to load them on jupyter "
   ]
  },
  {
   "cell_type": "markdown",
   "metadata": {},
   "source": [
    "### 2.3 Updating a package you already have\n",
    "\n",
    "**&#9989; Do This**: Run the following command, either in this notebook or in a terminal:\n",
    "\n",
    "```bash\n",
    "conda list\n",
    "```\n",
    "\n",
    "This should show you a list of all (or most of) the Python packages available to you. Scroll through the list and look for **NumPy**. The version you have is likely not complete updated to date with the current version! You can check the current releases [here](https://matplotlib.org/stable/users/release_notes). If your version _is_ fully up to date, you can move on to the next section.\n",
    "\n",
    "To update a package, we can again use `pip`, specifically:\n",
    "\n",
    "```bash\n",
    "pip install --upgrade matplotlib\n",
    "```\n",
    "\n",
    "**&#9989; Do This**: Run the code above, either in this notebook or a terminal. At the end of this, you should have version the most recent version.\n",
    "\n",
    "#### 2.3.1 Going back to older versions of packages\n",
    "\n",
    "In rare, though not impossible, circumstances, you may need to install an *older* version of a package. This can happen when a package requires an older version of another package. (Again, rare, but not crazy rare). In this case, we still use `pip`, but now we specify the version, like so:\n",
    "\n",
    "```bash\n",
    "pip install matplotlib==3.7.1\n",
    "```\n",
    "\n",
    "**&#9989; Do This**: Run the code above, either in this notebook or a terminal. At the end of this, you should have version 3.7.1.\n",
    "\n",
    "#### 2.3.2 Checking for outdated packages\n",
    "\n",
    "Now that you've practiced updating a package, you can also check to see if any of your packages are out of date. To do this, you can use the following command:\n",
    "\n",
    "```bash\n",
    "pip list --outdated\n",
    "```\n",
    "\n",
    "This can be useful if you want to make sure you're always using the most up to date version of a package. Or, if you're working on a project with a collaborator, you can make sure you're both using the same version of a package, which can help avoid some headaches.\n",
    "\n",
    "**&#9989; Do This**: Run the code above, either in this notebook or a terminal. At the end of this, you should have a list of packages that are out of date."
   ]
  },
  {
   "cell_type": "markdown",
   "metadata": {},
   "source": [
    "### 2.4 Using examples from new packages\n",
    "\n",
    "The **most important** skill you can take away from this pre-class assignment is reading and using examples provided in the documentation. For this part, let's work with the `scikit-image` package. You can find the details for this page on its [webpage](https://scikit-image.org/). \n",
    "\n",
    "\n",
    "**&#9989; Do This**:\n",
    "1. Navigate to the Gallery page. **NOTE:** Not all packages will have Galleries. For those packages, use the documentation. \n",
    "2. Go to the example **RGB to grayscale**.\n",
    "3. Copy and paste the code provided in this example into the cell below and run it."
   ]
  },
  {
   "cell_type": "code",
   "execution_count": null,
   "metadata": {},
   "outputs": [],
   "source": [
    "#Copy and paste the example code here\n",
    "import skimage as ski\n"
   ]
  },
  {
   "cell_type": "markdown",
   "metadata": {},
   "source": [
    "The reason why we did this is that we now have an example to build on. \n",
    "\n",
    "&#9989; **2.4.1:** Go back to the Gallery. You should see that some of the other examples use images other than the astronaut we just worked with. Using code from one of the other examples, modify the **RGB to grayscale** code so that it uses another image (I.e., not the astronaut image)."
   ]
  },
  {
   "cell_type": "code",
   "execution_count": null,
   "metadata": {},
   "outputs": [],
   "source": [
    "#Put your code here"
   ]
  },
  {
   "cell_type": "markdown",
   "metadata": {},
   "source": [
    "&#9989; **2.4.2:** Select another example from the `scikit-image` package. Copy, paste, and run the code below."
   ]
  },
  {
   "cell_type": "code",
   "execution_count": null,
   "metadata": {},
   "outputs": [],
   "source": [
    "#Write your new example code here."
   ]
  },
  {
   "cell_type": "markdown",
   "metadata": {},
   "source": [
    "---\n",
    "## Follow-up Questions\n",
    "\n",
    "Copy and paste the following questions into the appropriate box in the assignment survey include below and answer them there. (Note: You'll have to fill out the section number and the assignment number and go to the \"NEXT\" section of the survey to paste in these questions.)\n",
    "\n",
    "1. Were you able to figure out another command line command for downloading files? If so, what was it?\n",
    "\n",
    "2. Did you run into any issues with using pip or conda to install packages?\n",
    "\n",
    "3. Have you already had to install new Python packages previously? If so, what package(s) and what did they allow you to do?"
   ]
  },
  {
   "cell_type": "markdown",
   "metadata": {},
   "source": [
    "----\n",
    "# Assignment Wrap-up\n",
    "\n",
    "Please fill out the form that appears when you run the code below.  **You must completely fill this out in order to receive credit for the assignment!**"
   ]
  },
  {
   "cell_type": "code",
   "execution_count": null,
   "metadata": {},
   "outputs": [],
   "source": [
    "from IPython.display import HTML\n",
    "HTML(\n",
    "\"\"\"\n",
    "<iframe \n",
    "\tsrc=\"https://cmse.msu.edu/cmse202-pc-survey\" \n",
    "\twidth=\"800px\" \n",
    "\theight=\"600px\" \n",
    "\tframeborder=\"0\" \n",
    "\tmarginheight=\"0\" \n",
    "\tmarginwidth=\"0\">\n",
    "\tLoading...\n",
    "</iframe>\n",
    "\"\"\"\n",
    ")"
   ]
  },
  {
   "cell_type": "markdown",
   "metadata": {},
   "source": [
    "---------\n",
    "### Congratulations, you're done with your pre-class assignment!\n",
    "\n",
    "Now, you just need to submit this assignment by uploading it to the course <a href=\"https://d2l.msu.edu/\">Desire2Learn</a> web page for this assignment's dropbox (Don't forget to add your names in the first cell)."
   ]
  },
  {
   "cell_type": "markdown",
   "metadata": {},
   "source": [
    "&#169; Copyright 2023,  Department of Computational Mathematics, Science and Engineering at Michigan State University"
   ]
  }
 ],
 "metadata": {
  "anaconda-cloud": {},
  "kernelspec": {
   "display_name": "Python 3.8",
   "language": "python",
   "name": "python3"
  },
  "language_info": {
   "codemirror_mode": {
    "name": "ipython",
    "version": 3
   },
   "file_extension": ".py",
   "mimetype": "text/x-python",
   "name": "python",
   "nbconvert_exporter": "python",
   "pygments_lexer": "ipython3",
   "version": "3.8.8"
  },
  "widgets": {
   "application/vnd.jupyter.widget-state+json": {
    "state": {},
    "version_major": 2,
    "version_minor": 0
   }
  }
 },
 "nbformat": 4,
 "nbformat_minor": 4
}
