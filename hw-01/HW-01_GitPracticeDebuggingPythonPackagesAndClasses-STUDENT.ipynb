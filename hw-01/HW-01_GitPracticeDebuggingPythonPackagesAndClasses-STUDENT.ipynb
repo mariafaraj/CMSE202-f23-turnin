{
 "cells": [
  {
   "cell_type": "markdown",
   "metadata": {},
   "source": [
    "# Homework Assignment 1\n",
    "## Git practice, debugging practice, and new Python packages, and Python classes\n",
    "### And exploring earthquake data"
   ]
  },
  {
   "cell_type": "markdown",
   "metadata": {},
   "source": [
    "### <p style=\"text-align: right;\"> &#9989; Maria Faraj\n",
    "### <p style=\"text-align: right;\"> &#9989; mariafaraj</p>"
   ]
  },
  {
   "cell_type": "markdown",
   "metadata": {},
   "source": [
    "<img src=\"https://imgs.search.brave.com/Iu98hjOLzhzGNlJkOtx98sOnJU7ufsRv4Yt_49oTNxk/rs:fit:860:0:0/g:ce/aHR0cHM6Ly9hcm91/bmRtaWNoaWdhbi5j/b20vd3AtY29udGVu/dC91cGxvYWRzLzIw/MTgvMDQvRWFydGhx/dWFrZV9kYW1hZ2Vf/LV9yb2Fkcy5qcGc\" width=300px align=\"right\" style=\"margin-left: 20px\" alt=\"Image credit: https://aroundmichigan.com/2018/04/15/history-earthquakes-michigan/\">\n",
    "\n",
    "### Goals for this homework assignment\n",
    "By the end of this assignment, you should be able to:\n",
    "* Use Git to create a repository, track changes to the files within the repository, and push those changes to a remote repository.\n",
    "* Debug some basic Python code that involves Pandas.\n",
    "* Read documentation and example code to use a new Python package\n",
    "* Modify and use a simple Python class\n",
    "\n",
    "Work through the following assignment, making sure to follow all of the directions and answer all of the questions.\n",
    "\n",
    "There are **82 points** possible on this assignment. Point values for each part are included in the section headers and question prompts.\n",
    "\n",
    "**This assignment is due at 11:59 pm on Friday, September 29.** It should be uploaded into the \"Homework Assignments\" submission folder for Homework #1 on D2L.  Submission instructions can be found at the end of the notebook. **You must also fill out a survey regarding this assignment.** The link to this survey can also be found at the end of the notebook."
   ]
  },
  {
   "cell_type": "markdown",
   "metadata": {},
   "source": [
    "\n",
    "<a id=\"toc\"></a>\n",
    "\n",
    "## Table of contents\n",
    "\n",
    "0. [Part 0: Office Hours and Help Room](#ofhrs) (6 points) \n",
    "\n",
    "1. [Part 1: Git and CLI](#gits) (14 points)\n",
    "\n",
    "2. [Part 2: Debugging](#debugging) (8 points)\n",
    "\n",
    "3. [Part 3: Downloading and analyzing unfamiliar data](#unfamiliar) (16 points)\n",
    "\n",
    "4. [Part 4: Using documentation to use a new Python package](#folium) (9 points)\n",
    "\n",
    "5. [Part 5: Practice with using Python classes](#classes) (23 points)\n",
    "\n",
    "6. [Part 6: Finishing](#conclusion) (6 points)"
   ]
  },
  {
   "cell_type": "code",
   "execution_count": 2,
   "metadata": {},
   "outputs": [
    {
     "name": "stdout",
     "output_type": "stream",
     "text": [
      "Total number of points possible on this assignment is 82.\n"
     ]
    }
   ],
   "source": [
    "# Calculate total points possible and print it\n",
    "print(\"Total number of points possible on this assignment is %i.\" %(6+14+8+16+9+23+6))"
   ]
  },
  {
   "cell_type": "markdown",
   "metadata": {},
   "source": [
    "---\n",
    "<a id=\"ofhrs\"></a>\n",
    "[Back to ToC](#toc)\n",
    "\n",
    "\n",
    "## Part 0: Visiting Office Hours or Help Room (6 points)\n"
   ]
  },
  {
   "cell_type": "markdown",
   "metadata": {},
   "source": [
    "### Going to Office Hours or Help Room\n",
    "\n",
    "#### Why are we doing this?\n",
    "We want to make sure that everyone knows how to access the resources available to you. One of the best resources you have at your disposal is office hours and help room.\n",
    "\n",
    "#### What will you do?\n",
    "(At minimum) Go to one office hour or help room session ​(it doesn’t matter which one you go to). Come with one question that you would like to talk about. It can be big or small. It can be about the homework, but it doesn't have to be. I can be anything about the course or about computational modeling and data analysis in general.\n",
    "\n",
    "Once you get to office hours or help room, ask your question. All of the instructors for CMSE 202 (Professors, TAs, and LAs) will be adding to a running list of folks that we see during office hours; as long as your name appears on the list, you’ll get credit for this part of Homework 1.\n",
    "\n",
    "**NOTE:** The day when the homework is due (**Friday, September 29**) will be the busiest time for folks to go to office hours or help room. You are **STRONGLY** encouraged to go to office hours or help room before Friday to get credit for this part of this assignment. (You should still feel free to go to office hours or helproom on Friday for help, though!)\n",
    "\n",
    "You can find the office hours calendar on the [course website](https://cmse.msu.edu/cmse202).\n",
    "\n",
    "**FINAL NOTE:** If you are unable to attend office hours or help room, please contact the instructor to make alternative arrangements and explain why you are unable to attend."
   ]
  },
  {
   "cell_type": "markdown",
   "metadata": {},
   "source": [
    "**&#9989; **Question 0.1 (6 points)****\n",
    "\n",
    "Type below the question you asked and **who you asked it to** (make sure you know who you're talking to!). Make sure you double-check that the instructor made note of this.\n",
    "\n",
    "If you did not attend office hours or help room, please explain why."
   ]
  },
  {
   "cell_type": "markdown",
   "metadata": {},
   "source": [
    "<font size=6 color=\"#009600\">&#9998;</font> Regarding the last part in problem 4, how can you make a for loop that can index and show each earthquake on the map? I was having an issue where only one earthquake would appear.\n",
    "\n",
    "<font size=6 color=\"#009600\">&#9998;</font> Sona Chitchyan "
   ]
  },
  {
   "cell_type": "markdown",
   "metadata": {},
   "source": [
    "---\n",
    "<a id=\"gits\"></a>\n",
    "[Back to ToC](#toc)\n",
    "\n",
    "## Part 1: CLI and Git (14 points)\n",
    "\n",
    "### Setting up a git repository to track your progress on your assignments \n",
    "\n",
    "`git` is a very important professional tool and we want you to get plenty of practice using it. The following set of questions prompt you to create a (private) Git repo for storing, updating, and turning in your homework assignments. You will **share this repo with your course lead instructor and TA** so that they can pull your completed assignments for grading."
   ]
  },
  {
   "cell_type": "markdown",
   "metadata": {},
   "source": [
    "&#9989; **Question 1.1 (2 points)**:\n",
    "1. On [GitHub](https://github.com) make sure you are logged into your account and then, if you haven't already, create a new <font color=\"red\">**_private_**</font> GitHub repository called `cmse202-f23-turnin`. <font color=\"red\">**Important note**</font>: you may have already created repository in a PCA, if you have, please use that one. If you have not, please create a new one.\n",
    "2. Once you've initialized the repository on GitHub, **clone a copy of it onto JupyterHub or your computer**."
   ]
  },
  {
   "cell_type": "markdown",
   "metadata": {},
   "source": [
    "``` bash\n",
    "git clone https://github.com/mariafaraj/CMSE202-f23-turnin.git\n",
    "```"
   ]
  },
  {
   "cell_type": "markdown",
   "metadata": {},
   "source": [
    "&#9989; **Question 1.2 (1 point)**: Using the command line interface, move inside the repository folder\n",
    "\n",
    "What command did you use to enter into the folder?"
   ]
  },
  {
   "cell_type": "markdown",
   "metadata": {},
   "source": [
    "```bash\n",
    "cd CMSE202-f23-turnin\n",
    "```"
   ]
  },
  {
   "cell_type": "markdown",
   "metadata": {},
   "source": [
    "&#9989; **Question 1.3 (1 point)**: Once inside the `cmse202-f23-turnin` repository, create a new folder called `hw-01`.\n",
    "\n",
    "What is the command to create the new folder ?"
   ]
  },
  {
   "cell_type": "markdown",
   "metadata": {},
   "source": [
    "```bash\n",
    "mkdir hw-01\n",
    "```"
   ]
  },
  {
   "cell_type": "markdown",
   "metadata": {},
   "source": [
    "&#9989; **Question 1.4 (1 point)**: Move this notebook into that **new directory** in your repository then check the **_status_** of the repository\n",
    "\n",
    "<font color=\"red\">**This is an important step**</font>: you'll want to make sure you **save and close** the notebook before you do this step and then re-open it once you've added it to your repository. If you don't do this, you could end up working on the wrong version of the notebook! Once you've moved the notebook correctly, re-open it and continue working on it.\n"
   ]
  },
  {
   "cell_type": "markdown",
   "metadata": {},
   "source": [
    "```bash\n",
    "git status HW-01_GitPracticeDebuggingPythonPackagesAndClasses-STUDENT\n",
    "```"
   ]
  },
  {
   "cell_type": "markdown",
   "metadata": {},
   "source": [
    "&#9989; **Question 1.5 (1 point)**: Copy and paste below the output of the status command."
   ]
  },
  {
   "cell_type": "markdown",
   "metadata": {},
   "source": [
    "On branch main\n",
    "Your branch is ahead of 'origin/main' by 2 commits.\n",
    "  (use \"git push\" to publish your local commits)\n",
    "\n",
    "nothing to commit, working tree clean"
   ]
  },
  {
   "cell_type": "markdown",
   "metadata": {},
   "source": [
    "&#9989; **Question 1.6 (1 point)**: What is the name of the current branch of the repository that you are in? (*Hint*: There should only be one branch at this time. We'll learn more about branches in git later in the semester.)"
   ]
  },
  {
   "cell_type": "markdown",
   "metadata": {},
   "source": [
    "```bash\n",
    "* main\n",
    "```"
   ]
  },
  {
   "cell_type": "markdown",
   "metadata": {},
   "source": [
    "&#9989; **Question 1.7 (3 points)**:\n",
    "If you haven't already, add your name and GitHub username to the top of the notebook, then add and commit **ONLY** the notebook.\n",
    "\n"
   ]
  },
  {
   "cell_type": "markdown",
   "metadata": {},
   "source": [
    "``` bash\n",
    "git HW-01_GitPracticeDebuggingPythonPackagesAndClasses-STUDENT\n",
    "git HW-01_GitPracticeDebuggingPythonPackagesAndClasses-STUDENT\n",
    "```"
   ]
  },
  {
   "cell_type": "markdown",
   "metadata": {},
   "source": [
    "What is the commit message you used ?"
   ]
  },
  {
   "cell_type": "markdown",
   "metadata": {},
   "source": [
    "``` bash\n",
    "following hw 1 instructions\n",
    "```"
   ]
  },
  {
   "cell_type": "markdown",
   "metadata": {},
   "source": [
    "&#9989; **Question 1.8 (1 point):** Before moving on. Check that the notebook you are working on is the correct one. Run the following cell. **Are you in the new folder you just created?** If not close this notebook and open the one in the `hw-01` folder. You'll likely need to copy of over the work you did on the above questions if you were working on the wrong notebook.\n"
   ]
  },
  {
   "cell_type": "code",
   "execution_count": 16,
   "metadata": {
    "ExecuteTime": {
     "end_time": "2022-09-10T21:45:07.159611Z",
     "start_time": "2022-09-10T21:45:06.977669Z"
    }
   },
   "outputs": [
    {
     "name": "stdout",
     "output_type": "stream",
     "text": [
      "/home/fatamari/CMSE202-f23-turnin/hw-01\r\n"
     ]
    }
   ],
   "source": [
    "!pwd"
   ]
  },
  {
   "cell_type": "markdown",
   "metadata": {},
   "source": [
    "&#9989; **Question 1.9 (3 points):** Assuming that you notebook is in the right place and committed to your repository, **push your changes to GitHub.**\n",
    "\n",
    "What command did you use to push your changes to GitHub?"
   ]
  },
  {
   "cell_type": "markdown",
   "metadata": {},
   "source": [
    "``` bash\n",
    "git push\n",
    "```"
   ]
  },
  {
   "cell_type": "markdown",
   "metadata": {},
   "source": [
    "### Before moving on...\n",
    "\n",
    "**Important**: Make sure you've added your Professor and your TA as collaborators to your new \"turnin\" respository with \"Read\" access so that they can see your assignment. **You should check the Slack channel _for your section of the course_ to get this information.**\n",
    "\n",
    "**Double-check the following**: Make sure that the version of this notebook that you are working on is the same one that you just added to your repository! If you are working on a different copy of the notebook, **none of your changes will be tracked**.\n",
    "\n",
    "If everything went as intended, **the file should now show up on your GitHub account** in the \"`cmse202-f23-turnin`\" repository inside the `hw-01` directory that you just created.  Periodically, **you'll be asked to commit your changes to the repository. By the end of the assignment you should have multiple commits that correspond to your completion of each section (as specified below)**. Of course, you can always commit your changes more often than that, if you wish.  It can be good to get into a habit of committing your changes any time you make a significant modification, or when you stop working on the project for a bit.\n"
   ]
  },
  {
   "cell_type": "markdown",
   "metadata": {},
   "source": [
    "---\n",
    "<a id=\"debugging\"></a>\n",
    "[Back to ToC](#toc)\n",
    "\n",
    "## Part 2: Debugging Pandas code (8 points)\n",
    "\n",
    "### Reading Python and Pandas code and understanding errors and error messages \n",
    "\n",
    "In this section, you will practice reading and debugging code, specially examples that use Pandas (since we'll be regularly using Pandas in the course and we spent some time reviewing Pandas in class). Debugging can be one of the most frustrating and time consuming part of a computational project, hence, it's worth spending time parsing and debugging error messages. \n",
    "\n",
    "Review the following code. Make sure to read the comments to understand what the code is _supposed_ to do. Then run the code and see what it outputs and/or the error message. Finally, **make a copy of the code in the provided cell and then fix the code**. When you fix the code **add a comment to explain what was wrong with the original code**.\n",
    "\n",
    "**IMPORTANT NOTE #1:** not every block of code will result in an error message, but it won't produce the desired output. Even if there is no error, there is something you need to fix within the code.\n",
    "\n",
    "**IMPORTANT NOTE #2:** In some cases, the example may use a bit of Pandas code that you're not familiar with yet, in these cases, you'll need to consult the internet (or the Pandas documentation) to figure out what the code is doing. This is a very common practice in computational modeling and data analysis."
   ]
  },
  {
   "cell_type": "markdown",
   "metadata": {},
   "source": [
    "### Import Pandas before moving on!"
   ]
  },
  {
   "cell_type": "code",
   "execution_count": 77,
   "metadata": {},
   "outputs": [],
   "source": [
    "# Import Pandas and matplotlib\n",
    "import pandas as pd \n",
    "import matplotlib.pyplot as plt \n"
   ]
  },
  {
   "cell_type": "markdown",
   "metadata": {},
   "source": [
    "&#9989; **Questions 2.1 (2 points)**: Review the following piece of Pandas code, read the comments to understand what it is supposed to do, then run the code to see what the output is. **DO NOT MODIFY THIS CODE CELL**. (so that you can remember what the bug was)"
   ]
  },
  {
   "cell_type": "code",
   "execution_count": 78,
   "metadata": {},
   "outputs": [
    {
     "ename": "TypeError",
     "evalue": "groupby() got an unexpected keyword argument 'column'",
     "output_type": "error",
     "traceback": [
      "\u001b[0;31m---------------------------------------------------------------------------\u001b[0m",
      "\u001b[0;31mTypeError\u001b[0m                                 Traceback (most recent call last)",
      "\u001b[0;32m<ipython-input-78-3209cf70c050>\u001b[0m in \u001b[0;36m<module>\u001b[0;34m\u001b[0m\n\u001b[1;32m      3\u001b[0m \u001b[0;31m# Group df by column 'A' and take the mean\u001b[0m\u001b[0;34m\u001b[0m\u001b[0;34m\u001b[0m\u001b[0;34m\u001b[0m\u001b[0m\n\u001b[1;32m      4\u001b[0m \u001b[0mdf\u001b[0m \u001b[0;34m=\u001b[0m \u001b[0mpd\u001b[0m\u001b[0;34m.\u001b[0m\u001b[0mDataFrame\u001b[0m\u001b[0;34m(\u001b[0m\u001b[0;34m{\u001b[0m\u001b[0;34m'A'\u001b[0m\u001b[0;34m:\u001b[0m \u001b[0;34m[\u001b[0m\u001b[0;36m1\u001b[0m\u001b[0;34m,\u001b[0m \u001b[0;36m2\u001b[0m\u001b[0;34m,\u001b[0m \u001b[0;36m3\u001b[0m\u001b[0;34m,\u001b[0m \u001b[0;36m2\u001b[0m\u001b[0;34m,\u001b[0m \u001b[0;36m3\u001b[0m\u001b[0;34m,\u001b[0m \u001b[0;36m3\u001b[0m\u001b[0;34m]\u001b[0m\u001b[0;34m,\u001b[0m \u001b[0;34m'B'\u001b[0m\u001b[0;34m:\u001b[0m \u001b[0;34m[\u001b[0m\u001b[0;36m4\u001b[0m\u001b[0;34m,\u001b[0m \u001b[0;36m5\u001b[0m\u001b[0;34m,\u001b[0m \u001b[0;36m6\u001b[0m\u001b[0;34m,\u001b[0m \u001b[0;36m4\u001b[0m\u001b[0;34m,\u001b[0m \u001b[0;36m10\u001b[0m\u001b[0;34m,\u001b[0m \u001b[0;36m9\u001b[0m\u001b[0;34m]\u001b[0m\u001b[0;34m}\u001b[0m\u001b[0;34m)\u001b[0m\u001b[0;34m\u001b[0m\u001b[0;34m\u001b[0m\u001b[0m\n\u001b[0;32m----> 5\u001b[0;31m \u001b[0mdf\u001b[0m\u001b[0;34m.\u001b[0m\u001b[0mgroupby\u001b[0m\u001b[0;34m(\u001b[0m\u001b[0mcolumn\u001b[0m\u001b[0;34m=\u001b[0m\u001b[0;34m\"A\"\u001b[0m\u001b[0;34m)\u001b[0m\u001b[0;34m.\u001b[0m\u001b[0mmean\u001b[0m\u001b[0;34m(\u001b[0m\u001b[0;34m)\u001b[0m\u001b[0;34m\u001b[0m\u001b[0;34m\u001b[0m\u001b[0m\n\u001b[0m",
      "\u001b[0;31mTypeError\u001b[0m: groupby() got an unexpected keyword argument 'column'"
     ]
    }
   ],
   "source": [
    "## DO NOT CHANGE THIS CELL ##\n",
    "\n",
    "# Group df by column 'A' and take the mean \n",
    "df = pd.DataFrame({'A': [1, 2, 3, 2, 3, 3], 'B': [4, 5, 6, 4, 10, 9]})\n",
    "df.groupby(column=\"A\").mean()"
   ]
  },
  {
   "cell_type": "markdown",
   "metadata": {},
   "source": [
    "If you need to write any code to explore the nature of the bug, please do so in the cell below."
   ]
  },
  {
   "cell_type": "code",
   "execution_count": 43,
   "metadata": {},
   "outputs": [
    {
     "data": {
      "text/html": [
       "<div>\n",
       "<style scoped>\n",
       "    .dataframe tbody tr th:only-of-type {\n",
       "        vertical-align: middle;\n",
       "    }\n",
       "\n",
       "    .dataframe tbody tr th {\n",
       "        vertical-align: top;\n",
       "    }\n",
       "\n",
       "    .dataframe thead th {\n",
       "        text-align: right;\n",
       "    }\n",
       "</style>\n",
       "<table border=\"1\" class=\"dataframe\">\n",
       "  <thead>\n",
       "    <tr style=\"text-align: right;\">\n",
       "      <th></th>\n",
       "      <th>B</th>\n",
       "    </tr>\n",
       "    <tr>\n",
       "      <th>A</th>\n",
       "      <th></th>\n",
       "    </tr>\n",
       "  </thead>\n",
       "  <tbody>\n",
       "    <tr>\n",
       "      <th>1</th>\n",
       "      <td>4.000000</td>\n",
       "    </tr>\n",
       "    <tr>\n",
       "      <th>2</th>\n",
       "      <td>4.500000</td>\n",
       "    </tr>\n",
       "    <tr>\n",
       "      <th>3</th>\n",
       "      <td>8.333333</td>\n",
       "    </tr>\n",
       "  </tbody>\n",
       "</table>\n",
       "</div>"
      ],
      "text/plain": [
       "          B\n",
       "A          \n",
       "1  4.000000\n",
       "2  4.500000\n",
       "3  8.333333"
      ]
     },
     "execution_count": 43,
     "metadata": {},
     "output_type": "execute_result"
    }
   ],
   "source": [
    "# Put exploratory code here, if needed\n",
    "df = pd.DataFrame({'A': [1, 2, 3, 2, 3, 3], 'B': [4, 5, 6, 4, 10, 9]})\n",
    "df.groupby(by=\"A\").mean()"
   ]
  },
  {
   "cell_type": "markdown",
   "metadata": {},
   "source": [
    "**DO THIS**: Now that you understand what the bug is, fix it in the cell below and **add a comment** explaining what the bug was and how you fixed it."
   ]
  },
  {
   "cell_type": "code",
   "execution_count": 44,
   "metadata": {},
   "outputs": [
    {
     "data": {
      "text/html": [
       "<div>\n",
       "<style scoped>\n",
       "    .dataframe tbody tr th:only-of-type {\n",
       "        vertical-align: middle;\n",
       "    }\n",
       "\n",
       "    .dataframe tbody tr th {\n",
       "        vertical-align: top;\n",
       "    }\n",
       "\n",
       "    .dataframe thead th {\n",
       "        text-align: right;\n",
       "    }\n",
       "</style>\n",
       "<table border=\"1\" class=\"dataframe\">\n",
       "  <thead>\n",
       "    <tr style=\"text-align: right;\">\n",
       "      <th></th>\n",
       "      <th>B</th>\n",
       "    </tr>\n",
       "    <tr>\n",
       "      <th>A</th>\n",
       "      <th></th>\n",
       "    </tr>\n",
       "  </thead>\n",
       "  <tbody>\n",
       "    <tr>\n",
       "      <th>1</th>\n",
       "      <td>4.000000</td>\n",
       "    </tr>\n",
       "    <tr>\n",
       "      <th>2</th>\n",
       "      <td>4.500000</td>\n",
       "    </tr>\n",
       "    <tr>\n",
       "      <th>3</th>\n",
       "      <td>8.333333</td>\n",
       "    </tr>\n",
       "  </tbody>\n",
       "</table>\n",
       "</div>"
      ],
      "text/plain": [
       "          B\n",
       "A          \n",
       "1  4.000000\n",
       "2  4.500000\n",
       "3  8.333333"
      ]
     },
     "execution_count": 44,
     "metadata": {},
     "output_type": "execute_result"
    }
   ],
   "source": [
    "# Put your non-buggy code here\n",
    "df = pd.DataFrame({'A': [1, 2, 3, 2, 3, 3], 'B': [4, 5, 6, 4, 10, 9]})\n",
    "df.groupby(by=\"A\").mean()\n",
    "\n",
    "#the bug in this code was having \"column\" instead of \"by.\" \"by\" is essential to be used as a parameter to specify the columb you want to group the data in"
   ]
  },
  {
   "cell_type": "markdown",
   "metadata": {},
   "source": [
    "&#9989; **Questions 2.2 (2 points)**: Review the following piece of Pandas code, read the comments to understand what it is supposed to do, then run the code to see what the output is. **DO NOT MODIFY THIS CODE CELL**. (so that you can remember what the bug was)"
   ]
  },
  {
   "cell_type": "code",
   "execution_count": 45,
   "metadata": {},
   "outputs": [
    {
     "data": {
      "text/html": [
       "<div>\n",
       "<style scoped>\n",
       "    .dataframe tbody tr th:only-of-type {\n",
       "        vertical-align: middle;\n",
       "    }\n",
       "\n",
       "    .dataframe tbody tr th {\n",
       "        vertical-align: top;\n",
       "    }\n",
       "\n",
       "    .dataframe thead th {\n",
       "        text-align: right;\n",
       "    }\n",
       "</style>\n",
       "<table border=\"1\" class=\"dataframe\">\n",
       "  <thead>\n",
       "    <tr style=\"text-align: right;\">\n",
       "      <th></th>\n",
       "      <th>Date</th>\n",
       "    </tr>\n",
       "  </thead>\n",
       "  <tbody>\n",
       "    <tr>\n",
       "      <th>0</th>\n",
       "      <td>2020-01-15</td>\n",
       "    </tr>\n",
       "    <tr>\n",
       "      <th>1</th>\n",
       "      <td>2020-01-04</td>\n",
       "    </tr>\n",
       "  </tbody>\n",
       "</table>\n",
       "</div>"
      ],
      "text/plain": [
       "        Date\n",
       "0 2020-01-15\n",
       "1 2020-01-04"
      ]
     },
     "execution_count": 45,
     "metadata": {},
     "output_type": "execute_result"
    }
   ],
   "source": [
    "## DO NOT CHANGE THIS CELL ##\n",
    "\n",
    "# Create DataFrame from list of dates that are provided as DAY/MONTH/YEAR\n",
    "# Convert column to datetime value and store as a new DataFrame\n",
    "dates = ['15/01/2020', '01/04/2020']\n",
    "df = pd.DataFrame({'Date': dates})\n",
    "new_df = pd.DataFrame(pd.to_datetime(df['Date']))\n",
    "new_df"
   ]
  },
  {
   "cell_type": "markdown",
   "metadata": {},
   "source": [
    "If you need to write any code to explore the nature of the bug, please do so in the cell below."
   ]
  },
  {
   "cell_type": "code",
   "execution_count": 46,
   "metadata": {},
   "outputs": [
    {
     "data": {
      "text/html": [
       "<div>\n",
       "<style scoped>\n",
       "    .dataframe tbody tr th:only-of-type {\n",
       "        vertical-align: middle;\n",
       "    }\n",
       "\n",
       "    .dataframe tbody tr th {\n",
       "        vertical-align: top;\n",
       "    }\n",
       "\n",
       "    .dataframe thead th {\n",
       "        text-align: right;\n",
       "    }\n",
       "</style>\n",
       "<table border=\"1\" class=\"dataframe\">\n",
       "  <thead>\n",
       "    <tr style=\"text-align: right;\">\n",
       "      <th></th>\n",
       "      <th>Date</th>\n",
       "    </tr>\n",
       "  </thead>\n",
       "  <tbody>\n",
       "    <tr>\n",
       "      <th>0</th>\n",
       "      <td>15/01/2020</td>\n",
       "    </tr>\n",
       "    <tr>\n",
       "      <th>1</th>\n",
       "      <td>01/04/2020</td>\n",
       "    </tr>\n",
       "  </tbody>\n",
       "</table>\n",
       "</div>"
      ],
      "text/plain": [
       "         Date\n",
       "0  15/01/2020\n",
       "1  01/04/2020"
      ]
     },
     "execution_count": 46,
     "metadata": {},
     "output_type": "execute_result"
    }
   ],
   "source": [
    "# Put exploratory code here, if needed\n",
    "#make the code so that it prints day/month/year\n",
    "\n",
    "#original code:\n",
    "#dates = ['15/01/2020', '01/04/2020']\n",
    "#df = pd.DataFrame({'Date': dates})\n",
    "#new_df = pd.DataFrame(pd.to_datetime(df['Date']))\n",
    "#new_df\n",
    "\n",
    "\n",
    "#you need to remove pd.to_datatime. that is what switches up the code\n",
    "dates = ['15/01/2020', '01/04/2020']\n",
    "df = pd.DataFrame({'Date': dates})\n",
    "new_df = pd.DataFrame(df['Date'])\n",
    "new_df\n",
    "\n",
    "\n",
    "\n",
    "\n"
   ]
  },
  {
   "cell_type": "markdown",
   "metadata": {},
   "source": [
    "**DO THIS**: Now that you understand what the bug is, fix it in the cell below and **add a comment** explaining what the bug was and how you fixed it."
   ]
  },
  {
   "cell_type": "code",
   "execution_count": 47,
   "metadata": {},
   "outputs": [
    {
     "data": {
      "text/html": [
       "<div>\n",
       "<style scoped>\n",
       "    .dataframe tbody tr th:only-of-type {\n",
       "        vertical-align: middle;\n",
       "    }\n",
       "\n",
       "    .dataframe tbody tr th {\n",
       "        vertical-align: top;\n",
       "    }\n",
       "\n",
       "    .dataframe thead th {\n",
       "        text-align: right;\n",
       "    }\n",
       "</style>\n",
       "<table border=\"1\" class=\"dataframe\">\n",
       "  <thead>\n",
       "    <tr style=\"text-align: right;\">\n",
       "      <th></th>\n",
       "      <th>Date</th>\n",
       "    </tr>\n",
       "  </thead>\n",
       "  <tbody>\n",
       "    <tr>\n",
       "      <th>0</th>\n",
       "      <td>15/01/2020</td>\n",
       "    </tr>\n",
       "    <tr>\n",
       "      <th>1</th>\n",
       "      <td>01/04/2020</td>\n",
       "    </tr>\n",
       "  </tbody>\n",
       "</table>\n",
       "</div>"
      ],
      "text/plain": [
       "         Date\n",
       "0  15/01/2020\n",
       "1  01/04/2020"
      ]
     },
     "execution_count": 47,
     "metadata": {},
     "output_type": "execute_result"
    }
   ],
   "source": [
    "# Put your non-buggy code here\n",
    "#needs to be printed in DAY/MONTH/YEAR\n",
    "\n",
    "\n",
    "dates = ['15/01/2020', '01/04/2020']\n",
    "df = pd.DataFrame({'Date': dates})\n",
    "new_df = pd.DataFrame(df['Date'])\n",
    "new_df\n",
    "\n",
    "#i removed pd.to_datatime. that piece of code converts a string representing a datetime object \n"
   ]
  },
  {
   "cell_type": "markdown",
   "metadata": {},
   "source": [
    "&#9989; **Questions 2.3 (2 points)**: Review the following piece of Pandas code, read the comments to understand what it is supposed to do, then run the code to see what the output is. **DO NOT MODIFY THIS CODE CELL**. (so that you can remember what the bug was)\n",
    "\n",
    "**Hint**: Since the error might be a little confusing on this one, you may want to look up some examples of how the `apply` function works in Pandas."
   ]
  },
  {
   "cell_type": "code",
   "execution_count": 48,
   "metadata": {},
   "outputs": [
    {
     "ename": "TypeError",
     "evalue": "multiply() missing 1 required positional argument: 'x'",
     "output_type": "error",
     "traceback": [
      "\u001b[0;31m---------------------------------------------------------------------------\u001b[0m",
      "\u001b[0;31mTypeError\u001b[0m                                 Traceback (most recent call last)",
      "\u001b[0;32m<ipython-input-48-1cfa2a403d2c>\u001b[0m in \u001b[0;36m<module>\u001b[0;34m\u001b[0m\n\u001b[1;32m      7\u001b[0m   \u001b[0;32mreturn\u001b[0m \u001b[0mx\u001b[0m \u001b[0;34m*\u001b[0m \u001b[0;36m2\u001b[0m\u001b[0;34m\u001b[0m\u001b[0;34m\u001b[0m\u001b[0m\n\u001b[1;32m      8\u001b[0m \u001b[0mdf\u001b[0m \u001b[0;34m=\u001b[0m \u001b[0mpd\u001b[0m\u001b[0;34m.\u001b[0m\u001b[0mDataFrame\u001b[0m\u001b[0;34m(\u001b[0m\u001b[0;34m{\u001b[0m\u001b[0;34m'A'\u001b[0m\u001b[0;34m:\u001b[0m \u001b[0;34m[\u001b[0m\u001b[0;36m1\u001b[0m\u001b[0;34m,\u001b[0m \u001b[0;36m2\u001b[0m\u001b[0;34m,\u001b[0m \u001b[0;36m3\u001b[0m\u001b[0;34m]\u001b[0m\u001b[0;34m,\u001b[0m \u001b[0;34m'B'\u001b[0m\u001b[0;34m:\u001b[0m \u001b[0;34m[\u001b[0m\u001b[0;36m4\u001b[0m\u001b[0;34m,\u001b[0m \u001b[0;36m5\u001b[0m\u001b[0;34m,\u001b[0m \u001b[0;36m6\u001b[0m\u001b[0;34m]\u001b[0m\u001b[0;34m}\u001b[0m\u001b[0;34m)\u001b[0m\u001b[0;34m\u001b[0m\u001b[0;34m\u001b[0m\u001b[0m\n\u001b[0;32m----> 9\u001b[0;31m \u001b[0mnew_df\u001b[0m \u001b[0;34m=\u001b[0m \u001b[0mdf\u001b[0m\u001b[0;34m.\u001b[0m\u001b[0mapply\u001b[0m\u001b[0;34m(\u001b[0m\u001b[0mmultiply\u001b[0m\u001b[0;34m(\u001b[0m\u001b[0;34m)\u001b[0m\u001b[0;34m)\u001b[0m\u001b[0;34m\u001b[0m\u001b[0;34m\u001b[0m\u001b[0m\n\u001b[0m\u001b[1;32m     10\u001b[0m \u001b[0mnew_df\u001b[0m\u001b[0;34m\u001b[0m\u001b[0;34m\u001b[0m\u001b[0m\n",
      "\u001b[0;31mTypeError\u001b[0m: multiply() missing 1 required positional argument: 'x'"
     ]
    }
   ],
   "source": [
    "## DO NOT CHANGE THIS CELL ##\n",
    "\n",
    "# Define a \"multiply by 2\" function\n",
    "# Apply the multiply function to every value in DataFrame \n",
    "# Store the result as a new DataFrame\n",
    "def multiply(x):\n",
    "  return x * 2\n",
    "df = pd.DataFrame({'A': [1, 2, 3], 'B': [4, 5, 6]})\n",
    "new_df = df.apply(multiply())\n",
    "new_df"
   ]
  },
  {
   "cell_type": "markdown",
   "metadata": {},
   "source": [
    "If you need to write any code to explore the nature of the bug, please do so in the cell below."
   ]
  },
  {
   "cell_type": "code",
   "execution_count": 49,
   "metadata": {},
   "outputs": [],
   "source": [
    "# Put exploratory code here, if needed\n"
   ]
  },
  {
   "cell_type": "markdown",
   "metadata": {},
   "source": [
    "**DO THIS**: Now that you understand what the bug is, fix it in the cell below and **add a comment** explaining what the bug was and how you fixed it."
   ]
  },
  {
   "cell_type": "code",
   "execution_count": 50,
   "metadata": {},
   "outputs": [
    {
     "data": {
      "text/html": [
       "<div>\n",
       "<style scoped>\n",
       "    .dataframe tbody tr th:only-of-type {\n",
       "        vertical-align: middle;\n",
       "    }\n",
       "\n",
       "    .dataframe tbody tr th {\n",
       "        vertical-align: top;\n",
       "    }\n",
       "\n",
       "    .dataframe thead th {\n",
       "        text-align: right;\n",
       "    }\n",
       "</style>\n",
       "<table border=\"1\" class=\"dataframe\">\n",
       "  <thead>\n",
       "    <tr style=\"text-align: right;\">\n",
       "      <th></th>\n",
       "      <th>A</th>\n",
       "      <th>B</th>\n",
       "    </tr>\n",
       "  </thead>\n",
       "  <tbody>\n",
       "    <tr>\n",
       "      <th>0</th>\n",
       "      <td>2</td>\n",
       "      <td>8</td>\n",
       "    </tr>\n",
       "    <tr>\n",
       "      <th>1</th>\n",
       "      <td>4</td>\n",
       "      <td>10</td>\n",
       "    </tr>\n",
       "    <tr>\n",
       "      <th>2</th>\n",
       "      <td>6</td>\n",
       "      <td>12</td>\n",
       "    </tr>\n",
       "  </tbody>\n",
       "</table>\n",
       "</div>"
      ],
      "text/plain": [
       "   A   B\n",
       "0  2   8\n",
       "1  4  10\n",
       "2  6  12"
      ]
     },
     "execution_count": 50,
     "metadata": {},
     "output_type": "execute_result"
    }
   ],
   "source": [
    "# Put your non-buggy code here\n",
    "def multiply(x):\n",
    "  return x * 2\n",
    "df = pd.DataFrame({'A': [1, 2, 3], 'B': [4, 5, 6]})\n",
    "new_df = df.apply(multiply)\n",
    "new_df\n",
    "\n",
    "#instead of doing multipy(), i did multiply since I wanted to multiple every value in my df by 2"
   ]
  },
  {
   "cell_type": "markdown",
   "metadata": {},
   "source": [
    "&#9989; **Questions 2.4 (2 points)**: Review the following piece of Pandas code, read the comments to understand what it is supposed to do, then run the code to see what the output is. **DO NOT MODIFY THIS CODE CELL**. (so that you can remember what the bug was)\n",
    "\n",
    "**Note**: The resulting dataframe should look like this, but the values in the \"A\" column should be strings, not integers:\n",
    "\n",
    "|    |   A |   B | \n",
    "|---:|----:|----:|\n",
    "|  0 |   1 |   3 |\n",
    "|  1 |   2 |   4 |\n"
   ]
  },
  {
   "cell_type": "code",
   "execution_count": 51,
   "metadata": {},
   "outputs": [
    {
     "name": "stdout",
     "output_type": "stream",
     "text": [
      "A    object\n",
      "B     int64\n",
      "dtype: object\n"
     ]
    },
    {
     "data": {
      "text/html": [
       "<div>\n",
       "<style scoped>\n",
       "    .dataframe tbody tr th:only-of-type {\n",
       "        vertical-align: middle;\n",
       "    }\n",
       "\n",
       "    .dataframe tbody tr th {\n",
       "        vertical-align: top;\n",
       "    }\n",
       "\n",
       "    .dataframe thead th {\n",
       "        text-align: right;\n",
       "    }\n",
       "</style>\n",
       "<table border=\"1\" class=\"dataframe\">\n",
       "  <thead>\n",
       "    <tr style=\"text-align: right;\">\n",
       "      <th></th>\n",
       "      <th>A</th>\n",
       "      <th>B</th>\n",
       "    </tr>\n",
       "  </thead>\n",
       "  <tbody>\n",
       "    <tr>\n",
       "      <th>0</th>\n",
       "      <td>string</td>\n",
       "      <td>3</td>\n",
       "    </tr>\n",
       "    <tr>\n",
       "      <th>1</th>\n",
       "      <td>string</td>\n",
       "      <td>4</td>\n",
       "    </tr>\n",
       "  </tbody>\n",
       "</table>\n",
       "</div>"
      ],
      "text/plain": [
       "        A  B\n",
       "0  string  3\n",
       "1  string  4"
      ]
     },
     "execution_count": 51,
     "metadata": {},
     "output_type": "execute_result"
    }
   ],
   "source": [
    "## DO NOT CHANGE THIS CELL ##\n",
    "\n",
    "# Create a DataFrame with two columns of numbers\n",
    "# Convert the first column to a string\n",
    "# Check the data types of the DataFrame\n",
    "# Display the DataFrame\n",
    "\n",
    "df = pd.DataFrame({'A': [1, 2], 'B': [3, 4]})\n",
    "df['A'] = 'string'\n",
    "print(df.dtypes)\n",
    "df"
   ]
  },
  {
   "cell_type": "markdown",
   "metadata": {},
   "source": [
    "If you need to write any code to explore the nature of the bug, please do so in the cell below."
   ]
  },
  {
   "cell_type": "code",
   "execution_count": null,
   "metadata": {},
   "outputs": [],
   "source": [
    "# Put exploratory code here, if needed\n"
   ]
  },
  {
   "cell_type": "markdown",
   "metadata": {},
   "source": [
    "**DO THIS**: Now that you understand what the bug is, fix it in the cell below and **add a comment** explaining what the bug was and how you fixed it."
   ]
  },
  {
   "cell_type": "code",
   "execution_count": 52,
   "metadata": {},
   "outputs": [
    {
     "name": "stdout",
     "output_type": "stream",
     "text": [
      "A    object\n",
      "B     int64\n",
      "dtype: object\n"
     ]
    },
    {
     "data": {
      "text/html": [
       "<div>\n",
       "<style scoped>\n",
       "    .dataframe tbody tr th:only-of-type {\n",
       "        vertical-align: middle;\n",
       "    }\n",
       "\n",
       "    .dataframe tbody tr th {\n",
       "        vertical-align: top;\n",
       "    }\n",
       "\n",
       "    .dataframe thead th {\n",
       "        text-align: right;\n",
       "    }\n",
       "</style>\n",
       "<table border=\"1\" class=\"dataframe\">\n",
       "  <thead>\n",
       "    <tr style=\"text-align: right;\">\n",
       "      <th></th>\n",
       "      <th>A</th>\n",
       "      <th>B</th>\n",
       "    </tr>\n",
       "  </thead>\n",
       "  <tbody>\n",
       "    <tr>\n",
       "      <th>0</th>\n",
       "      <td>1</td>\n",
       "      <td>3</td>\n",
       "    </tr>\n",
       "    <tr>\n",
       "      <th>1</th>\n",
       "      <td>2</td>\n",
       "      <td>4</td>\n",
       "    </tr>\n",
       "  </tbody>\n",
       "</table>\n",
       "</div>"
      ],
      "text/plain": [
       "   A  B\n",
       "0  1  3\n",
       "1  2  4"
      ]
     },
     "execution_count": 52,
     "metadata": {},
     "output_type": "execute_result"
    }
   ],
   "source": [
    "# Put your non-buggy code here\n",
    "df = pd.DataFrame({'A': [1, 2], 'B': [3, 4]})\n",
    "df['A'] = df['A'].apply(str)\n",
    "print(df.dtypes)\n",
    "df\n",
    "\n",
    "#to convert column A from an integer to a string, i added .apply(str) to convert the object to a string object instead of an integer object"
   ]
  },
  {
   "cell_type": "markdown",
   "metadata": {},
   "source": [
    "---\n",
    "## &#128721; STOP\n",
    "**Pause to add and commit your changes to your Git repository!**\n",
    "\n",
    "Take a moment to save your notebook, commit the changes to your Git repository using the commit message **\"Committing Part 2\"**, no need to push the changes to GitHub, but you can if you want.\n",
    "\n"
   ]
  },
  {
   "cell_type": "markdown",
   "metadata": {},
   "source": [
    "---\n",
    "<a id=\"unfamiliar\"></a>\n",
    "[Back to ToC](#toc)\n",
    "\n",
    "## Part 3: Downloading and analyzing unfamiliar data (16 points)\n",
    "\n",
    "For this part of the homework assignment, you're to download and analyze a dataset that you've likely not looked at before. You'll perform some simple, exploratory analysis and create basic visualizations."
   ]
  },
  {
   "cell_type": "markdown",
   "metadata": {},
   "source": [
    "In particular, you're going to be working with a dataset that contains information on earthquakes of magnitude three or greater detected in the United States from 1975 through February 2015. The dataset was used in the following Buzzfeed article:\n",
    "\n",
    "[Midwestern States Are Having Big Earthquakes Like Never Before](https://www.buzzfeednews.com/article/danvergano/midwestern-states-are-having-big-earthquakes-like-never-befo)\n",
    "\n",
    "That headline might be a alarming, but you're going to take a look at the data yourself to draw some of your own conclusions. Thankfully, BuzzFeed makes the data it used for the article publicly available. The original data came from the [U.S. Geological Survey](https://earthquake.usgs.gov/earthquakes/search/), but you'll be working with the same dataset that BuzzFeed gathered and prepared, which you can get from here:\n",
    "\n",
    "`https://raw.githubusercontent.com/BuzzFeedNews/2015-03-earthquake-maps/master/data/earthquake_states.csv`\n"
   ]
  },
  {
   "cell_type": "markdown",
   "metadata": {},
   "source": [
    "&#9989; **Question 3.1 (1 point)**: **Do this now:** Using the command line interface, save this file in the same directory as your notebook so you can load it directly. **Then, in the cell below, put the command you used to download the file.**"
   ]
  },
  {
   "cell_type": "markdown",
   "metadata": {},
   "source": [
    "```bash\n",
    "curl -O https://raw.githubusercontent.com/BuzzFeedNews/2015-03-earthquake-maps/master/data/earthquake_states.csv\n",
    "```"
   ]
  },
  {
   "cell_type": "markdown",
   "metadata": {},
   "source": [
    "&#9989; **Question 3.2 (2 points)**: To get started, **read in the `earthquake_states.csv` dataset** and then display the first 15 rows of the data using **Pandas**."
   ]
  },
  {
   "cell_type": "code",
   "execution_count": 111,
   "metadata": {},
   "outputs": [
    {
     "data": {
      "text/html": [
       "<div>\n",
       "<style scoped>\n",
       "    .dataframe tbody tr th:only-of-type {\n",
       "        vertical-align: middle;\n",
       "    }\n",
       "\n",
       "    .dataframe tbody tr th {\n",
       "        vertical-align: top;\n",
       "    }\n",
       "\n",
       "    .dataframe thead th {\n",
       "        text-align: right;\n",
       "    }\n",
       "</style>\n",
       "<table border=\"1\" class=\"dataframe\">\n",
       "  <thead>\n",
       "    <tr style=\"text-align: right;\">\n",
       "      <th></th>\n",
       "      <th>time</th>\n",
       "      <th>latitude</th>\n",
       "      <th>longitude</th>\n",
       "      <th>mag</th>\n",
       "      <th>id</th>\n",
       "      <th>updated</th>\n",
       "      <th>place</th>\n",
       "      <th>type</th>\n",
       "      <th>geom</th>\n",
       "      <th>state</th>\n",
       "    </tr>\n",
       "  </thead>\n",
       "  <tbody>\n",
       "    <tr>\n",
       "      <th>0</th>\n",
       "      <td>2014-12-30 00:12:02.71-05</td>\n",
       "      <td>35.936667</td>\n",
       "      <td>-117.222167</td>\n",
       "      <td>3.47</td>\n",
       "      <td>ci37300152</td>\n",
       "      <td>2015-02-19 21:27:38.024-05</td>\n",
       "      <td>23km NE of Trona, California</td>\n",
       "      <td>earthquake</td>\n",
       "      <td>0101000020AD100000A9B0ADFA374E5DC04AE0C5B1E4F7...</td>\n",
       "      <td>California</td>\n",
       "    </tr>\n",
       "    <tr>\n",
       "      <th>1</th>\n",
       "      <td>2012-08-27 03:24:12.06-04</td>\n",
       "      <td>7.853000</td>\n",
       "      <td>-78.214000</td>\n",
       "      <td>4.30</td>\n",
       "      <td>usp000jqve</td>\n",
       "      <td>2014-11-06 20:48:37.813-05</td>\n",
       "      <td>Panama</td>\n",
       "      <td>earthquake</td>\n",
       "      <td>0101000020AD10000004560E2DB28D53C0B6F3FDD47869...</td>\n",
       "      <td>NaN</td>\n",
       "    </tr>\n",
       "    <tr>\n",
       "      <th>2</th>\n",
       "      <td>2014-12-29 23:13:42-05</td>\n",
       "      <td>12.817000</td>\n",
       "      <td>-88.558000</td>\n",
       "      <td>4.30</td>\n",
       "      <td>usc000tapp</td>\n",
       "      <td>2015-02-19 21:24:36.573-05</td>\n",
       "      <td>51km S of Puerto El Triunfo, El Salvador</td>\n",
       "      <td>earthquake</td>\n",
       "      <td>0101000020AD100000C0CAA145B62356C0FCA9F1D24DA2...</td>\n",
       "      <td>NaN</td>\n",
       "    </tr>\n",
       "    <tr>\n",
       "      <th>3</th>\n",
       "      <td>2014-12-29 23:08:52.2-05</td>\n",
       "      <td>14.837000</td>\n",
       "      <td>-93.656000</td>\n",
       "      <td>3.70</td>\n",
       "      <td>usc000te0p</td>\n",
       "      <td>2015-02-07 17:16:57.585-05</td>\n",
       "      <td>104km SW of Mapastepec, Mexico</td>\n",
       "      <td>earthquake</td>\n",
       "      <td>0101000020AD100000448B6CE7FB6957C0068195438BAC...</td>\n",
       "      <td>NaN</td>\n",
       "    </tr>\n",
       "    <tr>\n",
       "      <th>4</th>\n",
       "      <td>2014-12-29 17:50:55-05</td>\n",
       "      <td>36.754500</td>\n",
       "      <td>-98.177800</td>\n",
       "      <td>3.10</td>\n",
       "      <td>usc000takq</td>\n",
       "      <td>2014-12-29 20:53:36.056-05</td>\n",
       "      <td>15km E of Cherokee, Oklahoma</td>\n",
       "      <td>earthquake</td>\n",
       "      <td>0101000020AD100000A54E4013618B58C07F6ABC749360...</td>\n",
       "      <td>Oklahoma</td>\n",
       "    </tr>\n",
       "    <tr>\n",
       "      <th>5</th>\n",
       "      <td>2014-12-29 16:15:55.2-05</td>\n",
       "      <td>36.836300</td>\n",
       "      <td>-97.875700</td>\n",
       "      <td>3.30</td>\n",
       "      <td>usc000tajx</td>\n",
       "      <td>2015-01-29 13:16:07.085-05</td>\n",
       "      <td>13km WNW of Medford, Oklahoma</td>\n",
       "      <td>earthquake</td>\n",
       "      <td>0101000020AD100000DC4603780B7858C089D2DEE00B6B...</td>\n",
       "      <td>Oklahoma</td>\n",
       "    </tr>\n",
       "    <tr>\n",
       "      <th>6</th>\n",
       "      <td>2011-11-05 13:42:26-04</td>\n",
       "      <td>35.530000</td>\n",
       "      <td>-96.766000</td>\n",
       "      <td>3.20</td>\n",
       "      <td>usp000jach</td>\n",
       "      <td>2014-11-06 20:46:18-05</td>\n",
       "      <td>Oklahoma</td>\n",
       "      <td>earthquake</td>\n",
       "      <td>0101000020AD1000001B2FDD24063158C0A4703D0AD7C3...</td>\n",
       "      <td>Oklahoma</td>\n",
       "    </tr>\n",
       "    <tr>\n",
       "      <th>7</th>\n",
       "      <td>2014-12-29 13:42:20.95-05</td>\n",
       "      <td>40.296167</td>\n",
       "      <td>-124.517000</td>\n",
       "      <td>3.63</td>\n",
       "      <td>nc72372181</td>\n",
       "      <td>2015-01-30 19:18:12.506-05</td>\n",
       "      <td>37km SW of Ferndale, California</td>\n",
       "      <td>earthquake</td>\n",
       "      <td>0101000020AD1000000D022B8716215FC0065559CAE825...</td>\n",
       "      <td>NaN</td>\n",
       "    </tr>\n",
       "    <tr>\n",
       "      <th>8</th>\n",
       "      <td>2013-07-01 20:17:28.09-04</td>\n",
       "      <td>17.059000</td>\n",
       "      <td>-95.429000</td>\n",
       "      <td>4.40</td>\n",
       "      <td>usp000k1mt</td>\n",
       "      <td>2014-11-06 20:51:11.256-05</td>\n",
       "      <td>Oaxaca, Mexico</td>\n",
       "      <td>earthquake</td>\n",
       "      <td>0101000020AD100000FA7E6ABC74DB57C0C976BE9F1A0F...</td>\n",
       "      <td>NaN</td>\n",
       "    </tr>\n",
       "    <tr>\n",
       "      <th>9</th>\n",
       "      <td>2013-06-07 18:33:11.19-04</td>\n",
       "      <td>17.260000</td>\n",
       "      <td>-95.576000</td>\n",
       "      <td>4.10</td>\n",
       "      <td>usp000k15f</td>\n",
       "      <td>2014-11-06 20:51:02.709-05</td>\n",
       "      <td>Oaxaca, Mexico</td>\n",
       "      <td>earthquake</td>\n",
       "      <td>0101000020AD100000BF9F1A2FDDE457C0C3F5285C8F42...</td>\n",
       "      <td>NaN</td>\n",
       "    </tr>\n",
       "    <tr>\n",
       "      <th>10</th>\n",
       "      <td>2010-03-30 20:42:19-04</td>\n",
       "      <td>44.672000</td>\n",
       "      <td>-68.752000</td>\n",
       "      <td>3.00</td>\n",
       "      <td>usp000ha5h</td>\n",
       "      <td>2015-01-28 16:43:35.797-05</td>\n",
       "      <td>Maine</td>\n",
       "      <td>earthquake</td>\n",
       "      <td>0101000020AD100000E3A59BC4203051C0BC7493180456...</td>\n",
       "      <td>Maine</td>\n",
       "    </tr>\n",
       "    <tr>\n",
       "      <th>11</th>\n",
       "      <td>2014-12-29 12:54:59-05</td>\n",
       "      <td>52.762700</td>\n",
       "      <td>-167.970300</td>\n",
       "      <td>3.00</td>\n",
       "      <td>usc000tbsa</td>\n",
       "      <td>2015-01-30 06:39:48.732-05</td>\n",
       "      <td>63km ESE of Nikolski, Alaska</td>\n",
       "      <td>earthquake</td>\n",
       "      <td>0101000020AD100000E2E995B20CFF64C061545227A061...</td>\n",
       "      <td>NaN</td>\n",
       "    </tr>\n",
       "    <tr>\n",
       "      <th>12</th>\n",
       "      <td>2010-01-13 18:54:16.6-05</td>\n",
       "      <td>18.412000</td>\n",
       "      <td>-72.579000</td>\n",
       "      <td>4.50</td>\n",
       "      <td>usp000h62y</td>\n",
       "      <td>2014-11-06 20:40:27.536-05</td>\n",
       "      <td>Haiti region</td>\n",
       "      <td>earthquake</td>\n",
       "      <td>0101000020AD100000931804560E2552C0B6F3FDD47869...</td>\n",
       "      <td>NaN</td>\n",
       "    </tr>\n",
       "    <tr>\n",
       "      <th>13</th>\n",
       "      <td>2009-07-29 10:00:36.71-04</td>\n",
       "      <td>36.799000</td>\n",
       "      <td>-104.831000</td>\n",
       "      <td>4.10</td>\n",
       "      <td>usp000gzsh</td>\n",
       "      <td>2014-11-06 20:39:23.029-05</td>\n",
       "      <td>New Mexico</td>\n",
       "      <td>earthquake</td>\n",
       "      <td>0101000020AD10000077BE9F1A2F355AC083C0CAA14566...</td>\n",
       "      <td>New Mexico</td>\n",
       "    </tr>\n",
       "    <tr>\n",
       "      <th>14</th>\n",
       "      <td>2014-12-29 08:30:05.1-05</td>\n",
       "      <td>36.361000</td>\n",
       "      <td>-97.451100</td>\n",
       "      <td>3.00</td>\n",
       "      <td>usc000taic</td>\n",
       "      <td>2015-02-03 23:59:38.122-05</td>\n",
       "      <td>16km WNW of Perry, Oklahoma</td>\n",
       "      <td>earthquake</td>\n",
       "      <td>0101000020AD10000070CE88D2DE5C58C091ED7C3F352E...</td>\n",
       "      <td>Oklahoma</td>\n",
       "    </tr>\n",
       "  </tbody>\n",
       "</table>\n",
       "</div>"
      ],
      "text/plain": [
       "                         time   latitude   longitude   mag          id  \\\n",
       "0   2014-12-30 00:12:02.71-05  35.936667 -117.222167  3.47  ci37300152   \n",
       "1   2012-08-27 03:24:12.06-04   7.853000  -78.214000  4.30  usp000jqve   \n",
       "2      2014-12-29 23:13:42-05  12.817000  -88.558000  4.30  usc000tapp   \n",
       "3    2014-12-29 23:08:52.2-05  14.837000  -93.656000  3.70  usc000te0p   \n",
       "4      2014-12-29 17:50:55-05  36.754500  -98.177800  3.10  usc000takq   \n",
       "5    2014-12-29 16:15:55.2-05  36.836300  -97.875700  3.30  usc000tajx   \n",
       "6      2011-11-05 13:42:26-04  35.530000  -96.766000  3.20  usp000jach   \n",
       "7   2014-12-29 13:42:20.95-05  40.296167 -124.517000  3.63  nc72372181   \n",
       "8   2013-07-01 20:17:28.09-04  17.059000  -95.429000  4.40  usp000k1mt   \n",
       "9   2013-06-07 18:33:11.19-04  17.260000  -95.576000  4.10  usp000k15f   \n",
       "10     2010-03-30 20:42:19-04  44.672000  -68.752000  3.00  usp000ha5h   \n",
       "11     2014-12-29 12:54:59-05  52.762700 -167.970300  3.00  usc000tbsa   \n",
       "12   2010-01-13 18:54:16.6-05  18.412000  -72.579000  4.50  usp000h62y   \n",
       "13  2009-07-29 10:00:36.71-04  36.799000 -104.831000  4.10  usp000gzsh   \n",
       "14   2014-12-29 08:30:05.1-05  36.361000  -97.451100  3.00  usc000taic   \n",
       "\n",
       "                       updated                                     place  \\\n",
       "0   2015-02-19 21:27:38.024-05              23km NE of Trona, California   \n",
       "1   2014-11-06 20:48:37.813-05                                    Panama   \n",
       "2   2015-02-19 21:24:36.573-05  51km S of Puerto El Triunfo, El Salvador   \n",
       "3   2015-02-07 17:16:57.585-05            104km SW of Mapastepec, Mexico   \n",
       "4   2014-12-29 20:53:36.056-05              15km E of Cherokee, Oklahoma   \n",
       "5   2015-01-29 13:16:07.085-05             13km WNW of Medford, Oklahoma   \n",
       "6       2014-11-06 20:46:18-05                                  Oklahoma   \n",
       "7   2015-01-30 19:18:12.506-05           37km SW of Ferndale, California   \n",
       "8   2014-11-06 20:51:11.256-05                            Oaxaca, Mexico   \n",
       "9   2014-11-06 20:51:02.709-05                            Oaxaca, Mexico   \n",
       "10  2015-01-28 16:43:35.797-05                                     Maine   \n",
       "11  2015-01-30 06:39:48.732-05              63km ESE of Nikolski, Alaska   \n",
       "12  2014-11-06 20:40:27.536-05                              Haiti region   \n",
       "13  2014-11-06 20:39:23.029-05                                New Mexico   \n",
       "14  2015-02-03 23:59:38.122-05               16km WNW of Perry, Oklahoma   \n",
       "\n",
       "          type                                               geom       state  \n",
       "0   earthquake  0101000020AD100000A9B0ADFA374E5DC04AE0C5B1E4F7...  California  \n",
       "1   earthquake  0101000020AD10000004560E2DB28D53C0B6F3FDD47869...         NaN  \n",
       "2   earthquake  0101000020AD100000C0CAA145B62356C0FCA9F1D24DA2...         NaN  \n",
       "3   earthquake  0101000020AD100000448B6CE7FB6957C0068195438BAC...         NaN  \n",
       "4   earthquake  0101000020AD100000A54E4013618B58C07F6ABC749360...    Oklahoma  \n",
       "5   earthquake  0101000020AD100000DC4603780B7858C089D2DEE00B6B...    Oklahoma  \n",
       "6   earthquake  0101000020AD1000001B2FDD24063158C0A4703D0AD7C3...    Oklahoma  \n",
       "7   earthquake  0101000020AD1000000D022B8716215FC0065559CAE825...         NaN  \n",
       "8   earthquake  0101000020AD100000FA7E6ABC74DB57C0C976BE9F1A0F...         NaN  \n",
       "9   earthquake  0101000020AD100000BF9F1A2FDDE457C0C3F5285C8F42...         NaN  \n",
       "10  earthquake  0101000020AD100000E3A59BC4203051C0BC7493180456...       Maine  \n",
       "11  earthquake  0101000020AD100000E2E995B20CFF64C061545227A061...         NaN  \n",
       "12  earthquake  0101000020AD100000931804560E2552C0B6F3FDD47869...         NaN  \n",
       "13  earthquake  0101000020AD10000077BE9F1A2F355AC083C0CAA14566...  New Mexico  \n",
       "14  earthquake  0101000020AD10000070CE88D2DE5C58C091ED7C3F352E...    Oklahoma  "
      ]
     },
     "execution_count": 111,
     "metadata": {},
     "output_type": "execute_result"
    }
   ],
   "source": [
    "### Put your code here\n",
    "import pandas as pd\n",
    "earthquake = pd.read_csv('earthquake_states.csv')\n",
    "earthquake.head(15)\n"
   ]
  },
  {
   "cell_type": "markdown",
   "metadata": {},
   "source": [
    "&#9989; **Question 3.3 (5 points)**: Through visual inspection, let's try confirm that these earthquake readings do, in fact, come from the United States based on their latitude and longitude coordinates.\n",
    "\n",
    "**Make a [scatter plot](https://en.wikipedia.org/wiki/Scatter_plot) of latitude (on the $y$-axis) vs. longitude (on the $x$-axis)**.\n",
    "\n",
    "Also, avoid using all of the default plot stylings and **set the following**:\n",
    "* Set the size of the scatter plot points to 1\n",
    "* Change the color of the plot to something other than the default. You choose!\n",
    "* Adjust the aspect ratio of the plot so that it is \"equal\". This ensures the distances are the same in the x-direction as in the y-direction.\n",
    "\n",
    "**Give your $x$ and $y$ axes appropriate labels and double check that you put the right values on the right axis!** (*Remember*: longitude should run east to west and latitude should run north to south.)\n",
    "\n",
    "Does the resulting plot meet your expectations? Is there anything that surprises you about the plot? Discuss your observations of the plot in the markdown cell below."
   ]
  },
  {
   "cell_type": "code",
   "execution_count": 112,
   "metadata": {},
   "outputs": [
    {
     "data": {
      "text/plain": [
       "(-175.10425, -43.01075, 4.46405, 75.89695)"
      ]
     },
     "execution_count": 112,
     "metadata": {},
     "output_type": "execute_result"
    },
    {
     "data": {
      "image/png": "[encoded data removed]",
      "text/plain": [
       "<Figure size 432x288 with 1 Axes>"
      ]
     },
     "metadata": {
      "needs_background": "light"
     },
     "output_type": "display_data"
    }
   ],
   "source": [
    "### Put your code here\n",
    "import pandas as pd\n",
    "import matplotlib.pyplot as plt \n",
    "\n",
    "x = earthquake['longitude']\n",
    "y = earthquake['latitude']\n",
    "plt.scatter(x, y, s=1, color=\"pink\")\n",
    "\n",
    "plt.xlabel('longitude')\n",
    "plt.ylabel('latitude')\n",
    "plt.title('longitude vs latitude')\n",
    "plt.axis('equal')"
   ]
  },
  {
   "cell_type": "markdown",
   "metadata": {},
   "source": [
    "**<font size=+3>&#9998;</font> Do This**: According to the graph above, I can above that as the latitude increases, the longitude of each state's earthquakes also increases"
   ]
  },
  {
   "cell_type": "markdown",
   "metadata": {},
   "source": [
    "&#9989; **Question 3.4 (1 point)**: If you took a close look at the data, you might have noticed that some of the values in the `state` column show up as \"NaN\". This might explain some of your observations when you visualized the data. Since we want to look at earthquakes that actually occured inside US states, **what built-in Pandas function can you use to drop missing data from a Pandas frame?**\n",
    "\n",
    "\n",
    "**Use this function to create a new dataframe that only contains the rows with a valid entry in the `state` column.**"
   ]
  },
  {
   "cell_type": "code",
   "execution_count": 113,
   "metadata": {},
   "outputs": [
    {
     "data": {
      "text/html": [
       "<div>\n",
       "<style scoped>\n",
       "    .dataframe tbody tr th:only-of-type {\n",
       "        vertical-align: middle;\n",
       "    }\n",
       "\n",
       "    .dataframe tbody tr th {\n",
       "        vertical-align: top;\n",
       "    }\n",
       "\n",
       "    .dataframe thead th {\n",
       "        text-align: right;\n",
       "    }\n",
       "</style>\n",
       "<table border=\"1\" class=\"dataframe\">\n",
       "  <thead>\n",
       "    <tr style=\"text-align: right;\">\n",
       "      <th></th>\n",
       "      <th>time</th>\n",
       "      <th>latitude</th>\n",
       "      <th>longitude</th>\n",
       "      <th>mag</th>\n",
       "      <th>id</th>\n",
       "      <th>updated</th>\n",
       "      <th>place</th>\n",
       "      <th>type</th>\n",
       "      <th>geom</th>\n",
       "      <th>state</th>\n",
       "    </tr>\n",
       "  </thead>\n",
       "  <tbody>\n",
       "    <tr>\n",
       "      <th>0</th>\n",
       "      <td>2014-12-30 00:12:02.71-05</td>\n",
       "      <td>35.936667</td>\n",
       "      <td>-117.222167</td>\n",
       "      <td>3.47</td>\n",
       "      <td>ci37300152</td>\n",
       "      <td>2015-02-19 21:27:38.024-05</td>\n",
       "      <td>23km NE of Trona, California</td>\n",
       "      <td>earthquake</td>\n",
       "      <td>0101000020AD100000A9B0ADFA374E5DC04AE0C5B1E4F7...</td>\n",
       "      <td>California</td>\n",
       "    </tr>\n",
       "    <tr>\n",
       "      <th>4</th>\n",
       "      <td>2014-12-29 17:50:55-05</td>\n",
       "      <td>36.754500</td>\n",
       "      <td>-98.177800</td>\n",
       "      <td>3.10</td>\n",
       "      <td>usc000takq</td>\n",
       "      <td>2014-12-29 20:53:36.056-05</td>\n",
       "      <td>15km E of Cherokee, Oklahoma</td>\n",
       "      <td>earthquake</td>\n",
       "      <td>0101000020AD100000A54E4013618B58C07F6ABC749360...</td>\n",
       "      <td>Oklahoma</td>\n",
       "    </tr>\n",
       "    <tr>\n",
       "      <th>5</th>\n",
       "      <td>2014-12-29 16:15:55.2-05</td>\n",
       "      <td>36.836300</td>\n",
       "      <td>-97.875700</td>\n",
       "      <td>3.30</td>\n",
       "      <td>usc000tajx</td>\n",
       "      <td>2015-01-29 13:16:07.085-05</td>\n",
       "      <td>13km WNW of Medford, Oklahoma</td>\n",
       "      <td>earthquake</td>\n",
       "      <td>0101000020AD100000DC4603780B7858C089D2DEE00B6B...</td>\n",
       "      <td>Oklahoma</td>\n",
       "    </tr>\n",
       "    <tr>\n",
       "      <th>6</th>\n",
       "      <td>2011-11-05 13:42:26-04</td>\n",
       "      <td>35.530000</td>\n",
       "      <td>-96.766000</td>\n",
       "      <td>3.20</td>\n",
       "      <td>usp000jach</td>\n",
       "      <td>2014-11-06 20:46:18-05</td>\n",
       "      <td>Oklahoma</td>\n",
       "      <td>earthquake</td>\n",
       "      <td>0101000020AD1000001B2FDD24063158C0A4703D0AD7C3...</td>\n",
       "      <td>Oklahoma</td>\n",
       "    </tr>\n",
       "    <tr>\n",
       "      <th>10</th>\n",
       "      <td>2010-03-30 20:42:19-04</td>\n",
       "      <td>44.672000</td>\n",
       "      <td>-68.752000</td>\n",
       "      <td>3.00</td>\n",
       "      <td>usp000ha5h</td>\n",
       "      <td>2015-01-28 16:43:35.797-05</td>\n",
       "      <td>Maine</td>\n",
       "      <td>earthquake</td>\n",
       "      <td>0101000020AD100000E3A59BC4203051C0BC7493180456...</td>\n",
       "      <td>Maine</td>\n",
       "    </tr>\n",
       "    <tr>\n",
       "      <th>...</th>\n",
       "      <td>...</td>\n",
       "      <td>...</td>\n",
       "      <td>...</td>\n",
       "      <td>...</td>\n",
       "      <td>...</td>\n",
       "      <td>...</td>\n",
       "      <td>...</td>\n",
       "      <td>...</td>\n",
       "      <td>...</td>\n",
       "      <td>...</td>\n",
       "    </tr>\n",
       "    <tr>\n",
       "      <th>110141</th>\n",
       "      <td>1970-11-03 02:30:13-05</td>\n",
       "      <td>61.981000</td>\n",
       "      <td>-151.024000</td>\n",
       "      <td>5.70</td>\n",
       "      <td>iscgem789808</td>\n",
       "      <td>2015-02-12 18:13:04.512-05</td>\n",
       "      <td>Southern Alaska</td>\n",
       "      <td>earthquake</td>\n",
       "      <td>0101000020AD10000054E3A59BC4E062C021B0726891FD...</td>\n",
       "      <td>Alaska</td>\n",
       "    </tr>\n",
       "    <tr>\n",
       "      <th>110143</th>\n",
       "      <td>1970-08-18 17:52:08-04</td>\n",
       "      <td>60.538000</td>\n",
       "      <td>-145.537000</td>\n",
       "      <td>6.00</td>\n",
       "      <td>iscgem792985</td>\n",
       "      <td>2015-02-12 17:42:11.415-05</td>\n",
       "      <td>Southern Alaska</td>\n",
       "      <td>earthquake</td>\n",
       "      <td>0101000020AD10000077BE9F1A2F3162C0BF9F1A2FDD44...</td>\n",
       "      <td>Alaska</td>\n",
       "    </tr>\n",
       "    <tr>\n",
       "      <th>110144</th>\n",
       "      <td>1970-08-14 03:39:33-04</td>\n",
       "      <td>64.900000</td>\n",
       "      <td>-147.800000</td>\n",
       "      <td>5.00</td>\n",
       "      <td>atlas19700814033933</td>\n",
       "      <td>2015-02-03 10:44:42.679-05</td>\n",
       "      <td>Central Alaska</td>\n",
       "      <td>earthquake</td>\n",
       "      <td>0101000020AD1000009A999999997962C09A9999999939...</td>\n",
       "      <td>Alaska</td>\n",
       "    </tr>\n",
       "    <tr>\n",
       "      <th>110166</th>\n",
       "      <td>1970-03-11 22:38:36-05</td>\n",
       "      <td>57.399000</td>\n",
       "      <td>-154.058000</td>\n",
       "      <td>6.00</td>\n",
       "      <td>iscgem797882</td>\n",
       "      <td>2015-02-12 18:48:52.157-05</td>\n",
       "      <td>Kodiak Island region, Alaska</td>\n",
       "      <td>earthquake</td>\n",
       "      <td>0101000020AD10000060E5D022DB4163C04F8D976E12B3...</td>\n",
       "      <td>Alaska</td>\n",
       "    </tr>\n",
       "    <tr>\n",
       "      <th>110169</th>\n",
       "      <td>1970-01-16 08:05:41-05</td>\n",
       "      <td>60.250000</td>\n",
       "      <td>-152.734000</td>\n",
       "      <td>5.60</td>\n",
       "      <td>iscgem800129</td>\n",
       "      <td>2015-02-12 16:03:22.482-05</td>\n",
       "      <td>Southern Alaska</td>\n",
       "      <td>earthquake</td>\n",
       "      <td>0101000020AD100000736891ED7C1763C0000000000020...</td>\n",
       "      <td>Alaska</td>\n",
       "    </tr>\n",
       "  </tbody>\n",
       "</table>\n",
       "<p>40000 rows × 10 columns</p>\n",
       "</div>"
      ],
      "text/plain": [
       "                             time   latitude   longitude   mag  \\\n",
       "0       2014-12-30 00:12:02.71-05  35.936667 -117.222167  3.47   \n",
       "4          2014-12-29 17:50:55-05  36.754500  -98.177800  3.10   \n",
       "5        2014-12-29 16:15:55.2-05  36.836300  -97.875700  3.30   \n",
       "6          2011-11-05 13:42:26-04  35.530000  -96.766000  3.20   \n",
       "10         2010-03-30 20:42:19-04  44.672000  -68.752000  3.00   \n",
       "...                           ...        ...         ...   ...   \n",
       "110141     1970-11-03 02:30:13-05  61.981000 -151.024000  5.70   \n",
       "110143     1970-08-18 17:52:08-04  60.538000 -145.537000  6.00   \n",
       "110144     1970-08-14 03:39:33-04  64.900000 -147.800000  5.00   \n",
       "110166     1970-03-11 22:38:36-05  57.399000 -154.058000  6.00   \n",
       "110169     1970-01-16 08:05:41-05  60.250000 -152.734000  5.60   \n",
       "\n",
       "                         id                     updated  \\\n",
       "0                ci37300152  2015-02-19 21:27:38.024-05   \n",
       "4                usc000takq  2014-12-29 20:53:36.056-05   \n",
       "5                usc000tajx  2015-01-29 13:16:07.085-05   \n",
       "6                usp000jach      2014-11-06 20:46:18-05   \n",
       "10               usp000ha5h  2015-01-28 16:43:35.797-05   \n",
       "...                     ...                         ...   \n",
       "110141         iscgem789808  2015-02-12 18:13:04.512-05   \n",
       "110143         iscgem792985  2015-02-12 17:42:11.415-05   \n",
       "110144  atlas19700814033933  2015-02-03 10:44:42.679-05   \n",
       "110166         iscgem797882  2015-02-12 18:48:52.157-05   \n",
       "110169         iscgem800129  2015-02-12 16:03:22.482-05   \n",
       "\n",
       "                                place        type  \\\n",
       "0        23km NE of Trona, California  earthquake   \n",
       "4        15km E of Cherokee, Oklahoma  earthquake   \n",
       "5       13km WNW of Medford, Oklahoma  earthquake   \n",
       "6                            Oklahoma  earthquake   \n",
       "10                              Maine  earthquake   \n",
       "...                               ...         ...   \n",
       "110141                Southern Alaska  earthquake   \n",
       "110143                Southern Alaska  earthquake   \n",
       "110144                 Central Alaska  earthquake   \n",
       "110166   Kodiak Island region, Alaska  earthquake   \n",
       "110169                Southern Alaska  earthquake   \n",
       "\n",
       "                                                     geom       state  \n",
       "0       0101000020AD100000A9B0ADFA374E5DC04AE0C5B1E4F7...  California  \n",
       "4       0101000020AD100000A54E4013618B58C07F6ABC749360...    Oklahoma  \n",
       "5       0101000020AD100000DC4603780B7858C089D2DEE00B6B...    Oklahoma  \n",
       "6       0101000020AD1000001B2FDD24063158C0A4703D0AD7C3...    Oklahoma  \n",
       "10      0101000020AD100000E3A59BC4203051C0BC7493180456...       Maine  \n",
       "...                                                   ...         ...  \n",
       "110141  0101000020AD10000054E3A59BC4E062C021B0726891FD...      Alaska  \n",
       "110143  0101000020AD10000077BE9F1A2F3162C0BF9F1A2FDD44...      Alaska  \n",
       "110144  0101000020AD1000009A999999997962C09A9999999939...      Alaska  \n",
       "110166  0101000020AD10000060E5D022DB4163C04F8D976E12B3...      Alaska  \n",
       "110169  0101000020AD100000736891ED7C1763C0000000000020...      Alaska  \n",
       "\n",
       "[40000 rows x 10 columns]"
      ]
     },
     "execution_count": 113,
     "metadata": {},
     "output_type": "execute_result"
    }
   ],
   "source": [
    "### Put your code here\n",
    "\n",
    "#dropped_earthquake = earthquake['state'].dropna()\n",
    "#print(dropped_earthquake)\n",
    "\n",
    "\n",
    "\n",
    "\n",
    "dropped_earthquake = earthquake.dropna(subset=['state'])\n",
    "dropped_earthquake\n",
    "\n",
    "\n",
    "\n"
   ]
  },
  {
   "cell_type": "markdown",
   "metadata": {},
   "source": [
    "&#9989; **Question 3.5 (3 points)**: How common are the high magntiude earthquakes?\n",
    "\n",
    "**Make a [histogram](https://en.wikipedia.org/wiki/Histogram) of the earthquake magnitudes using your *new dataframe that contains only the valid US state data*.** If you don't recall how to make histograms using Pandas or matplotlib, you might need to do a bit of internet search and review some documentation. You should try modifying the number of bins your histogram and **use something other than the default**. Choose something that you think gives you a reasonable view of the data.\n",
    "\n",
    "**What does your histogram tell you about how common earthquakes above a magnitude of 5 are?** Explain your answer in the markdown cell below!"
   ]
  },
  {
   "cell_type": "code",
   "execution_count": 114,
   "metadata": {},
   "outputs": [
    {
     "data": {
      "image/png": "[encoded data removed]",
      "text/plain": [
       "<Figure size 432x288 with 1 Axes>"
      ]
     },
     "metadata": {
      "needs_background": "light"
     },
     "output_type": "display_data"
    }
   ],
   "source": [
    "### Put your code here\n",
    "import pandas as pd\n",
    "import matplotlib.pyplot as plt \n",
    "\n",
    "magnitude = dropped_earthquake['mag']\n",
    "plt.hist(magnitude, bins=50, color=\"pink\")\n",
    "\n",
    "plt.xlabel('magnitude')\n",
    "plt.ylabel('occurence')\n",
    "plt.title('earthquake magnitudes for US states')\n",
    "plt.show()\n",
    "\n",
    "#ask about axises for this"
   ]
  },
  {
   "cell_type": "markdown",
   "metadata": {},
   "source": [
    "**<font size=+3>&#9998;</font> Do This**: *Record your answers to the question at the end of Question 3.5 here.*"
   ]
  },
  {
   "cell_type": "markdown",
   "metadata": {},
   "source": [
    "&#9989; **Question 3.6 (2 points)**: Now that you've used your histogram to get a sense for how common earthquakes above a magnitude of 5 are, write a bit of code to **calculate the percentage of earthquakes that are above a magnitude of 5**. (You should use your new dataframe that contains only the valid US state data.)\n",
    "\n",
    "Make sure to **print out your answer** in a readable way."
   ]
  },
  {
   "cell_type": "code",
   "execution_count": 115,
   "metadata": {},
   "outputs": [
    {
     "name": "stdout",
     "output_type": "stream",
     "text": [
      "The percentage of earthquakes that are above a magnitude of 5 is 1.2775\n"
     ]
    }
   ],
   "source": [
    "### Put your code here\n",
    "\n",
    "mag_of_5 = dropped_earthquake[dropped_earthquake['mag'] > 5]\n",
    "percent_of_5 = (len(mag_of_5)/len(dropped_earthquake)) * 100\n",
    "print(\"The percentage of earthquakes that are above a magnitude of 5 is\", percent_of_5)"
   ]
  },
  {
   "cell_type": "markdown",
   "metadata": {},
   "source": [
    "&#9989; **Question 3.7 (2 points)**: The original Buzzfeed article suggests that Midwestern states are seeing an uptick in earthquakes, but **how bad are things in Michigan?**.\n",
    "\n",
    "**Using a mask, create a new dataframe that just contains earthquakes that happened in Michigan and display that dataframe.**\n",
    "\n",
    "*If you can't figure out how to do this using a mask, but can complete it another way, feel free to do so for some fraction of the points.*\n",
    "\n",
    "Once you have your new dataframe, inspect it and answer the following questions:\n",
    "\n",
    "* How many _unique_ Michigan earthquakes occurred in the timeframe covered by this dataset? (Make sure you look carefully at the resulting dataframe!)\n",
    "* Does everything in the dataframe make sense? Does it seem like there's anything wrong with the data?\n",
    "* Where did the 1994 earthquake occur? You should be be able to figure this out using the latitude and longitude information (and map of course!)."
   ]
  },
  {
   "cell_type": "code",
   "execution_count": 116,
   "metadata": {},
   "outputs": [
    {
     "data": {
      "text/html": [
       "<div>\n",
       "<style scoped>\n",
       "    .dataframe tbody tr th:only-of-type {\n",
       "        vertical-align: middle;\n",
       "    }\n",
       "\n",
       "    .dataframe tbody tr th {\n",
       "        vertical-align: top;\n",
       "    }\n",
       "\n",
       "    .dataframe thead th {\n",
       "        text-align: right;\n",
       "    }\n",
       "</style>\n",
       "<table border=\"1\" class=\"dataframe\">\n",
       "  <thead>\n",
       "    <tr style=\"text-align: right;\">\n",
       "      <th></th>\n",
       "      <th>time</th>\n",
       "      <th>latitude</th>\n",
       "      <th>longitude</th>\n",
       "      <th>mag</th>\n",
       "      <th>id</th>\n",
       "      <th>updated</th>\n",
       "      <th>place</th>\n",
       "      <th>type</th>\n",
       "      <th>geom</th>\n",
       "      <th>state</th>\n",
       "    </tr>\n",
       "  </thead>\n",
       "  <tbody>\n",
       "    <tr>\n",
       "      <th>68237</th>\n",
       "      <td>1994-09-02 21:23:06.52-04</td>\n",
       "      <td>42.798</td>\n",
       "      <td>-84.604</td>\n",
       "      <td>3.5</td>\n",
       "      <td>usp0006hvv</td>\n",
       "      <td>2014-11-06 19:56:12.852-05</td>\n",
       "      <td>Michigan</td>\n",
       "      <td>earthquake</td>\n",
       "      <td>0101000020AD1000002DB29DEFA72655C0A01A2FDD2466...</td>\n",
       "      <td>Michigan</td>\n",
       "    </tr>\n",
       "    <tr>\n",
       "      <th>79003</th>\n",
       "      <td>1994-09-02 21:23:06.52-04</td>\n",
       "      <td>42.798</td>\n",
       "      <td>-84.604</td>\n",
       "      <td>3.5</td>\n",
       "      <td>usp0006hvv</td>\n",
       "      <td>2014-11-06 19:56:12.852-05</td>\n",
       "      <td>Michigan</td>\n",
       "      <td>earthquake</td>\n",
       "      <td>0101000020AD1000002DB29DEFA72655C0A01A2FDD2466...</td>\n",
       "      <td>Michigan</td>\n",
       "    </tr>\n",
       "    <tr>\n",
       "      <th>91769</th>\n",
       "      <td>1988-01-14 17:23:36.56-05</td>\n",
       "      <td>46.559</td>\n",
       "      <td>-89.621</td>\n",
       "      <td>3.6</td>\n",
       "      <td>usp0003c29</td>\n",
       "      <td>2014-11-06 19:41:30.965-05</td>\n",
       "      <td>Michigan</td>\n",
       "      <td>earthquake</td>\n",
       "      <td>0101000020AD1000003AB4C876BE6756C0643BDF4F8D47...</td>\n",
       "      <td>Michigan</td>\n",
       "    </tr>\n",
       "  </tbody>\n",
       "</table>\n",
       "</div>"
      ],
      "text/plain": [
       "                            time  latitude  longitude  mag          id  \\\n",
       "68237  1994-09-02 21:23:06.52-04    42.798    -84.604  3.5  usp0006hvv   \n",
       "79003  1994-09-02 21:23:06.52-04    42.798    -84.604  3.5  usp0006hvv   \n",
       "91769  1988-01-14 17:23:36.56-05    46.559    -89.621  3.6  usp0003c29   \n",
       "\n",
       "                          updated     place        type  \\\n",
       "68237  2014-11-06 19:56:12.852-05  Michigan  earthquake   \n",
       "79003  2014-11-06 19:56:12.852-05  Michigan  earthquake   \n",
       "91769  2014-11-06 19:41:30.965-05  Michigan  earthquake   \n",
       "\n",
       "                                                    geom     state  \n",
       "68237  0101000020AD1000002DB29DEFA72655C0A01A2FDD2466...  Michigan  \n",
       "79003  0101000020AD1000002DB29DEFA72655C0A01A2FDD2466...  Michigan  \n",
       "91769  0101000020AD1000003AB4C876BE6756C0643BDF4F8D47...  Michigan  "
      ]
     },
     "execution_count": 116,
     "metadata": {},
     "output_type": "execute_result"
    }
   ],
   "source": [
    "### Put your code here\n",
    "earthquake_mask = earthquake['state']=='Michigan'\n",
    "earthquake_michigan = earthquake[earthquake_mask]\n",
    "earthquake_michigan\n",
    "\n",
    "\n",
    "\n"
   ]
  },
  {
   "cell_type": "markdown",
   "metadata": {},
   "source": [
    "**<font size=+3>&#9998;</font> Do This**: \n",
    "\n",
    "1. There are 2 unique michigan earthquakes that have occured in this timeframe \n",
    "2. Something seems wrong in the data frame. There is a duplicate data point under ID usp006hvv.\n",
    "3. The 1994 earthquake occurs in a longitude of -84.604 and a latitude of 42.798"
   ]
  },
  {
   "cell_type": "markdown",
   "metadata": {},
   "source": [
    "---\n",
    "## &#128721; STOP\n",
    "**Pause to commit your changes to your Git repository!**\n",
    "\n",
    "Take a moment to save your notebook, commit the changes to your Git repository using the commit message \"**Committing Part 3**\", no need to push the changes to GitHub yet, but you can if you want."
   ]
  },
  {
   "cell_type": "markdown",
   "metadata": {},
   "source": [
    "---\n",
    "<a id=\"folium\"></a>\n",
    "[Back to ToC](#toc)\n",
    "\n",
    "## Part 4: Working with a less familiar Python package (9 points)\n",
    "\n",
    "In this part of the assignment you will need to review a bit of documentation from either a Python package that you've explored a bit previously this semester."
   ]
  },
  {
   "cell_type": "markdown",
   "metadata": {},
   "source": [
    "Now that we have a sense for the history of earthquakes in Michigan over the last few decades, what about the history of earthquakes in one of our neighbors to the south, **Indiana**?\n",
    "\n",
    "**The goal for this part of the assignment is to see if you can make a map of Indiana that displays all of the earthquakes that have occurred in Indiana from this dataset**.\n",
    "\n",
    "You are expected to do this using [Folium](https://python-visualization.github.io/folium/), which we've used a bit in class up to this point. **If for some reason, you don't have Folium already installed, you may need to do that!**\n",
    "\n",
    "As you work on this part of the assignment, you should take advantage of the [folium documentation available here](https://python-visualization.github.io/folium/latest/getting_started.html) because you'll likely find some really useful examples!"
   ]
  },
  {
   "cell_type": "markdown",
   "metadata": {},
   "source": [
    "&#9989; **Question 3.0 (1 point)**: If you don't already have folium installed, what command could you use to install it? (you should run this command on the command line, if you need to).\n",
    "\n",
    "If you do already have it installed, what command did you use to install it?"
   ]
  },
  {
   "cell_type": "markdown",
   "metadata": {},
   "source": [
    "```bash\n",
    "pip install folium\n",
    "```"
   ]
  },
  {
   "cell_type": "markdown",
   "metadata": {},
   "source": [
    "&#9989; **Question 4.1 (3 points)**: To start, let's make a map of Indiana centered on Indianapolis. In order to do this you'll need need to set up a Folium with the following information:\n",
    "\n",
    "* Center the map on Indianapolis, which is located at roughly 39.77 degrees latitude and -86.16 degress longitude\n",
    "* Set the initial `zoom_start` level to `7`.\n",
    "* To explore a different visual look, use the `Stamen Toner` map style. (*which argument sets this?*)\n",
    "\n",
    "**Create this map and make sure it displays in your notebook**."
   ]
  },
  {
   "cell_type": "code",
   "execution_count": 117,
   "metadata": {},
   "outputs": [
    {
     "data": {
      "text/html": [
       "<div style=\"width:100%;\"><div style=\"position:relative;width:100%;height:0;padding-bottom:60%;\"><span style=\"color:#565656\">Make this Notebook Trusted to load map: File -> Trust Notebook</span><iframe srcdoc=\"&lt;!DOCTYPE html&gt;\n",
       "&lt;html&gt;\n",
       "&lt;head&gt;\n",
       "    \n",
       "    &lt;meta http-equiv=&quot;content-type&quot; content=&quot;text/html; charset=UTF-8&quot; /&gt;\n",
       "    \n",
       "        &lt;script&gt;\n",
       "            L_NO_TOUCH = false;\n",
       "            L_DISABLE_3D = false;\n",
       "        &lt;/script&gt;\n",
       "    \n",
       "    &lt;style&gt;html, body {width: 100%;height: 100%;margin: 0;padding: 0;}&lt;/style&gt;\n",
       "    &lt;style&gt;#map {position:absolute;top:0;bottom:0;right:0;left:0;}&lt;/style&gt;\n",
       "    &lt;script src=&quot;https://cdn.jsdelivr.net/npm/leaflet@1.9.3/dist/leaflet.js&quot;&gt;&lt;/script&gt;\n",
       "    &lt;script src=&quot;https://code.jquery.com/jquery-1.12.4.min.js&quot;&gt;&lt;/script&gt;\n",
       "    &lt;script src=&quot;https://cdn.jsdelivr.net/npm/bootstrap@5.2.2/dist/js/bootstrap.bundle.min.js&quot;&gt;&lt;/script&gt;\n",
       "    &lt;script src=&quot;https://cdnjs.cloudflare.com/ajax/libs/Leaflet.awesome-markers/2.0.2/leaflet.awesome-markers.js&quot;&gt;&lt;/script&gt;\n",
       "    &lt;link rel=&quot;stylesheet&quot; href=&quot;https://cdn.jsdelivr.net/npm/leaflet@1.9.3/dist/leaflet.css&quot;/&gt;\n",
       "    &lt;link rel=&quot;stylesheet&quot; href=&quot;https://cdn.jsdelivr.net/npm/bootstrap@5.2.2/dist/css/bootstrap.min.css&quot;/&gt;\n",
       "    &lt;link rel=&quot;stylesheet&quot; href=&quot;https://netdna.bootstrapcdn.com/bootstrap/3.0.0/css/bootstrap.min.css&quot;/&gt;\n",
       "    &lt;link rel=&quot;stylesheet&quot; href=&quot;https://cdn.jsdelivr.net/npm/@fortawesome/fontawesome-free@6.2.0/css/all.min.css&quot;/&gt;\n",
       "    &lt;link rel=&quot;stylesheet&quot; href=&quot;https://cdnjs.cloudflare.com/ajax/libs/Leaflet.awesome-markers/2.0.2/leaflet.awesome-markers.css&quot;/&gt;\n",
       "    &lt;link rel=&quot;stylesheet&quot; href=&quot;https://cdn.jsdelivr.net/gh/python-visualization/folium/folium/templates/leaflet.awesome.rotate.min.css&quot;/&gt;\n",
       "    \n",
       "            &lt;meta name=&quot;viewport&quot; content=&quot;width=device-width,\n",
       "                initial-scale=1.0, maximum-scale=1.0, user-scalable=no&quot; /&gt;\n",
       "            &lt;style&gt;\n",
       "                #map_5b0c22ad62e8d3c022b55f63315d895d {\n",
       "                    position: relative;\n",
       "                    width: 100.0%;\n",
       "                    height: 100.0%;\n",
       "                    left: 0.0%;\n",
       "                    top: 0.0%;\n",
       "                }\n",
       "                .leaflet-container { font-size: 1rem; }\n",
       "            &lt;/style&gt;\n",
       "        \n",
       "&lt;/head&gt;\n",
       "&lt;body&gt;\n",
       "    \n",
       "    \n",
       "            &lt;div class=&quot;folium-map&quot; id=&quot;map_5b0c22ad62e8d3c022b55f63315d895d&quot; &gt;&lt;/div&gt;\n",
       "        \n",
       "&lt;/body&gt;\n",
       "&lt;script&gt;\n",
       "    \n",
       "    \n",
       "            var map_5b0c22ad62e8d3c022b55f63315d895d = L.map(\n",
       "                &quot;map_5b0c22ad62e8d3c022b55f63315d895d&quot;,\n",
       "                {\n",
       "                    center: [39.77, -86.16],\n",
       "                    crs: L.CRS.EPSG3857,\n",
       "                    zoom: 7,\n",
       "                    zoomControl: true,\n",
       "                    preferCanvas: false,\n",
       "                }\n",
       "            );\n",
       "\n",
       "            \n",
       "\n",
       "        \n",
       "    \n",
       "            var tile_layer_95a8b5c5c60c0ccde8d381b4b8510b86 = L.tileLayer(\n",
       "                &quot;https://{s}.tile.openstreetmap.org/{z}/{x}/{y}.png&quot;,\n",
       "                {&quot;attribution&quot;: &quot;Data by \\u0026copy; \\u003ca target=\\&quot;_blank\\&quot; href=\\&quot;http://openstreetmap.org\\&quot;\\u003eOpenStreetMap\\u003c/a\\u003e, under \\u003ca target=\\&quot;_blank\\&quot; href=\\&quot;http://www.openstreetmap.org/copyright\\&quot;\\u003eODbL\\u003c/a\\u003e.&quot;, &quot;detectRetina&quot;: false, &quot;maxNativeZoom&quot;: 18, &quot;maxZoom&quot;: 18, &quot;minZoom&quot;: 0, &quot;noWrap&quot;: false, &quot;opacity&quot;: 1, &quot;subdomains&quot;: &quot;abc&quot;, &quot;tms&quot;: false}\n",
       "            ).addTo(map_5b0c22ad62e8d3c022b55f63315d895d);\n",
       "        \n",
       "    \n",
       "            var tile_layer_2eda825847ecf5c9d376ea132b3e5095 = L.tileLayer(\n",
       "                &quot;https://stamen-tiles-{s}.a.ssl.fastly.net/toner/{z}/{x}/{y}.png&quot;,\n",
       "                {&quot;attribution&quot;: &quot;Map tiles by \\u003ca target=\\&quot;_blank\\&quot; href=\\&quot;http://stamen.com\\&quot;\\u003eStamen Design\\u003c/a\\u003e, under \\u003ca target=\\&quot;_blank\\&quot; href=\\&quot;http://creativecommons.org/licenses/by/3.0\\&quot;\\u003eCC BY 3.0\\u003c/a\\u003e. Data by \\u0026copy; \\u003ca target=\\&quot;_blank\\&quot; href=\\&quot;http://openstreetmap.org\\&quot;\\u003eOpenStreetMap\\u003c/a\\u003e, under \\u003ca target=\\&quot;_blank\\&quot; href=\\&quot;http://www.openstreetmap.org/copyright\\&quot;\\u003eODbL\\u003c/a\\u003e.&quot;, &quot;detectRetina&quot;: false, &quot;maxNativeZoom&quot;: 18, &quot;maxZoom&quot;: 18, &quot;minZoom&quot;: 0, &quot;noWrap&quot;: false, &quot;opacity&quot;: 1, &quot;subdomains&quot;: &quot;abc&quot;, &quot;tms&quot;: false}\n",
       "            ).addTo(map_5b0c22ad62e8d3c022b55f63315d895d);\n",
       "        \n",
       "&lt;/script&gt;\n",
       "&lt;/html&gt;\" style=\"position:absolute;width:100%;height:100%;left:0;top:0;border:none !important;\" allowfullscreen webkitallowfullscreen mozallowfullscreen></iframe></div></div>"
      ],
      "text/plain": [
       "<folium.folium.Map at 0x7ff4285be040>"
      ]
     },
     "execution_count": 117,
     "metadata": {},
     "output_type": "execute_result"
    }
   ],
   "source": [
    "### Put your code here\n",
    "import folium \n",
    "import pandas as pd \n",
    "\n",
    "\n",
    "#setting the intial zoom start and mapping \n",
    "map = folium.Map(location=[39.77, -86.16], zoom_start=7)\n",
    "folium.TileLayer(\"Stamen Toner\").add_to(map)\n",
    "map\n",
    "\n",
    "\n",
    "\n",
    "\n",
    "\n",
    "\n",
    "\n",
    "\n",
    "\n",
    "\n"
   ]
  },
  {
   "cell_type": "markdown",
   "metadata": {},
   "source": [
    "&#9989; **Question 4.2 (1 point)**: Now that you've got a map of Indiana, you need to isolate the earthquakes in the dataset that occurred in Indiana.\n",
    "\n",
    "**Create a new dataframe that only includes earthquake data for Indiana**. You can most easily do this with a mask, but you can use whatever method that works."
   ]
  },
  {
   "cell_type": "code",
   "execution_count": 118,
   "metadata": {},
   "outputs": [
    {
     "data": {
      "text/html": [
       "<div>\n",
       "<style scoped>\n",
       "    .dataframe tbody tr th:only-of-type {\n",
       "        vertical-align: middle;\n",
       "    }\n",
       "\n",
       "    .dataframe tbody tr th {\n",
       "        vertical-align: top;\n",
       "    }\n",
       "\n",
       "    .dataframe thead th {\n",
       "        text-align: right;\n",
       "    }\n",
       "</style>\n",
       "<table border=\"1\" class=\"dataframe\">\n",
       "  <thead>\n",
       "    <tr style=\"text-align: right;\">\n",
       "      <th></th>\n",
       "      <th>time</th>\n",
       "      <th>latitude</th>\n",
       "      <th>longitude</th>\n",
       "      <th>mag</th>\n",
       "      <th>id</th>\n",
       "      <th>updated</th>\n",
       "      <th>place</th>\n",
       "      <th>type</th>\n",
       "      <th>geom</th>\n",
       "      <th>state</th>\n",
       "    </tr>\n",
       "  </thead>\n",
       "  <tbody>\n",
       "    <tr>\n",
       "      <th>11136</th>\n",
       "      <td>2012-05-10 22:54:05-04</td>\n",
       "      <td>38.807</td>\n",
       "      <td>-87.460</td>\n",
       "      <td>3.1</td>\n",
       "      <td>usp000jk9b</td>\n",
       "      <td>2015-01-28 10:27:40.88-05</td>\n",
       "      <td>Indiana</td>\n",
       "      <td>earthquake</td>\n",
       "      <td>0101000020AD1000003D0AD7A370DD55C09DEFA7C64B67...</td>\n",
       "      <td>Indiana</td>\n",
       "    </tr>\n",
       "    <tr>\n",
       "      <th>12211</th>\n",
       "      <td>2012-01-26 22:35:55.79-05</td>\n",
       "      <td>41.576</td>\n",
       "      <td>-85.490</td>\n",
       "      <td>3.0</td>\n",
       "      <td>usp000je0q</td>\n",
       "      <td>2014-11-06 20:46:50.763-05</td>\n",
       "      <td>Indiana</td>\n",
       "      <td>earthquake</td>\n",
       "      <td>0101000020AD1000008FC2F5285C5F55C07D3F355EBAC9...</td>\n",
       "      <td>Indiana</td>\n",
       "    </tr>\n",
       "    <tr>\n",
       "      <th>15578</th>\n",
       "      <td>2010-12-30 12:55:21.96-05</td>\n",
       "      <td>40.430</td>\n",
       "      <td>-85.914</td>\n",
       "      <td>3.8</td>\n",
       "      <td>usp000hsa5</td>\n",
       "      <td>2014-11-06 20:43:16.593-05</td>\n",
       "      <td>Indiana</td>\n",
       "      <td>earthquake</td>\n",
       "      <td>0101000020AD100000D122DBF97E7A55C0D7A3703D0A37...</td>\n",
       "      <td>Indiana</td>\n",
       "    </tr>\n",
       "    <tr>\n",
       "      <th>40786</th>\n",
       "      <td>2004-09-12 13:05:19.11-04</td>\n",
       "      <td>39.594</td>\n",
       "      <td>-85.796</td>\n",
       "      <td>3.8</td>\n",
       "      <td>usp000d44w</td>\n",
       "      <td>2014-11-06 20:23:28.274-05</td>\n",
       "      <td>Indiana</td>\n",
       "      <td>earthquake</td>\n",
       "      <td>0101000020AD1000006DE7FBA9F17255C079E9263108CC...</td>\n",
       "      <td>Indiana</td>\n",
       "    </tr>\n",
       "    <tr>\n",
       "      <th>48615</th>\n",
       "      <td>2002-06-18 17:37:15.17-04</td>\n",
       "      <td>37.987</td>\n",
       "      <td>-87.780</td>\n",
       "      <td>4.6</td>\n",
       "      <td>usp000b6e4</td>\n",
       "      <td>2014-11-06 20:15:51.367-05</td>\n",
       "      <td>Indiana</td>\n",
       "      <td>earthquake</td>\n",
       "      <td>0101000020AD10000052B81E85EBF155C07493180456FE...</td>\n",
       "      <td>Indiana</td>\n",
       "    </tr>\n",
       "    <tr>\n",
       "      <th>53343</th>\n",
       "      <td>2000-12-07 14:08:49.43-05</td>\n",
       "      <td>37.973</td>\n",
       "      <td>-87.660</td>\n",
       "      <td>3.3</td>\n",
       "      <td>usp000a5nr</td>\n",
       "      <td>2014-11-06 20:11:41.493-05</td>\n",
       "      <td>Indiana</td>\n",
       "      <td>earthquake</td>\n",
       "      <td>0101000020AD1000000AD7A3703DEA55C0068195438BFC...</td>\n",
       "      <td>Indiana</td>\n",
       "    </tr>\n",
       "    <tr>\n",
       "      <th>55027</th>\n",
       "      <td>2000-04-14 03:54:20-04</td>\n",
       "      <td>39.760</td>\n",
       "      <td>-86.750</td>\n",
       "      <td>3.6</td>\n",
       "      <td>usp0009r8t</td>\n",
       "      <td>2014-11-06 20:09:53.863-05</td>\n",
       "      <td>Indiana</td>\n",
       "      <td>earthquake</td>\n",
       "      <td>0101000020AD1000000000000000B055C0E17A14AE47E1...</td>\n",
       "      <td>Indiana</td>\n",
       "    </tr>\n",
       "    <tr>\n",
       "      <th>63507</th>\n",
       "      <td>1996-12-16 01:58:31.35-05</td>\n",
       "      <td>39.500</td>\n",
       "      <td>-87.400</td>\n",
       "      <td>3.1</td>\n",
       "      <td>usp0007uhc</td>\n",
       "      <td>2014-11-06 20:01:47.641-05</td>\n",
       "      <td>Indiana</td>\n",
       "      <td>earthquake</td>\n",
       "      <td>0101000020AD1000009A99999999D955C00000000000C0...</td>\n",
       "      <td>Indiana</td>\n",
       "    </tr>\n",
       "    <tr>\n",
       "      <th>76862</th>\n",
       "      <td>1990-12-20 14:04:17.12-05</td>\n",
       "      <td>39.570</td>\n",
       "      <td>-86.671</td>\n",
       "      <td>3.6</td>\n",
       "      <td>usp0004jd0</td>\n",
       "      <td>2014-11-06 19:47:38.214-05</td>\n",
       "      <td>Indiana</td>\n",
       "      <td>earthquake</td>\n",
       "      <td>0101000020AD1000006DE7FBA9F1AA55C0295C8FC2F5C8...</td>\n",
       "      <td>Indiana</td>\n",
       "    </tr>\n",
       "    <tr>\n",
       "      <th>76883</th>\n",
       "      <td>1990-12-17 05:24:59.1-05</td>\n",
       "      <td>40.068</td>\n",
       "      <td>-87.044</td>\n",
       "      <td>3.2</td>\n",
       "      <td>usp0004j87</td>\n",
       "      <td>2014-11-06 19:47:37.577-05</td>\n",
       "      <td>Indiana</td>\n",
       "      <td>earthquake</td>\n",
       "      <td>0101000020AD100000894160E5D0C255C063105839B408...</td>\n",
       "      <td>Indiana</td>\n",
       "    </tr>\n",
       "    <tr>\n",
       "      <th>77772</th>\n",
       "      <td>1990-04-17 10:27:34.78-04</td>\n",
       "      <td>40.460</td>\n",
       "      <td>-84.852</td>\n",
       "      <td>3.0</td>\n",
       "      <td>usp0004818</td>\n",
       "      <td>2014-11-06 19:46:09.932-05</td>\n",
       "      <td>Indiana</td>\n",
       "      <td>earthquake</td>\n",
       "      <td>0101000020AD1000004A0C022B873655C07B14AE47E13A...</td>\n",
       "      <td>Indiana</td>\n",
       "    </tr>\n",
       "    <tr>\n",
       "      <th>78144</th>\n",
       "      <td>1990-01-24 18:20:24.41-05</td>\n",
       "      <td>38.133</td>\n",
       "      <td>-86.434</td>\n",
       "      <td>4.1</td>\n",
       "      <td>usp00044pv</td>\n",
       "      <td>2014-11-06 19:45:35.518-05</td>\n",
       "      <td>Indiana</td>\n",
       "      <td>earthquake</td>\n",
       "      <td>0101000020AD100000B29DEFA7C69B55C01B2FDD240611...</td>\n",
       "      <td>Indiana</td>\n",
       "    </tr>\n",
       "    <tr>\n",
       "      <th>87532</th>\n",
       "      <td>1990-12-20 14:04:17.12-05</td>\n",
       "      <td>39.570</td>\n",
       "      <td>-86.671</td>\n",
       "      <td>3.6</td>\n",
       "      <td>usp0004jd0</td>\n",
       "      <td>2014-11-06 19:47:38.214-05</td>\n",
       "      <td>Indiana</td>\n",
       "      <td>earthquake</td>\n",
       "      <td>0101000020AD1000006DE7FBA9F1AA55C0295C8FC2F5C8...</td>\n",
       "      <td>Indiana</td>\n",
       "    </tr>\n",
       "    <tr>\n",
       "      <th>87553</th>\n",
       "      <td>1990-12-17 05:24:59.1-05</td>\n",
       "      <td>40.068</td>\n",
       "      <td>-87.044</td>\n",
       "      <td>3.2</td>\n",
       "      <td>usp0004j87</td>\n",
       "      <td>2014-11-06 19:47:37.577-05</td>\n",
       "      <td>Indiana</td>\n",
       "      <td>earthquake</td>\n",
       "      <td>0101000020AD100000894160E5D0C255C063105839B408...</td>\n",
       "      <td>Indiana</td>\n",
       "    </tr>\n",
       "    <tr>\n",
       "      <th>88439</th>\n",
       "      <td>1990-04-17 10:27:34.78-04</td>\n",
       "      <td>40.460</td>\n",
       "      <td>-84.852</td>\n",
       "      <td>3.0</td>\n",
       "      <td>usp0004818</td>\n",
       "      <td>2014-11-06 19:46:09.932-05</td>\n",
       "      <td>Indiana</td>\n",
       "      <td>earthquake</td>\n",
       "      <td>0101000020AD1000004A0C022B873655C07B14AE47E13A...</td>\n",
       "      <td>Indiana</td>\n",
       "    </tr>\n",
       "    <tr>\n",
       "      <th>88806</th>\n",
       "      <td>1990-01-24 18:20:24.41-05</td>\n",
       "      <td>38.133</td>\n",
       "      <td>-86.434</td>\n",
       "      <td>4.1</td>\n",
       "      <td>usp00044pv</td>\n",
       "      <td>2014-11-06 19:45:35.518-05</td>\n",
       "      <td>Indiana</td>\n",
       "      <td>earthquake</td>\n",
       "      <td>0101000020AD100000B29DEFA7C69B55C01B2FDD240611...</td>\n",
       "      <td>Indiana</td>\n",
       "    </tr>\n",
       "    <tr>\n",
       "      <th>96195</th>\n",
       "      <td>1985-02-13 10:22:24.14-05</td>\n",
       "      <td>38.416</td>\n",
       "      <td>-87.512</td>\n",
       "      <td>3.0</td>\n",
       "      <td>usp0002bva</td>\n",
       "      <td>2014-11-06 19:36:10.438-05</td>\n",
       "      <td>Indiana</td>\n",
       "      <td>earthquake</td>\n",
       "      <td>0101000020AD10000054E3A59BC4E055C06891ED7C3F35...</td>\n",
       "      <td>Indiana</td>\n",
       "    </tr>\n",
       "    <tr>\n",
       "      <th>96914</th>\n",
       "      <td>1984-08-29 06:50:56.49-04</td>\n",
       "      <td>39.370</td>\n",
       "      <td>-87.220</td>\n",
       "      <td>3.2</td>\n",
       "      <td>usp00026u3</td>\n",
       "      <td>2014-11-06 19:35:20.563-05</td>\n",
       "      <td>Indiana</td>\n",
       "      <td>earthquake</td>\n",
       "      <td>0101000020AD100000AE47E17A14CE55C08FC2F5285CAF...</td>\n",
       "      <td>Indiana</td>\n",
       "    </tr>\n",
       "    <tr>\n",
       "      <th>97033</th>\n",
       "      <td>1984-07-28 23:39:27.38-04</td>\n",
       "      <td>39.220</td>\n",
       "      <td>-87.071</td>\n",
       "      <td>4.0</td>\n",
       "      <td>usp000261v</td>\n",
       "      <td>2014-11-06 19:35:13.193-05</td>\n",
       "      <td>Indiana</td>\n",
       "      <td>earthquake</td>\n",
       "      <td>0101000020AD100000068195438BC455C05C8FC2F5289C...</td>\n",
       "      <td>Indiana</td>\n",
       "    </tr>\n",
       "    <tr>\n",
       "      <th>97163</th>\n",
       "      <td>1984-06-12 18:26:48.22-04</td>\n",
       "      <td>38.918</td>\n",
       "      <td>-87.464</td>\n",
       "      <td>3.4</td>\n",
       "      <td>usp00024zc</td>\n",
       "      <td>2014-11-06 19:35:01.947-05</td>\n",
       "      <td>Indiana</td>\n",
       "      <td>earthquake</td>\n",
       "      <td>0101000020AD10000004560E2DB2DD55C02FDD24068175...</td>\n",
       "      <td>Indiana</td>\n",
       "    </tr>\n",
       "  </tbody>\n",
       "</table>\n",
       "</div>"
      ],
      "text/plain": [
       "                            time  latitude  longitude  mag          id  \\\n",
       "11136     2012-05-10 22:54:05-04    38.807    -87.460  3.1  usp000jk9b   \n",
       "12211  2012-01-26 22:35:55.79-05    41.576    -85.490  3.0  usp000je0q   \n",
       "15578  2010-12-30 12:55:21.96-05    40.430    -85.914  3.8  usp000hsa5   \n",
       "40786  2004-09-12 13:05:19.11-04    39.594    -85.796  3.8  usp000d44w   \n",
       "48615  2002-06-18 17:37:15.17-04    37.987    -87.780  4.6  usp000b6e4   \n",
       "53343  2000-12-07 14:08:49.43-05    37.973    -87.660  3.3  usp000a5nr   \n",
       "55027     2000-04-14 03:54:20-04    39.760    -86.750  3.6  usp0009r8t   \n",
       "63507  1996-12-16 01:58:31.35-05    39.500    -87.400  3.1  usp0007uhc   \n",
       "76862  1990-12-20 14:04:17.12-05    39.570    -86.671  3.6  usp0004jd0   \n",
       "76883   1990-12-17 05:24:59.1-05    40.068    -87.044  3.2  usp0004j87   \n",
       "77772  1990-04-17 10:27:34.78-04    40.460    -84.852  3.0  usp0004818   \n",
       "78144  1990-01-24 18:20:24.41-05    38.133    -86.434  4.1  usp00044pv   \n",
       "87532  1990-12-20 14:04:17.12-05    39.570    -86.671  3.6  usp0004jd0   \n",
       "87553   1990-12-17 05:24:59.1-05    40.068    -87.044  3.2  usp0004j87   \n",
       "88439  1990-04-17 10:27:34.78-04    40.460    -84.852  3.0  usp0004818   \n",
       "88806  1990-01-24 18:20:24.41-05    38.133    -86.434  4.1  usp00044pv   \n",
       "96195  1985-02-13 10:22:24.14-05    38.416    -87.512  3.0  usp0002bva   \n",
       "96914  1984-08-29 06:50:56.49-04    39.370    -87.220  3.2  usp00026u3   \n",
       "97033  1984-07-28 23:39:27.38-04    39.220    -87.071  4.0  usp000261v   \n",
       "97163  1984-06-12 18:26:48.22-04    38.918    -87.464  3.4  usp00024zc   \n",
       "\n",
       "                          updated    place        type  \\\n",
       "11136   2015-01-28 10:27:40.88-05  Indiana  earthquake   \n",
       "12211  2014-11-06 20:46:50.763-05  Indiana  earthquake   \n",
       "15578  2014-11-06 20:43:16.593-05  Indiana  earthquake   \n",
       "40786  2014-11-06 20:23:28.274-05  Indiana  earthquake   \n",
       "48615  2014-11-06 20:15:51.367-05  Indiana  earthquake   \n",
       "53343  2014-11-06 20:11:41.493-05  Indiana  earthquake   \n",
       "55027  2014-11-06 20:09:53.863-05  Indiana  earthquake   \n",
       "63507  2014-11-06 20:01:47.641-05  Indiana  earthquake   \n",
       "76862  2014-11-06 19:47:38.214-05  Indiana  earthquake   \n",
       "76883  2014-11-06 19:47:37.577-05  Indiana  earthquake   \n",
       "77772  2014-11-06 19:46:09.932-05  Indiana  earthquake   \n",
       "78144  2014-11-06 19:45:35.518-05  Indiana  earthquake   \n",
       "87532  2014-11-06 19:47:38.214-05  Indiana  earthquake   \n",
       "87553  2014-11-06 19:47:37.577-05  Indiana  earthquake   \n",
       "88439  2014-11-06 19:46:09.932-05  Indiana  earthquake   \n",
       "88806  2014-11-06 19:45:35.518-05  Indiana  earthquake   \n",
       "96195  2014-11-06 19:36:10.438-05  Indiana  earthquake   \n",
       "96914  2014-11-06 19:35:20.563-05  Indiana  earthquake   \n",
       "97033  2014-11-06 19:35:13.193-05  Indiana  earthquake   \n",
       "97163  2014-11-06 19:35:01.947-05  Indiana  earthquake   \n",
       "\n",
       "                                                    geom    state  \n",
       "11136  0101000020AD1000003D0AD7A370DD55C09DEFA7C64B67...  Indiana  \n",
       "12211  0101000020AD1000008FC2F5285C5F55C07D3F355EBAC9...  Indiana  \n",
       "15578  0101000020AD100000D122DBF97E7A55C0D7A3703D0A37...  Indiana  \n",
       "40786  0101000020AD1000006DE7FBA9F17255C079E9263108CC...  Indiana  \n",
       "48615  0101000020AD10000052B81E85EBF155C07493180456FE...  Indiana  \n",
       "53343  0101000020AD1000000AD7A3703DEA55C0068195438BFC...  Indiana  \n",
       "55027  0101000020AD1000000000000000B055C0E17A14AE47E1...  Indiana  \n",
       "63507  0101000020AD1000009A99999999D955C00000000000C0...  Indiana  \n",
       "76862  0101000020AD1000006DE7FBA9F1AA55C0295C8FC2F5C8...  Indiana  \n",
       "76883  0101000020AD100000894160E5D0C255C063105839B408...  Indiana  \n",
       "77772  0101000020AD1000004A0C022B873655C07B14AE47E13A...  Indiana  \n",
       "78144  0101000020AD100000B29DEFA7C69B55C01B2FDD240611...  Indiana  \n",
       "87532  0101000020AD1000006DE7FBA9F1AA55C0295C8FC2F5C8...  Indiana  \n",
       "87553  0101000020AD100000894160E5D0C255C063105839B408...  Indiana  \n",
       "88439  0101000020AD1000004A0C022B873655C07B14AE47E13A...  Indiana  \n",
       "88806  0101000020AD100000B29DEFA7C69B55C01B2FDD240611...  Indiana  \n",
       "96195  0101000020AD10000054E3A59BC4E055C06891ED7C3F35...  Indiana  \n",
       "96914  0101000020AD100000AE47E17A14CE55C08FC2F5285CAF...  Indiana  \n",
       "97033  0101000020AD100000068195438BC455C05C8FC2F5289C...  Indiana  \n",
       "97163  0101000020AD10000004560E2DB2DD55C02FDD24068175...  Indiana  "
      ]
     },
     "execution_count": 118,
     "metadata": {},
     "output_type": "execute_result"
    }
   ],
   "source": [
    "### Put your code here\n",
    "earthquake_mask = earthquake['state']=='Indiana'\n",
    "earthquake_indiana = earthquake[earthquake_mask]\n",
    "earthquake_indiana\n",
    "\n"
   ]
  },
  {
   "cell_type": "markdown",
   "metadata": {},
   "source": [
    "&#9989; **Question 4.3 (4 points)**: OK, now that you have a map of Indiana and all of the earthquakes that happened there, **do the following**:\n",
    "\n",
    "* Add every earthquake to the map as a **filled red circle** at the appropriate latitude and longitude\n",
    "* Set the radius of the circle to be the **magnitude of the earthquake $\\times$ 2000** so that the circle represents the magnitude of the earthquake but is also large enough to be easily visible. (*Note*: if your circles are too big or too small, you can adjust the multiplier as needed until you get something that looks reasonable)\n",
    "\n",
    "It is recommended that you recreate your original map from Question 4.1 in your code cell for this question so that it is freshly initialized before you add all of the circles."
   ]
  },
  {
   "cell_type": "code",
   "execution_count": 119,
   "metadata": {},
   "outputs": [
    {
     "data": {
      "text/html": [
       "<div style=\"width:100%;\"><div style=\"position:relative;width:100%;height:0;padding-bottom:60%;\"><span style=\"color:#565656\">Make this Notebook Trusted to load map: File -> Trust Notebook</span><iframe srcdoc=\"&lt;!DOCTYPE html&gt;\n",
       "&lt;html&gt;\n",
       "&lt;head&gt;\n",
       "    \n",
       "    &lt;meta http-equiv=&quot;content-type&quot; content=&quot;text/html; charset=UTF-8&quot; /&gt;\n",
       "    \n",
       "        &lt;script&gt;\n",
       "            L_NO_TOUCH = false;\n",
       "            L_DISABLE_3D = false;\n",
       "        &lt;/script&gt;\n",
       "    \n",
       "    &lt;style&gt;html, body {width: 100%;height: 100%;margin: 0;padding: 0;}&lt;/style&gt;\n",
       "    &lt;style&gt;#map {position:absolute;top:0;bottom:0;right:0;left:0;}&lt;/style&gt;\n",
       "    &lt;script src=&quot;https://cdn.jsdelivr.net/npm/leaflet@1.9.3/dist/leaflet.js&quot;&gt;&lt;/script&gt;\n",
       "    &lt;script src=&quot;https://code.jquery.com/jquery-1.12.4.min.js&quot;&gt;&lt;/script&gt;\n",
       "    &lt;script src=&quot;https://cdn.jsdelivr.net/npm/bootstrap@5.2.2/dist/js/bootstrap.bundle.min.js&quot;&gt;&lt;/script&gt;\n",
       "    &lt;script src=&quot;https://cdnjs.cloudflare.com/ajax/libs/Leaflet.awesome-markers/2.0.2/leaflet.awesome-markers.js&quot;&gt;&lt;/script&gt;\n",
       "    &lt;link rel=&quot;stylesheet&quot; href=&quot;https://cdn.jsdelivr.net/npm/leaflet@1.9.3/dist/leaflet.css&quot;/&gt;\n",
       "    &lt;link rel=&quot;stylesheet&quot; href=&quot;https://cdn.jsdelivr.net/npm/bootstrap@5.2.2/dist/css/bootstrap.min.css&quot;/&gt;\n",
       "    &lt;link rel=&quot;stylesheet&quot; href=&quot;https://netdna.bootstrapcdn.com/bootstrap/3.0.0/css/bootstrap.min.css&quot;/&gt;\n",
       "    &lt;link rel=&quot;stylesheet&quot; href=&quot;https://cdn.jsdelivr.net/npm/@fortawesome/fontawesome-free@6.2.0/css/all.min.css&quot;/&gt;\n",
       "    &lt;link rel=&quot;stylesheet&quot; href=&quot;https://cdnjs.cloudflare.com/ajax/libs/Leaflet.awesome-markers/2.0.2/leaflet.awesome-markers.css&quot;/&gt;\n",
       "    &lt;link rel=&quot;stylesheet&quot; href=&quot;https://cdn.jsdelivr.net/gh/python-visualization/folium/folium/templates/leaflet.awesome.rotate.min.css&quot;/&gt;\n",
       "    \n",
       "            &lt;meta name=&quot;viewport&quot; content=&quot;width=device-width,\n",
       "                initial-scale=1.0, maximum-scale=1.0, user-scalable=no&quot; /&gt;\n",
       "            &lt;style&gt;\n",
       "                #map_bd6d73c7f2f5d17232e8dc5e491b9ee6 {\n",
       "                    position: relative;\n",
       "                    width: 100.0%;\n",
       "                    height: 100.0%;\n",
       "                    left: 0.0%;\n",
       "                    top: 0.0%;\n",
       "                }\n",
       "                .leaflet-container { font-size: 1rem; }\n",
       "            &lt;/style&gt;\n",
       "        \n",
       "&lt;/head&gt;\n",
       "&lt;body&gt;\n",
       "    \n",
       "    \n",
       "            &lt;div class=&quot;folium-map&quot; id=&quot;map_bd6d73c7f2f5d17232e8dc5e491b9ee6&quot; &gt;&lt;/div&gt;\n",
       "        \n",
       "&lt;/body&gt;\n",
       "&lt;script&gt;\n",
       "    \n",
       "    \n",
       "            var map_bd6d73c7f2f5d17232e8dc5e491b9ee6 = L.map(\n",
       "                &quot;map_bd6d73c7f2f5d17232e8dc5e491b9ee6&quot;,\n",
       "                {\n",
       "                    center: [39.77, -86.16],\n",
       "                    crs: L.CRS.EPSG3857,\n",
       "                    zoom: 7,\n",
       "                    zoomControl: true,\n",
       "                    preferCanvas: false,\n",
       "                }\n",
       "            );\n",
       "\n",
       "            \n",
       "\n",
       "        \n",
       "    \n",
       "            var tile_layer_f4ccf972c497dc76ef95d7636d9a1f4a = L.tileLayer(\n",
       "                &quot;https://{s}.tile.openstreetmap.org/{z}/{x}/{y}.png&quot;,\n",
       "                {&quot;attribution&quot;: &quot;Data by \\u0026copy; \\u003ca target=\\&quot;_blank\\&quot; href=\\&quot;http://openstreetmap.org\\&quot;\\u003eOpenStreetMap\\u003c/a\\u003e, under \\u003ca target=\\&quot;_blank\\&quot; href=\\&quot;http://www.openstreetmap.org/copyright\\&quot;\\u003eODbL\\u003c/a\\u003e.&quot;, &quot;detectRetina&quot;: false, &quot;maxNativeZoom&quot;: 18, &quot;maxZoom&quot;: 18, &quot;minZoom&quot;: 0, &quot;noWrap&quot;: false, &quot;opacity&quot;: 1, &quot;subdomains&quot;: &quot;abc&quot;, &quot;tms&quot;: false}\n",
       "            ).addTo(map_bd6d73c7f2f5d17232e8dc5e491b9ee6);\n",
       "        \n",
       "    \n",
       "            var tile_layer_518bad506c3a2b9ca7920d18d45db0e8 = L.tileLayer(\n",
       "                &quot;https://stamen-tiles-{s}.a.ssl.fastly.net/toner/{z}/{x}/{y}.png&quot;,\n",
       "                {&quot;attribution&quot;: &quot;Map tiles by \\u003ca target=\\&quot;_blank\\&quot; href=\\&quot;http://stamen.com\\&quot;\\u003eStamen Design\\u003c/a\\u003e, under \\u003ca target=\\&quot;_blank\\&quot; href=\\&quot;http://creativecommons.org/licenses/by/3.0\\&quot;\\u003eCC BY 3.0\\u003c/a\\u003e. Data by \\u0026copy; \\u003ca target=\\&quot;_blank\\&quot; href=\\&quot;http://openstreetmap.org\\&quot;\\u003eOpenStreetMap\\u003c/a\\u003e, under \\u003ca target=\\&quot;_blank\\&quot; href=\\&quot;http://www.openstreetmap.org/copyright\\&quot;\\u003eODbL\\u003c/a\\u003e.&quot;, &quot;detectRetina&quot;: false, &quot;maxNativeZoom&quot;: 18, &quot;maxZoom&quot;: 18, &quot;minZoom&quot;: 0, &quot;noWrap&quot;: false, &quot;opacity&quot;: 1, &quot;subdomains&quot;: &quot;abc&quot;, &quot;tms&quot;: false}\n",
       "            ).addTo(map_bd6d73c7f2f5d17232e8dc5e491b9ee6);\n",
       "        \n",
       "    \n",
       "            var circle_marker_5f220f062a8442f7b55417fc1dd033cb = L.circleMarker(\n",
       "                [38.807, -87.46],\n",
       "                {&quot;bubblingMouseEvents&quot;: true, &quot;color&quot;: &quot;red&quot;, &quot;dashArray&quot;: null, &quot;dashOffset&quot;: null, &quot;fill&quot;: true, &quot;fillColor&quot;: &quot;red&quot;, &quot;fillOpacity&quot;: 0.2, &quot;fillRule&quot;: &quot;evenodd&quot;, &quot;lineCap&quot;: &quot;round&quot;, &quot;lineJoin&quot;: &quot;round&quot;, &quot;opacity&quot;: 1.0, &quot;radius&quot;: 15.5, &quot;stroke&quot;: true, &quot;weight&quot;: 3}\n",
       "            ).addTo(map_bd6d73c7f2f5d17232e8dc5e491b9ee6);\n",
       "        \n",
       "    \n",
       "            var circle_marker_2537236f5521aa842461075554eb963d = L.circleMarker(\n",
       "                [41.576, -85.49],\n",
       "                {&quot;bubblingMouseEvents&quot;: true, &quot;color&quot;: &quot;red&quot;, &quot;dashArray&quot;: null, &quot;dashOffset&quot;: null, &quot;fill&quot;: true, &quot;fillColor&quot;: &quot;red&quot;, &quot;fillOpacity&quot;: 0.2, &quot;fillRule&quot;: &quot;evenodd&quot;, &quot;lineCap&quot;: &quot;round&quot;, &quot;lineJoin&quot;: &quot;round&quot;, &quot;opacity&quot;: 1.0, &quot;radius&quot;: 15.0, &quot;stroke&quot;: true, &quot;weight&quot;: 3}\n",
       "            ).addTo(map_bd6d73c7f2f5d17232e8dc5e491b9ee6);\n",
       "        \n",
       "    \n",
       "            var circle_marker_92709991d86fc3e2d0c6f53918857bc2 = L.circleMarker(\n",
       "                [40.43, -85.914],\n",
       "                {&quot;bubblingMouseEvents&quot;: true, &quot;color&quot;: &quot;red&quot;, &quot;dashArray&quot;: null, &quot;dashOffset&quot;: null, &quot;fill&quot;: true, &quot;fillColor&quot;: &quot;red&quot;, &quot;fillOpacity&quot;: 0.2, &quot;fillRule&quot;: &quot;evenodd&quot;, &quot;lineCap&quot;: &quot;round&quot;, &quot;lineJoin&quot;: &quot;round&quot;, &quot;opacity&quot;: 1.0, &quot;radius&quot;: 19.0, &quot;stroke&quot;: true, &quot;weight&quot;: 3}\n",
       "            ).addTo(map_bd6d73c7f2f5d17232e8dc5e491b9ee6);\n",
       "        \n",
       "    \n",
       "            var circle_marker_8de6c344515db5b2cd28636a22b5201a = L.circleMarker(\n",
       "                [39.594, -85.796],\n",
       "                {&quot;bubblingMouseEvents&quot;: true, &quot;color&quot;: &quot;red&quot;, &quot;dashArray&quot;: null, &quot;dashOffset&quot;: null, &quot;fill&quot;: true, &quot;fillColor&quot;: &quot;red&quot;, &quot;fillOpacity&quot;: 0.2, &quot;fillRule&quot;: &quot;evenodd&quot;, &quot;lineCap&quot;: &quot;round&quot;, &quot;lineJoin&quot;: &quot;round&quot;, &quot;opacity&quot;: 1.0, &quot;radius&quot;: 19.0, &quot;stroke&quot;: true, &quot;weight&quot;: 3}\n",
       "            ).addTo(map_bd6d73c7f2f5d17232e8dc5e491b9ee6);\n",
       "        \n",
       "    \n",
       "            var circle_marker_dfccfb03ae99ffbdbb19a0c28f88bd78 = L.circleMarker(\n",
       "                [37.987, -87.78],\n",
       "                {&quot;bubblingMouseEvents&quot;: true, &quot;color&quot;: &quot;red&quot;, &quot;dashArray&quot;: null, &quot;dashOffset&quot;: null, &quot;fill&quot;: true, &quot;fillColor&quot;: &quot;red&quot;, &quot;fillOpacity&quot;: 0.2, &quot;fillRule&quot;: &quot;evenodd&quot;, &quot;lineCap&quot;: &quot;round&quot;, &quot;lineJoin&quot;: &quot;round&quot;, &quot;opacity&quot;: 1.0, &quot;radius&quot;: 23.0, &quot;stroke&quot;: true, &quot;weight&quot;: 3}\n",
       "            ).addTo(map_bd6d73c7f2f5d17232e8dc5e491b9ee6);\n",
       "        \n",
       "    \n",
       "            var circle_marker_41ba11c9b50368be55da9d4beb11fb52 = L.circleMarker(\n",
       "                [37.973, -87.66],\n",
       "                {&quot;bubblingMouseEvents&quot;: true, &quot;color&quot;: &quot;red&quot;, &quot;dashArray&quot;: null, &quot;dashOffset&quot;: null, &quot;fill&quot;: true, &quot;fillColor&quot;: &quot;red&quot;, &quot;fillOpacity&quot;: 0.2, &quot;fillRule&quot;: &quot;evenodd&quot;, &quot;lineCap&quot;: &quot;round&quot;, &quot;lineJoin&quot;: &quot;round&quot;, &quot;opacity&quot;: 1.0, &quot;radius&quot;: 16.5, &quot;stroke&quot;: true, &quot;weight&quot;: 3}\n",
       "            ).addTo(map_bd6d73c7f2f5d17232e8dc5e491b9ee6);\n",
       "        \n",
       "    \n",
       "            var circle_marker_cc93e3adb404304d72bc7ec114269984 = L.circleMarker(\n",
       "                [39.76, -86.75],\n",
       "                {&quot;bubblingMouseEvents&quot;: true, &quot;color&quot;: &quot;red&quot;, &quot;dashArray&quot;: null, &quot;dashOffset&quot;: null, &quot;fill&quot;: true, &quot;fillColor&quot;: &quot;red&quot;, &quot;fillOpacity&quot;: 0.2, &quot;fillRule&quot;: &quot;evenodd&quot;, &quot;lineCap&quot;: &quot;round&quot;, &quot;lineJoin&quot;: &quot;round&quot;, &quot;opacity&quot;: 1.0, &quot;radius&quot;: 18.0, &quot;stroke&quot;: true, &quot;weight&quot;: 3}\n",
       "            ).addTo(map_bd6d73c7f2f5d17232e8dc5e491b9ee6);\n",
       "        \n",
       "    \n",
       "            var circle_marker_5f28e0d0094f427900f078ef5e6006c4 = L.circleMarker(\n",
       "                [39.5, -87.4],\n",
       "                {&quot;bubblingMouseEvents&quot;: true, &quot;color&quot;: &quot;red&quot;, &quot;dashArray&quot;: null, &quot;dashOffset&quot;: null, &quot;fill&quot;: true, &quot;fillColor&quot;: &quot;red&quot;, &quot;fillOpacity&quot;: 0.2, &quot;fillRule&quot;: &quot;evenodd&quot;, &quot;lineCap&quot;: &quot;round&quot;, &quot;lineJoin&quot;: &quot;round&quot;, &quot;opacity&quot;: 1.0, &quot;radius&quot;: 15.5, &quot;stroke&quot;: true, &quot;weight&quot;: 3}\n",
       "            ).addTo(map_bd6d73c7f2f5d17232e8dc5e491b9ee6);\n",
       "        \n",
       "    \n",
       "            var circle_marker_6fb7ff5630a02cdaac3559714c6c2dba = L.circleMarker(\n",
       "                [39.57, -86.671],\n",
       "                {&quot;bubblingMouseEvents&quot;: true, &quot;color&quot;: &quot;red&quot;, &quot;dashArray&quot;: null, &quot;dashOffset&quot;: null, &quot;fill&quot;: true, &quot;fillColor&quot;: &quot;red&quot;, &quot;fillOpacity&quot;: 0.2, &quot;fillRule&quot;: &quot;evenodd&quot;, &quot;lineCap&quot;: &quot;round&quot;, &quot;lineJoin&quot;: &quot;round&quot;, &quot;opacity&quot;: 1.0, &quot;radius&quot;: 18.0, &quot;stroke&quot;: true, &quot;weight&quot;: 3}\n",
       "            ).addTo(map_bd6d73c7f2f5d17232e8dc5e491b9ee6);\n",
       "        \n",
       "    \n",
       "            var circle_marker_3a64628a3f0e878fe323185c2cf5d450 = L.circleMarker(\n",
       "                [40.068, -87.044],\n",
       "                {&quot;bubblingMouseEvents&quot;: true, &quot;color&quot;: &quot;red&quot;, &quot;dashArray&quot;: null, &quot;dashOffset&quot;: null, &quot;fill&quot;: true, &quot;fillColor&quot;: &quot;red&quot;, &quot;fillOpacity&quot;: 0.2, &quot;fillRule&quot;: &quot;evenodd&quot;, &quot;lineCap&quot;: &quot;round&quot;, &quot;lineJoin&quot;: &quot;round&quot;, &quot;opacity&quot;: 1.0, &quot;radius&quot;: 16.0, &quot;stroke&quot;: true, &quot;weight&quot;: 3}\n",
       "            ).addTo(map_bd6d73c7f2f5d17232e8dc5e491b9ee6);\n",
       "        \n",
       "    \n",
       "            var circle_marker_b8cb8626c556b8987fb9a2c5e80a8a0e = L.circleMarker(\n",
       "                [40.46, -84.852],\n",
       "                {&quot;bubblingMouseEvents&quot;: true, &quot;color&quot;: &quot;red&quot;, &quot;dashArray&quot;: null, &quot;dashOffset&quot;: null, &quot;fill&quot;: true, &quot;fillColor&quot;: &quot;red&quot;, &quot;fillOpacity&quot;: 0.2, &quot;fillRule&quot;: &quot;evenodd&quot;, &quot;lineCap&quot;: &quot;round&quot;, &quot;lineJoin&quot;: &quot;round&quot;, &quot;opacity&quot;: 1.0, &quot;radius&quot;: 15.0, &quot;stroke&quot;: true, &quot;weight&quot;: 3}\n",
       "            ).addTo(map_bd6d73c7f2f5d17232e8dc5e491b9ee6);\n",
       "        \n",
       "    \n",
       "            var circle_marker_fdd52038f236914d0bbbc2c0c8a15f16 = L.circleMarker(\n",
       "                [38.133, -86.434],\n",
       "                {&quot;bubblingMouseEvents&quot;: true, &quot;color&quot;: &quot;red&quot;, &quot;dashArray&quot;: null, &quot;dashOffset&quot;: null, &quot;fill&quot;: true, &quot;fillColor&quot;: &quot;red&quot;, &quot;fillOpacity&quot;: 0.2, &quot;fillRule&quot;: &quot;evenodd&quot;, &quot;lineCap&quot;: &quot;round&quot;, &quot;lineJoin&quot;: &quot;round&quot;, &quot;opacity&quot;: 1.0, &quot;radius&quot;: 20.5, &quot;stroke&quot;: true, &quot;weight&quot;: 3}\n",
       "            ).addTo(map_bd6d73c7f2f5d17232e8dc5e491b9ee6);\n",
       "        \n",
       "    \n",
       "            var circle_marker_c095deb620f2a071b20b0160aaa37b7e = L.circleMarker(\n",
       "                [39.57, -86.671],\n",
       "                {&quot;bubblingMouseEvents&quot;: true, &quot;color&quot;: &quot;red&quot;, &quot;dashArray&quot;: null, &quot;dashOffset&quot;: null, &quot;fill&quot;: true, &quot;fillColor&quot;: &quot;red&quot;, &quot;fillOpacity&quot;: 0.2, &quot;fillRule&quot;: &quot;evenodd&quot;, &quot;lineCap&quot;: &quot;round&quot;, &quot;lineJoin&quot;: &quot;round&quot;, &quot;opacity&quot;: 1.0, &quot;radius&quot;: 18.0, &quot;stroke&quot;: true, &quot;weight&quot;: 3}\n",
       "            ).addTo(map_bd6d73c7f2f5d17232e8dc5e491b9ee6);\n",
       "        \n",
       "    \n",
       "            var circle_marker_95a3ae9c7419e9db71a7a11fad4f666e = L.circleMarker(\n",
       "                [40.068, -87.044],\n",
       "                {&quot;bubblingMouseEvents&quot;: true, &quot;color&quot;: &quot;red&quot;, &quot;dashArray&quot;: null, &quot;dashOffset&quot;: null, &quot;fill&quot;: true, &quot;fillColor&quot;: &quot;red&quot;, &quot;fillOpacity&quot;: 0.2, &quot;fillRule&quot;: &quot;evenodd&quot;, &quot;lineCap&quot;: &quot;round&quot;, &quot;lineJoin&quot;: &quot;round&quot;, &quot;opacity&quot;: 1.0, &quot;radius&quot;: 16.0, &quot;stroke&quot;: true, &quot;weight&quot;: 3}\n",
       "            ).addTo(map_bd6d73c7f2f5d17232e8dc5e491b9ee6);\n",
       "        \n",
       "    \n",
       "            var circle_marker_e49c7b41937282e7aa20dc6dfa231738 = L.circleMarker(\n",
       "                [40.46, -84.852],\n",
       "                {&quot;bubblingMouseEvents&quot;: true, &quot;color&quot;: &quot;red&quot;, &quot;dashArray&quot;: null, &quot;dashOffset&quot;: null, &quot;fill&quot;: true, &quot;fillColor&quot;: &quot;red&quot;, &quot;fillOpacity&quot;: 0.2, &quot;fillRule&quot;: &quot;evenodd&quot;, &quot;lineCap&quot;: &quot;round&quot;, &quot;lineJoin&quot;: &quot;round&quot;, &quot;opacity&quot;: 1.0, &quot;radius&quot;: 15.0, &quot;stroke&quot;: true, &quot;weight&quot;: 3}\n",
       "            ).addTo(map_bd6d73c7f2f5d17232e8dc5e491b9ee6);\n",
       "        \n",
       "    \n",
       "            var circle_marker_29825be9d09d9de46ea75d3126cfe667 = L.circleMarker(\n",
       "                [38.133, -86.434],\n",
       "                {&quot;bubblingMouseEvents&quot;: true, &quot;color&quot;: &quot;red&quot;, &quot;dashArray&quot;: null, &quot;dashOffset&quot;: null, &quot;fill&quot;: true, &quot;fillColor&quot;: &quot;red&quot;, &quot;fillOpacity&quot;: 0.2, &quot;fillRule&quot;: &quot;evenodd&quot;, &quot;lineCap&quot;: &quot;round&quot;, &quot;lineJoin&quot;: &quot;round&quot;, &quot;opacity&quot;: 1.0, &quot;radius&quot;: 20.5, &quot;stroke&quot;: true, &quot;weight&quot;: 3}\n",
       "            ).addTo(map_bd6d73c7f2f5d17232e8dc5e491b9ee6);\n",
       "        \n",
       "    \n",
       "            var circle_marker_5921a67aa06c9c0af407732c2f885251 = L.circleMarker(\n",
       "                [38.416, -87.512],\n",
       "                {&quot;bubblingMouseEvents&quot;: true, &quot;color&quot;: &quot;red&quot;, &quot;dashArray&quot;: null, &quot;dashOffset&quot;: null, &quot;fill&quot;: true, &quot;fillColor&quot;: &quot;red&quot;, &quot;fillOpacity&quot;: 0.2, &quot;fillRule&quot;: &quot;evenodd&quot;, &quot;lineCap&quot;: &quot;round&quot;, &quot;lineJoin&quot;: &quot;round&quot;, &quot;opacity&quot;: 1.0, &quot;radius&quot;: 15.0, &quot;stroke&quot;: true, &quot;weight&quot;: 3}\n",
       "            ).addTo(map_bd6d73c7f2f5d17232e8dc5e491b9ee6);\n",
       "        \n",
       "    \n",
       "            var circle_marker_2f8e8a517ae46ababff349671e6513e9 = L.circleMarker(\n",
       "                [39.37, -87.22],\n",
       "                {&quot;bubblingMouseEvents&quot;: true, &quot;color&quot;: &quot;red&quot;, &quot;dashArray&quot;: null, &quot;dashOffset&quot;: null, &quot;fill&quot;: true, &quot;fillColor&quot;: &quot;red&quot;, &quot;fillOpacity&quot;: 0.2, &quot;fillRule&quot;: &quot;evenodd&quot;, &quot;lineCap&quot;: &quot;round&quot;, &quot;lineJoin&quot;: &quot;round&quot;, &quot;opacity&quot;: 1.0, &quot;radius&quot;: 16.0, &quot;stroke&quot;: true, &quot;weight&quot;: 3}\n",
       "            ).addTo(map_bd6d73c7f2f5d17232e8dc5e491b9ee6);\n",
       "        \n",
       "    \n",
       "            var circle_marker_2053ac6ccc2e79cdb897a7c3578fff47 = L.circleMarker(\n",
       "                [39.22, -87.071],\n",
       "                {&quot;bubblingMouseEvents&quot;: true, &quot;color&quot;: &quot;red&quot;, &quot;dashArray&quot;: null, &quot;dashOffset&quot;: null, &quot;fill&quot;: true, &quot;fillColor&quot;: &quot;red&quot;, &quot;fillOpacity&quot;: 0.2, &quot;fillRule&quot;: &quot;evenodd&quot;, &quot;lineCap&quot;: &quot;round&quot;, &quot;lineJoin&quot;: &quot;round&quot;, &quot;opacity&quot;: 1.0, &quot;radius&quot;: 20.0, &quot;stroke&quot;: true, &quot;weight&quot;: 3}\n",
       "            ).addTo(map_bd6d73c7f2f5d17232e8dc5e491b9ee6);\n",
       "        \n",
       "    \n",
       "            var circle_marker_d5ed971e3664b72f685cd35ccdbdf8c1 = L.circleMarker(\n",
       "                [38.918, -87.464],\n",
       "                {&quot;bubblingMouseEvents&quot;: true, &quot;color&quot;: &quot;red&quot;, &quot;dashArray&quot;: null, &quot;dashOffset&quot;: null, &quot;fill&quot;: true, &quot;fillColor&quot;: &quot;red&quot;, &quot;fillOpacity&quot;: 0.2, &quot;fillRule&quot;: &quot;evenodd&quot;, &quot;lineCap&quot;: &quot;round&quot;, &quot;lineJoin&quot;: &quot;round&quot;, &quot;opacity&quot;: 1.0, &quot;radius&quot;: 17.0, &quot;stroke&quot;: true, &quot;weight&quot;: 3}\n",
       "            ).addTo(map_bd6d73c7f2f5d17232e8dc5e491b9ee6);\n",
       "        \n",
       "&lt;/script&gt;\n",
       "&lt;/html&gt;\" style=\"position:absolute;width:100%;height:100%;left:0;top:0;border:none !important;\" allowfullscreen webkitallowfullscreen mozallowfullscreen></iframe></div></div>"
      ],
      "text/plain": [
       "<folium.folium.Map at 0x7ff417f1c700>"
      ]
     },
     "execution_count": 119,
     "metadata": {},
     "output_type": "execute_result"
    }
   ],
   "source": [
    "### Put your code here\n",
    "\n",
    "map = folium.Map(location=[39.77, -86.16], zoom_start=7)\n",
    "folium.TileLayer(\"Stamen Toner\").add_to(map)\n",
    "\n",
    "for i, row in earthquake_indiana.iterrows():\n",
    "    latitude = row['latitude']\n",
    "    longitude = row['longitude']\n",
    "    magnitude = row['mag']\n",
    "    radius_made = magnitude * 5\n",
    "\n",
    "    \n",
    "    folium.CircleMarker(\n",
    "    location=[latitude, longitude],\n",
    "    radius=radius_made,\n",
    "    color='red',\n",
    "    fill=True,\n",
    "    fill_color='red',\n",
    "    ).add_to(map)\n",
    "    \n",
    "map\n",
    "\n",
    "#souce used: https://stackoverflow.com/questions/25478528/updating-a-value-in-a-pandas-dataframe-in-an-iterrows-loop\n",
    "#source used: https://stackoverflow.com/questions/36202514/foilum-map-module-trying-to-get-more-options-for-marker-colors"
   ]
  },
  {
   "cell_type": "markdown",
   "metadata": {},
   "source": [
    "---\n",
    "## &#128721; STOP\n",
    "**Pause to commit your changes to your Git repository!**\n",
    "\n",
    "Take a moment to save your notebook, commit the changes to your Git repository using the commit message \"**Committing Part 4**\", no need to push the changes to GitHub yet, but you can if you want."
   ]
  },
  {
   "cell_type": "markdown",
   "metadata": {},
   "source": [
    "---\n",
    "<a id=\"classes\"></a>\n",
    "[Back to ToC](#toc)\n",
    "\n",
    "## Part 5: Practice with using Python classes (23 points)\n",
    "\n",
    "For this part of the assignment, you're going to work on fleshing out a partially constructed Python class and then experiment with using it to see if it works as intended.\n",
    "\n",
    "### The backstory\n",
    "\n",
    "You're working as part of a new data science team and your team has been tasked with creating a new Python class that can run some simple data analysis on one or more datasets that are provided to it. The hope is that this new class will make it easier for folks who are new to the team to do some basic exploratory data analysis when presented with new project data. \n",
    "\n",
    "Your team leader figured that this was a good opportunity to try using one of the new generative AI tools that are out there to help with the initial development of this new class. Your team leader used [Claude](https://claude.ai/) to generate the starting point for this class, using the following prompt:\n",
    "\n",
    "> Can you provide an example of a python class that would be useful for someone working in a computational modeling and data analysis context?\n",
    "\n",
    "Obviously, this is a pretty vague prompt. Regardless, your team now has a basic starting point to work from and your team leader wants to move forward with this idea. He has provided you with the following code that was generated by Claude. **Review the code and try running it. Make sure you understand what this code is doing.**"
   ]
  },
  {
   "cell_type": "code",
   "execution_count": 120,
   "metadata": {},
   "outputs": [
    {
     "name": "stdout",
     "output_type": "stream",
     "text": [
      "Mean: 7.857142857142857\n",
      "Standard deviation: 4.5175395145262565\n"
     ]
    },
    {
     "data": {
      "image/png": "[encoded data removed]",
      "text/plain": [
       "<Figure size 432x288 with 1 Axes>"
      ]
     },
     "metadata": {
      "needs_background": "light"
     },
     "output_type": "display_data"
    }
   ],
   "source": [
    "# This code was generated using claude.ai on September 7, 2023. URL: https://claude.ai/\n",
    "# The prompt was: Can you provide an example of a python class that would be useful for someone working in a computational modeling and data analysis context?\n",
    "# Beyond the prompt used by the \"team leader\", a follow-up prompt was given which requested that Claude add comments to the code to explain what it does.\n",
    "\n",
    "import numpy as np\n",
    "\n",
    "class DataAnalyzer:\n",
    "    # The init method initializes the class instance \n",
    "    # and saves the input data as an attribute\n",
    "    def __init__(self, data):\n",
    "        self.data = data\n",
    "        \n",
    "    # Computes the mean of the data        \n",
    "    def mean(self):\n",
    "        return np.mean(self.data)\n",
    "    \n",
    "    # Computes the standard deviation of the data\n",
    "    def std(self):\n",
    "        return np.std(self.data)\n",
    "    \n",
    "    # Generates a histogram plot of the data\n",
    "    # Uses matplotlib to create the plot\n",
    "    def plot_histogram(self):\n",
    "        import matplotlib.pyplot as plt\n",
    "        plt.hist(self.data)\n",
    "        plt.title('Data Distribution')\n",
    "        plt.xlabel('Value')\n",
    "        plt.ylabel('Frequency')\n",
    "        plt.show()\n",
    "\n",
    "# Example usage:\n",
    "data = [1, 4, 5, 8, 10, 12, 15]\n",
    "analyzer = DataAnalyzer(data)\n",
    "print('Mean:', analyzer.mean()) \n",
    "print('Standard deviation:', analyzer.std())\n",
    "analyzer.plot_histogram()"
   ]
  },
  {
   "cell_type": "markdown",
   "metadata": {},
   "source": [
    "### Modifying the class to alter its behavior and add new functionality\n",
    "\n",
    "In the code cell below, you're provided with a second copy of this new Python class, `DataAnalyzer`. For the remainder of this section of the assignment, **you will be modifying this version of the class** to add new functionality and alter its behavior. You will then be provided with snippets of code designed to test your modifications and confirm that you've implemented them as intended.\n",
    "\n",
    "**When you make edits to the class provided below, make sure to run the cell to save your changes before running the included tests!**\n",
    "\n",
    "_<font color=\"red\">Note</font>_: Feel free to experiment with using one of the generative AI tools out there to help you expand upon and modify the initial starting point for this new Python class. If you do this, **make sure to include a link to the tool you used in the markdown cell below along with the prompt you used to generate the code and the date you accessed the tool.** Additionally, it is important to make sure that you understand the code you're working with, so make sure to review the code that is generated and make sure you understand what it is doing!"
   ]
  },
  {
   "cell_type": "code",
   "execution_count": 131,
   "metadata": {},
   "outputs": [],
   "source": [
    "# For the assignment prompts that follow, EDIT THIS VERSION OF THE PYTHON CLASS\n",
    "# This should help to ensure that you can always fall back to the original version provided above, should you need to.\n",
    "import numpy as np\n",
    "\n",
    "class DataAnalyzer:\n",
    "    # The init method initializes the class instance \n",
    "    # and saves the input data as an attribute\n",
    "    def __init__(self, data, label=' '):\n",
    "        self.data = data\n",
    "        self.label = label\n",
    "\n",
    "    # Computes the mean of the data        \n",
    "    def mean(self):\n",
    "        return np.mean(self.data)\n",
    "    \n",
    "    # Computes the standard deviation of the data\n",
    "    \n",
    "    def std(self):\n",
    "        return np.std(self.data)\n",
    "    \n",
    "    def median(self):\n",
    "        return np.median(self.data)\n",
    "        \n",
    "    def find_extreme(self, direction):\n",
    "        if direction == 'max':\n",
    "            return np.max(self.data)\n",
    "        elif direction == 'min':\n",
    "            return np.min(self.data)\n",
    "        else:\n",
    "            print(\"User Error! Please specify 'max' or 'min'\")\n",
    "    \n",
    "    def generate_summary_stats(self, display=False):\n",
    "        self.summary_stats = {\n",
    "        \"Mean\": self.mean(),\n",
    "        \"Median\": self.median(),\n",
    "        \"Standard Deviation\": self.std(),\n",
    "        \"Max\": self.find_extreme('max'),\n",
    "        \"Min\": self.find_extreme('min')\n",
    "        }\n",
    "        \n",
    "        if display == True:\n",
    "            return self.summary_stats\n",
    "        \n",
    "        else: \n",
    "            pass\n",
    "        \n",
    "    def percent_above_threshold(self, threshold=0):\n",
    "        thresholddd = self.data > threshold\n",
    "        return (len(self.data[thresholddd])/len(self.data)) *100\n",
    "            \n",
    "\n",
    " \n",
    "    # Generates a histogram plot of the data\n",
    "    # Uses matplotlib to create the plot\n",
    "    def plot_histogram(self):\n",
    "        import matplotlib.pyplot as plt\n",
    "        plt.hist(self.data)\n",
    "        plt.title('Data Distribution')\n",
    "        plt.xlabel(self.label)\n",
    "        plt.ylabel('Frequency')\n",
    "        plt.show()\n",
    "        \n",
    "        \n"
   ]
  },
  {
   "cell_type": "markdown",
   "metadata": {},
   "source": [
    "&#9989; **Question 5.1 (3 points)**: Create a new class method called `median` that calculates and returns the median of the dataset. You should be able to use the `mean` and `std` functions that are already defined in the class to help you with this.\n",
    "\n",
    "Once you've defined the new method, you should be able to execute the cell below to see if the new method works as intended. If it does work as intended, you should find that the median value is 8."
   ]
  },
  {
   "cell_type": "code",
   "execution_count": 132,
   "metadata": {},
   "outputs": [
    {
     "name": "stdout",
     "output_type": "stream",
     "text": [
      "Mean: 7.857142857142857\n",
      "Standard deviation: 4.5175395145262565\n",
      "Median: 8.0\n"
     ]
    }
   ],
   "source": [
    "# DO NOT EDIT THIS CODE. If it doesn't work, you need to make changes to the class above.\n",
    "data = [1, 4, 5, 8, 10, 12, 15]\n",
    "analyzer = DataAnalyzer(data)\n",
    "print('Mean:', analyzer.mean()) \n",
    "print('Standard deviation:', analyzer.std())\n",
    "\n",
    "# Test out the new \"median\" method\n",
    "print('Median:', analyzer.median())\n",
    "\n",
    "#ASK WHY THIS WAS WORKING AND NOW IS NOT WORKING IT WAS BEFORE"
   ]
  },
  {
   "cell_type": "markdown",
   "metadata": {},
   "source": [
    "&#9989; **Question 5.2 (2 points)**: Now, add a new attribute to the class called \"`label`\". This attribute should be a string that contains a label for the dataset that is being analyzed. This label should be set when the class is initialized (similar to how the \"`data`\" attribute is set) and the value should be defined by an input argument for the class.\n",
    "\n",
    "Run the code provide below to see if this new attribute works as intended."
   ]
  },
  {
   "cell_type": "code",
   "execution_count": 123,
   "metadata": {},
   "outputs": [
    {
     "name": "stdout",
     "output_type": "stream",
     "text": [
      "The mean of Testing Data is: 7.857142857142857\n",
      "The standard deviation of Testing Data is: 4.5175395145262565\n",
      "The median of Testing Data is: 8.0\n"
     ]
    }
   ],
   "source": [
    "# DO NOT EDIT THIS CODE. If it doesn't work, you need to make changes to the class above.\n",
    "data = [1, 4, 5, 8, 10, 12, 15]\n",
    "label = \"Testing Data\"\n",
    "analyzer = DataAnalyzer(data, label)\n",
    "print('The mean of %s is:' %analyzer.label, analyzer.mean()) \n",
    "print('The standard deviation of %s is:' %analyzer.label, analyzer.std())\n",
    "print('The median of %s is:' %analyzer.label, analyzer.median())"
   ]
  },
  {
   "cell_type": "markdown",
   "metadata": {},
   "source": [
    "&#9989; **Question 5.3 (4 points)**: Create another new method called \"`find_extreme`\" that takes a single argument, \"`direction`\", which should be a string that is either \"`max`\" or \"`min`\". This method should return the maximum or minimum value in the dataset, depending on the value of the \"`direction`\" argument. **Your new method should also print some sort of warning message if neither \"`min`\" nor \"`max`\" is specified for the `direction` argument, alerting the user of their error**\n",
    "\n",
    "Run the code provide below to see if this new method works as intended. You should be able to confirm that the minimum and maximum values are correct by looking at the \"`data`\" variable defined below."
   ]
  },
  {
   "cell_type": "code",
   "execution_count": 124,
   "metadata": {},
   "outputs": [
    {
     "name": "stdout",
     "output_type": "stream",
     "text": [
      "The maximum of Testing Data is: 15\n",
      "The minimum of Testing Data is: 1\n",
      "User Error! Please specify 'max' or 'min'\n"
     ]
    }
   ],
   "source": [
    "# DO NOT EDIT THIS CODE. If it doesn't work, you need to make changes to the class above.\n",
    "data = [1, 4, 5, 8, 10, 12, 15]\n",
    "label = \"Testing Data\"\n",
    "analyzer = DataAnalyzer(data, label)\n",
    "print('The maximum of %s is:' %analyzer.label, analyzer.find_extreme(\"max\")) \n",
    "print('The minimum of %s is:' %analyzer.label, analyzer.find_extreme(\"min\")) \n",
    "analyzer.find_extreme(\"mean\")"
   ]
  },
  {
   "cell_type": "markdown",
   "metadata": {},
   "source": [
    "&#9989; **Question 5.4 (1 point)**: Now that you have a `label` attribute as part of your class, it would be useful if the `plot_histogram` method use this new attribute to label the x-axis of the histogram. **Modify the `plot_histogram` method so that it uses the `label` attribute as the x-axis label.**\n",
    "\n",
    "Run the code provide below to see if your modification to the method works as intended."
   ]
  },
  {
   "cell_type": "code",
   "execution_count": 125,
   "metadata": {},
   "outputs": [
    {
     "data": {
      "image/png": "[encoded data removed]",
      "text/plain": [
       "<Figure size 432x288 with 1 Axes>"
      ]
     },
     "metadata": {
      "needs_background": "light"
     },
     "output_type": "display_data"
    }
   ],
   "source": [
    "# DO NOT EDIT THIS CODE. If it doesn't work, you need to make changes to the class above.\n",
    "data = [1, 4, 5, 8, 10, 12, 15]\n",
    "label = 'Testing Data'\n",
    "analyzer = DataAnalyzer(data, label)\n",
    "analyzer.plot_histogram()"
   ]
  },
  {
   "cell_type": "markdown",
   "metadata": {},
   "source": [
    "&#9989; **Question 5.5 (5 points)**: Create another new method called `generate_summary_stats` calculates the mean, standard deviation, median, minimum, and maximum values of the dataset and stores them as a new attribute in the form of a dictionary called `summary_stats`. **The keys of the dictionary should be the names of the summary statistics and the values should be the calculated values.** \n",
    "\n",
    "When creating your new method, add an additional argument to this new method called `display` that has a default value of `False`. If this argument is set to `True` when the method is called, in addition to calculating and storing the summary statistics, it should also print out these values to the screen in a way that is easy to read and understand.\n",
    "\n",
    "_<font color=\"red\">Note</font>_: When you calculate the summary statistics, **you should use the methods you've already defined in the class to do these calculations**.\n",
    "\n",
    "Run the code provide below to see if your new method works as intended for both when the `display` argument is set to `True` and when it is set to `False`."
   ]
  },
  {
   "cell_type": "code",
   "execution_count": 126,
   "metadata": {},
   "outputs": [
    {
     "name": "stdout",
     "output_type": "stream",
     "text": [
      "{'Mean': 7.857142857142857, 'Median': 8.0, 'Standard Deviation': 4.5175395145262565, 'Max': 15, 'Min': 1}\n"
     ]
    },
    {
     "data": {
      "text/plain": [
       "{'Mean': 7.857142857142857,\n",
       " 'Median': 8.0,\n",
       " 'Standard Deviation': 4.5175395145262565,\n",
       " 'Max': 15,\n",
       " 'Min': 1}"
      ]
     },
     "execution_count": 126,
     "metadata": {},
     "output_type": "execute_result"
    }
   ],
   "source": [
    "# DO NOT EDIT THIS CODE. If it doesn't work, you need to make changes to the class above.\n",
    "data = [1, 4, 5, 8, 10, 12, 15]\n",
    "label = 'Testing Data'\n",
    "analyzer = DataAnalyzer(data, label)\n",
    "# Calculate without displaying\n",
    "analyzer.generate_summary_stats()\n",
    "# Print the summary stats attribute to check that it was calculated correctly\n",
    "print(analyzer.summary_stats)\n",
    "# Calculate and display\n",
    "analyzer.generate_summary_stats(display=True)"
   ]
  },
  {
   "cell_type": "markdown",
   "metadata": {},
   "source": [
    "### Testing your new `DataAnalyzer` class on real data\n",
    "\n",
    "Now that you have an enhanced version of the initial `DataAnalyzer` class that your team leader generated using Claude, let's see if it works as intended on some real data! Specifically, since you already spent some time getting familiar with the earthquake data in Part 3 of this assignment, let's see if your new class produces results that makes sense based on your previous observations.\n",
    "\n",
    "&#9989; **Question 5.6 (X points)**: Create a new instance of your `DataAnalyzer` class called `earthquake_analyzer` and initialize it with the magnitude values from earthquake data from Part 3 of this assignment. **Make sure to set the `label` attribute to something that makes sense!** (_Note_: You should use the data for all the US states, but not places outside the US. Make sure you don't use just the Michigan data or Indiana data that you looked at previously)\n",
    "\n",
    "Once you've created your new instance of the class, use the full range of functionality you've added to the class to explore the data and see if you can confirm your observations from Part 3 of this assignment. Make sure you produce a histogram of the magnitude values and that you calculate the mean, standard deviation, median, minimum, and maximum values of the dataset."
   ]
  },
  {
   "cell_type": "code",
   "execution_count": 127,
   "metadata": {},
   "outputs": [
    {
     "data": {
      "image/png": "[encoded data removed]",
      "text/plain": [
       "<Figure size 432x288 with 1 Axes>"
      ]
     },
     "metadata": {
      "needs_background": "light"
     },
     "output_type": "display_data"
    }
   ],
   "source": [
    "### Put your code here\n",
    "\n",
    "\n",
    "earthquake_analyzer = DataAnalyzer(dropped_earthquake['mag'], label='Earthquake Magnitude')\n",
    "earthquake_analyzer.generate_summary_stats(display=True)\n",
    "earthquake_analyzer.plot_histogram()\n",
    "\n",
    "#IDK WHAT IS WRONG!\n",
    "\n"
   ]
  },
  {
   "cell_type": "code",
   "execution_count": null,
   "metadata": {},
   "outputs": [],
   "source": []
  },
  {
   "cell_type": "markdown",
   "metadata": {},
   "source": [
    "&#9989; **Question 5.7 (1 point)**:  Do the results from your new class match the results from your findings in Question 3.5? Explain why or why not."
   ]
  },
  {
   "cell_type": "markdown",
   "metadata": {},
   "source": [
    "**<font size=+3>&#9998;</font> Do This**: Yes, the findings in the new class match the findings that we saw in 3.5 The graphs look the same. This is because we graphed the magnitude distribution for the earthquake data just as before."
   ]
  },
  {
   "cell_type": "markdown",
   "metadata": {},
   "source": [
    "&#9989; **Question 5.8 (3 points)**: You're going to make one final modification to your `DataAnalyzer` class. Add a new method called `percent_above_threshold` that takes a single argument, `threshold`, which should be a number. Set the default for this argument to be 0. This method should calculate and return the percentage of values in the dataset that are above the specified threshold. \n",
    "\n",
    "**Use this new method to print the percentage of earthquakes that are above a magnitude of 5. Does this match the value you calculated in Question 3.6?** (Remember, you will need to create a new instance of your class for the earthquake data after you make the modifications to the class to make sure it has access to your new method)"
   ]
  },
  {
   "cell_type": "code",
   "execution_count": 129,
   "metadata": {},
   "outputs": [
    {
     "data": {
      "text/plain": [
       "1.2775"
      ]
     },
     "execution_count": 129,
     "metadata": {},
     "output_type": "execute_result"
    }
   ],
   "source": [
    "# After you modify the class, put your code to test your new method here\n",
    "\n",
    "\n",
    "#percentabove5 = earthquake_analyzer.percent_above_threshold(5)\n",
    "#print(percentabove5)\n",
    "\n",
    "earthquake_analyzer.percent_above_threshold(threshold = 5)\n",
    "\n",
    "#does the value need to match? or no bc one is with the dropped NaN valeus and one is not with it?\n"
   ]
  },
  {
   "cell_type": "markdown",
   "metadata": {},
   "source": [
    "---\n",
    "## &#128721; STOP\n",
    "**Pause to commit your changes to your Git repository!**\n",
    "\n",
    "Take a moment to save your notebook, commit the changes to your Git repository using the commit message \"**Committing Part 5**\", no need to push the changes to GitHub yet, but you can if you want."
   ]
  },
  {
   "cell_type": "markdown",
   "metadata": {},
   "source": [
    "---\n",
    "<a id=\"conclusion\"></a>\n",
    "[Back to ToC](#toc)\n",
    "\n",
    "## Part 6: Finishing (6 points)\n",
    "\n",
    "\n",
    "**Question 6.1 (2 points):** Have you put **your name** and **GitHub username** at the top of your notebook?\n",
    "\n",
    "yes\n",
    "\n",
    "**Question 6.2 (2 points):** Have you added the **TA** and **Instructor** to your GitHub repository? (You should have done this in Part 1, and they should have shared this information via Slack)\n",
    "\n",
    "yes\n",
    "\n",
    "**Question 6.3 (2 points):** Finally, push your repository to GitHub so that all of the commits that you have been making along the way show up on GitHub.\n",
    "\n",
    "```bash\n",
    "git push\n",
    "```\n",
    "\n",
    "**NOTE:** The grader will be able to see your commit messages and whether you pushed the repo at this stage, if everything have gone as planned. Double-check that things look correct on GitHub before you submit this notebook to D2L.\n"
   ]
  },
  {
   "cell_type": "markdown",
   "metadata": {},
   "source": [
    "---\n",
    "## Assignment wrap-up\n",
    "\n",
    "Please fill out the form that appears when you run the code below.  **You must completely fill this out in order to receive credit for the assignment!**"
   ]
  },
  {
   "cell_type": "code",
   "execution_count": 14,
   "metadata": {
    "ExecuteTime": {
     "end_time": "2022-09-08T16:05:27.551532Z",
     "start_time": "2022-09-08T16:05:27.546612Z"
    }
   },
   "outputs": [
    {
     "data": {
      "text/html": [
       "\n",
       "<iframe \n",
       "\tsrc=\"https://forms.office.com/r/fWBHgJsxpN\" \n",
       "\twidth=\"800px\" \n",
       "\theight=\"600px\" \n",
       "\tframeborder=\"0\" \n",
       "    \n",
       "\tmarginheight=\"0\" \n",
       "\tmarginwidth=\"0\">\n",
       "\tLoading...\n",
       "</iframe>\n"
      ],
      "text/plain": [
       "<IPython.core.display.HTML object>"
      ]
     },
     "execution_count": 14,
     "metadata": {},
     "output_type": "execute_result"
    }
   ],
   "source": [
    "from IPython.display import HTML\n",
    "HTML(\n",
    "\"\"\"\n",
    "<iframe \n",
    "\tsrc=\"https://forms.office.com/r/fWBHgJsxpN\" \n",
    "\twidth=\"800px\" \n",
    "\theight=\"600px\" \n",
    "\tframeborder=\"0\" \n",
    "    \n",
    "\tmarginheight=\"0\" \n",
    "\tmarginwidth=\"0\">\n",
    "\tLoading...\n",
    "</iframe>\n",
    "\"\"\"\n",
    ")"
   ]
  },
  {
   "cell_type": "markdown",
   "metadata": {},
   "source": [
    "### Congratulations, you're done!\n",
    "\n",
    "Submit this assignment by uploading it to the course Desire2Learn web page.  Go to the **\"Homework Assignments\"** folder, find the dropbox link for Homework #1, and upload it there."
   ]
  },
  {
   "cell_type": "markdown",
   "metadata": {},
   "source": [
    "&#169; Copyright 2023,  Department of Computational Mathematics, Science and Engineering at Michigan State University"
   ]
  }
 ],
 "metadata": {
  "anaconda-cloud": {},
  "kernelspec": {
   "display_name": "Python 3.8",
   "language": "python",
   "name": "python3"
  },
  "language_info": {
   "codemirror_mode": {
    "name": "ipython",
    "version": 3
   },
   "file_extension": ".py",
   "mimetype": "text/x-python",
   "name": "python",
   "nbconvert_exporter": "python",
   "pygments_lexer": "ipython3",
   "version": "3.8.8"
  },
  "latex_envs": {
   "LaTeX_envs_menu_present": true,
   "autoclose": false,
   "autocomplete": true,
   "bibliofile": "biblio.bib",
   "cite_by": "apalike",
   "current_citInitial": 1,
   "eqLabelWithNumbers": true,
   "eqNumInitial": 1,
   "hotkeys": {
    "equation": "Ctrl-E",
    "itemize": "Ctrl-I"
   },
   "labels_anchors": false,
   "latex_user_defs": false,
   "report_style_numbering": false,
   "user_envs_cfg": false
  },
  "toc": {
   "base_numbering": 1,
   "nav_menu": {},
   "number_sections": true,
   "sideBar": true,
   "skip_h1_title": false,
   "title_cell": "Table of Contents",
   "title_sidebar": "Contents",
   "toc_cell": false,
   "toc_position": {},
   "toc_section_display": true,
   "toc_window_display": false
  },
  "widgets": {
   "application/vnd.jupyter.widget-state+json": {
    "state": {},
    "version_major": 2,
    "version_minor": 0
   }
  }
 },
 "nbformat": 4,
 "nbformat_minor": 4
}
