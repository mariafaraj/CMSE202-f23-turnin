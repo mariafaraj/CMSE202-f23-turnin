{
 "cells": [
  {
   "cell_type": "markdown",
   "metadata": {},
   "source": [
    "# Homework Assignment 3\n",
    "## Regression models"
   ]
  },
  {
   "cell_type": "markdown",
   "metadata": {},
   "source": [
    "### <p style=\"text-align: right;\"> &#9989; Maria Faraj</p>\n",
    "### <p style=\"text-align: right;\"> &#9989; mariafaraj</p>"
   ]
  },
  {
   "cell_type": "markdown",
   "metadata": {},
   "source": [
    "### Goal for this homework assignment\n",
    "By now, you have learned a bit about regression models. In this assignment, you will practice:\n",
    "\n",
    "* Using branches in Git\n",
    "* Performing linear regression\n",
    "* Performing multiple regression\n",
    "* Performing logistic regression\n",
    "\n",
    "**This assignment is due by 11:59 pm on Friday, November 10th.** It should be uploaded into the \"Homework Assignments\" submission folder for Homework 3.  Submission instructions can be found at the end of the notebook. **There are 79 standard points possible in this assignment. The distribution of points can be found in the section headers**.\n"
   ]
  },
  {
   "cell_type": "markdown",
   "metadata": {},
   "source": [
    "---\n",
    "## Part 1: Git Branch (6 points)\n",
    "\n",
    "<img src=\"https://as2.ftcdn.net/v2/jpg/02/31/83/69/1000_F_231836961_dt3tbN1MKbVRGz0RLSnWuC0U8MFeLx8o.jpg\" width=300px align=\"right\" style=\"margin-left: 20px\">\n",
    "\n",
    "For this assignment, you're going to add it to the `cmse202-f23-turnin` repository you created in class so that you can track your progress on the assignment and preserve the final version that you turn in. In order to do this you need to\n",
    "\n",
    "**&#9989; Do the following**:\n",
    "\n",
    "1. Navigate to your `cmse202-f23-turnin` **local** repository and create a new directory called `hw-03`\n",
    "\n",
    "2. Move this notebook into that **new directory** in your repository, but **do not** add or commit it to your repository yet.\n",
    "\n",
    "3. Create a **new branch** called `hw03_branch` (The Day 16 PCA and ICA content has information on how to do this).\n",
    "\n",
    "4. \"Check out\" the new branch (so that you'll be working on that branch). \n",
    "\n",
    "5. Double check to make sure you are actually on that branch.\n",
    "\n",
    "6. Once you're certain you're working on your new branch, add this notebook to your repository, then make a commit and push it to GitHub. You may need to use `git push origin hw03_branch` to push your new branch to GitHub.\n",
    "\n",
    "Finally, &#9989; **Do this**: Before you move on, put the command that your instructor should run to clone your repository in the markdown cell below."
   ]
  },
  {
   "cell_type": "markdown",
   "metadata": {},
   "source": [
    "<font size=6 color=\"#009600\">&#9998;</font> git clone HW-03_Regression-STUDENT"
   ]
  },
  {
   "cell_type": "markdown",
   "metadata": {},
   "source": [
    "**Important**: Double check you've added your Professor and your TA as collaborators to your \"turnin\" repository (you should have done this in the previous homework assignment).\n",
    "\n",
    "**Also important**: Make sure that the version of this notebook that you are working on is the same one that you just added to your repository! If you are working on a different copy of the notebook, **none of your changes will be tracked**!\n",
    "\n",
    "If everything went as intended, the file should now show up on your GitHub account in the \"`cmse202-f23-turnin`\" repository inside the `hw-03` directory that you just created within the new branch `hw03-branch`.\n",
    "\n",
    "Periodically, **you'll be asked to commit your changes to the repository and push them to the remote GitHub location**. Of course, you can always commit your changes more often than that, if you wish.  It can be good to get into a habit of committing your changes any time you make a significant modification, or when you stop working on the project for a bit.\n"
   ]
  },
  {
   "cell_type": "markdown",
   "metadata": {},
   "source": [
    "---\n",
    "## Part 2: Loading the Palmer Penguins Dataset (9 points)\n",
    "\n",
    "<img src=\"https://allisonhorst.github.io/palmerpenguins/reference/figures/lter_penguins.png\" width=400px align=\"right\" style=\"margin-left: 20px\" alt=\"The Palmer Penguis, image credit: https://allisonhorst.github.io/palmerpenguins/\">\n",
    "\n",
    "For the vast majority of this homework, you'll be working with the Palmer Penguins dataset, which contains measurements of three species of penguins (Adélie, Chinstrap, and Gentoo) collected by Dr. Kristen Gorman and the Palmer Station, Antarctica LTER, a member of the Long Term Ecological Research Network. \n",
    "\n",
    "Note, that while Parts 3, 4, and 5 are designed to be workable independent of each other, you'll definitely want to finish Part 2 before attempting Parts 3, 4, or 5. To get started on Part 2, **you'll need to download the following file**:\n",
    "\n",
    "`https://raw.githubusercontent.com/msu-cmse-courses/cmse202-supplemental-data/main/data/penguins_size.csv`\n",
    "\n",
    "&#9989; **Question 2.1 (1 point)**: **Do this:** Save the `penguins.csv` file in the same directory as your notebook. **Then, in the cell below, put the command line command(s) you used to download the file.** If you did not use a command line tool to download the file, write down the command(s) that *would* have downloaded the file."
   ]
  },
  {
   "cell_type": "markdown",
   "metadata": {},
   "source": [
    "``` bash\n",
    "curl -O https://raw.githubusercontent.com/msu-cmse-courses/cmse202-supplemental-data/main/data/penguins_size.csv\n",
    "\n",
    "```"
   ]
  },
  {
   "cell_type": "markdown",
   "metadata": {},
   "source": [
    "&#9989;  **Question 2.2 (2 points)**: Next, load the data into a Pandas DataFrame and display the first and last 5 rows. "
   ]
  },
  {
   "cell_type": "code",
   "execution_count": 2,
   "metadata": {},
   "outputs": [
    {
     "data": {
      "text/html": [
       "<div>\n",
       "<style scoped>\n",
       "    .dataframe tbody tr th:only-of-type {\n",
       "        vertical-align: middle;\n",
       "    }\n",
       "\n",
       "    .dataframe tbody tr th {\n",
       "        vertical-align: top;\n",
       "    }\n",
       "\n",
       "    .dataframe thead th {\n",
       "        text-align: right;\n",
       "    }\n",
       "</style>\n",
       "<table border=\"1\" class=\"dataframe\">\n",
       "  <thead>\n",
       "    <tr style=\"text-align: right;\">\n",
       "      <th></th>\n",
       "      <th>species</th>\n",
       "      <th>island</th>\n",
       "      <th>bill_length_mm</th>\n",
       "      <th>bill_depth_mm</th>\n",
       "      <th>flipper_length_mm</th>\n",
       "      <th>body_mass_g</th>\n",
       "      <th>sex</th>\n",
       "    </tr>\n",
       "  </thead>\n",
       "  <tbody>\n",
       "    <tr>\n",
       "      <th>0</th>\n",
       "      <td>Adelie</td>\n",
       "      <td>Torgersen</td>\n",
       "      <td>39.1</td>\n",
       "      <td>18.7</td>\n",
       "      <td>181.0</td>\n",
       "      <td>3750.0</td>\n",
       "      <td>MALE</td>\n",
       "    </tr>\n",
       "    <tr>\n",
       "      <th>1</th>\n",
       "      <td>Adelie</td>\n",
       "      <td>Torgersen</td>\n",
       "      <td>39.5</td>\n",
       "      <td>17.4</td>\n",
       "      <td>186.0</td>\n",
       "      <td>3800.0</td>\n",
       "      <td>FEMALE</td>\n",
       "    </tr>\n",
       "    <tr>\n",
       "      <th>2</th>\n",
       "      <td>Adelie</td>\n",
       "      <td>Torgersen</td>\n",
       "      <td>40.3</td>\n",
       "      <td>18.0</td>\n",
       "      <td>195.0</td>\n",
       "      <td>3250.0</td>\n",
       "      <td>FEMALE</td>\n",
       "    </tr>\n",
       "    <tr>\n",
       "      <th>3</th>\n",
       "      <td>Adelie</td>\n",
       "      <td>Torgersen</td>\n",
       "      <td>NaN</td>\n",
       "      <td>NaN</td>\n",
       "      <td>NaN</td>\n",
       "      <td>NaN</td>\n",
       "      <td>NaN</td>\n",
       "    </tr>\n",
       "    <tr>\n",
       "      <th>4</th>\n",
       "      <td>Adelie</td>\n",
       "      <td>Torgersen</td>\n",
       "      <td>36.7</td>\n",
       "      <td>19.3</td>\n",
       "      <td>193.0</td>\n",
       "      <td>3450.0</td>\n",
       "      <td>FEMALE</td>\n",
       "    </tr>\n",
       "    <tr>\n",
       "      <th>...</th>\n",
       "      <td>...</td>\n",
       "      <td>...</td>\n",
       "      <td>...</td>\n",
       "      <td>...</td>\n",
       "      <td>...</td>\n",
       "      <td>...</td>\n",
       "      <td>...</td>\n",
       "    </tr>\n",
       "    <tr>\n",
       "      <th>334</th>\n",
       "      <td>Gentoo</td>\n",
       "      <td>Biscoe</td>\n",
       "      <td>46.2</td>\n",
       "      <td>14.1</td>\n",
       "      <td>217.0</td>\n",
       "      <td>4375.0</td>\n",
       "      <td>FEMALE</td>\n",
       "    </tr>\n",
       "    <tr>\n",
       "      <th>335</th>\n",
       "      <td>Gentoo</td>\n",
       "      <td>Biscoe</td>\n",
       "      <td>55.1</td>\n",
       "      <td>16.0</td>\n",
       "      <td>230.0</td>\n",
       "      <td>5850.0</td>\n",
       "      <td>MALE</td>\n",
       "    </tr>\n",
       "    <tr>\n",
       "      <th>336</th>\n",
       "      <td>Gentoo</td>\n",
       "      <td>Biscoe</td>\n",
       "      <td>44.5</td>\n",
       "      <td>15.7</td>\n",
       "      <td>217.0</td>\n",
       "      <td>4875.0</td>\n",
       "      <td>.</td>\n",
       "    </tr>\n",
       "    <tr>\n",
       "      <th>337</th>\n",
       "      <td>Gentoo</td>\n",
       "      <td>Biscoe</td>\n",
       "      <td>48.8</td>\n",
       "      <td>16.2</td>\n",
       "      <td>222.0</td>\n",
       "      <td>6000.0</td>\n",
       "      <td>MALE</td>\n",
       "    </tr>\n",
       "    <tr>\n",
       "      <th>338</th>\n",
       "      <td>Gentoo</td>\n",
       "      <td>Biscoe</td>\n",
       "      <td>47.2</td>\n",
       "      <td>13.7</td>\n",
       "      <td>214.0</td>\n",
       "      <td>4925.0</td>\n",
       "      <td>FEMALE</td>\n",
       "    </tr>\n",
       "  </tbody>\n",
       "</table>\n",
       "<p>339 rows × 7 columns</p>\n",
       "</div>"
      ],
      "text/plain": [
       "    species     island  bill_length_mm  bill_depth_mm  flipper_length_mm  \\\n",
       "0    Adelie  Torgersen            39.1           18.7              181.0   \n",
       "1    Adelie  Torgersen            39.5           17.4              186.0   \n",
       "2    Adelie  Torgersen            40.3           18.0              195.0   \n",
       "3    Adelie  Torgersen             NaN            NaN                NaN   \n",
       "4    Adelie  Torgersen            36.7           19.3              193.0   \n",
       "..      ...        ...             ...            ...                ...   \n",
       "334  Gentoo     Biscoe            46.2           14.1              217.0   \n",
       "335  Gentoo     Biscoe            55.1           16.0              230.0   \n",
       "336  Gentoo     Biscoe            44.5           15.7              217.0   \n",
       "337  Gentoo     Biscoe            48.8           16.2              222.0   \n",
       "338  Gentoo     Biscoe            47.2           13.7              214.0   \n",
       "\n",
       "     body_mass_g     sex  \n",
       "0         3750.0    MALE  \n",
       "1         3800.0  FEMALE  \n",
       "2         3250.0  FEMALE  \n",
       "3            NaN     NaN  \n",
       "4         3450.0  FEMALE  \n",
       "..           ...     ...  \n",
       "334       4375.0  FEMALE  \n",
       "335       5850.0    MALE  \n",
       "336       4875.0       .  \n",
       "337       6000.0    MALE  \n",
       "338       4925.0  FEMALE  \n",
       "\n",
       "[339 rows x 7 columns]"
      ]
     },
     "execution_count": 2,
     "metadata": {},
     "output_type": "execute_result"
    }
   ],
   "source": [
    "# Put your code here\n",
    "import pandas as pd\n",
    "penguin = pd.read_csv('penguins_size.csv')\n",
    "penguin.head(5)\n",
    "\n",
    "penguin = pd.read_csv('penguins_size.csv')\n",
    "penguin.head(-5)"
   ]
  },
  {
   "cell_type": "markdown",
   "metadata": {},
   "source": [
    "&#9989;  **Question 2.3 (2 points)**: You should notice that a few of rows have `NaN` values. Some penguins don't like to stay still long enough to be measured <(\"). Drop these rows from the DataFrame and redisplay the dataframe to show that these rows were removed."
   ]
  },
  {
   "cell_type": "code",
   "execution_count": 3,
   "metadata": {},
   "outputs": [
    {
     "data": {
      "text/html": [
       "<div>\n",
       "<style scoped>\n",
       "    .dataframe tbody tr th:only-of-type {\n",
       "        vertical-align: middle;\n",
       "    }\n",
       "\n",
       "    .dataframe tbody tr th {\n",
       "        vertical-align: top;\n",
       "    }\n",
       "\n",
       "    .dataframe thead th {\n",
       "        text-align: right;\n",
       "    }\n",
       "</style>\n",
       "<table border=\"1\" class=\"dataframe\">\n",
       "  <thead>\n",
       "    <tr style=\"text-align: right;\">\n",
       "      <th></th>\n",
       "      <th>species</th>\n",
       "      <th>island</th>\n",
       "      <th>bill_length_mm</th>\n",
       "      <th>bill_depth_mm</th>\n",
       "      <th>flipper_length_mm</th>\n",
       "      <th>body_mass_g</th>\n",
       "      <th>sex</th>\n",
       "    </tr>\n",
       "  </thead>\n",
       "  <tbody>\n",
       "    <tr>\n",
       "      <th>0</th>\n",
       "      <td>Adelie</td>\n",
       "      <td>Torgersen</td>\n",
       "      <td>39.1</td>\n",
       "      <td>18.7</td>\n",
       "      <td>181.0</td>\n",
       "      <td>3750.0</td>\n",
       "      <td>MALE</td>\n",
       "    </tr>\n",
       "    <tr>\n",
       "      <th>1</th>\n",
       "      <td>Adelie</td>\n",
       "      <td>Torgersen</td>\n",
       "      <td>39.5</td>\n",
       "      <td>17.4</td>\n",
       "      <td>186.0</td>\n",
       "      <td>3800.0</td>\n",
       "      <td>FEMALE</td>\n",
       "    </tr>\n",
       "    <tr>\n",
       "      <th>2</th>\n",
       "      <td>Adelie</td>\n",
       "      <td>Torgersen</td>\n",
       "      <td>40.3</td>\n",
       "      <td>18.0</td>\n",
       "      <td>195.0</td>\n",
       "      <td>3250.0</td>\n",
       "      <td>FEMALE</td>\n",
       "    </tr>\n",
       "    <tr>\n",
       "      <th>4</th>\n",
       "      <td>Adelie</td>\n",
       "      <td>Torgersen</td>\n",
       "      <td>36.7</td>\n",
       "      <td>19.3</td>\n",
       "      <td>193.0</td>\n",
       "      <td>3450.0</td>\n",
       "      <td>FEMALE</td>\n",
       "    </tr>\n",
       "    <tr>\n",
       "      <th>5</th>\n",
       "      <td>Adelie</td>\n",
       "      <td>Torgersen</td>\n",
       "      <td>39.3</td>\n",
       "      <td>20.6</td>\n",
       "      <td>190.0</td>\n",
       "      <td>3650.0</td>\n",
       "      <td>MALE</td>\n",
       "    </tr>\n",
       "    <tr>\n",
       "      <th>...</th>\n",
       "      <td>...</td>\n",
       "      <td>...</td>\n",
       "      <td>...</td>\n",
       "      <td>...</td>\n",
       "      <td>...</td>\n",
       "      <td>...</td>\n",
       "      <td>...</td>\n",
       "    </tr>\n",
       "    <tr>\n",
       "      <th>338</th>\n",
       "      <td>Gentoo</td>\n",
       "      <td>Biscoe</td>\n",
       "      <td>47.2</td>\n",
       "      <td>13.7</td>\n",
       "      <td>214.0</td>\n",
       "      <td>4925.0</td>\n",
       "      <td>FEMALE</td>\n",
       "    </tr>\n",
       "    <tr>\n",
       "      <th>340</th>\n",
       "      <td>Gentoo</td>\n",
       "      <td>Biscoe</td>\n",
       "      <td>46.8</td>\n",
       "      <td>14.3</td>\n",
       "      <td>215.0</td>\n",
       "      <td>4850.0</td>\n",
       "      <td>FEMALE</td>\n",
       "    </tr>\n",
       "    <tr>\n",
       "      <th>341</th>\n",
       "      <td>Gentoo</td>\n",
       "      <td>Biscoe</td>\n",
       "      <td>50.4</td>\n",
       "      <td>15.7</td>\n",
       "      <td>222.0</td>\n",
       "      <td>5750.0</td>\n",
       "      <td>MALE</td>\n",
       "    </tr>\n",
       "    <tr>\n",
       "      <th>342</th>\n",
       "      <td>Gentoo</td>\n",
       "      <td>Biscoe</td>\n",
       "      <td>45.2</td>\n",
       "      <td>14.8</td>\n",
       "      <td>212.0</td>\n",
       "      <td>5200.0</td>\n",
       "      <td>FEMALE</td>\n",
       "    </tr>\n",
       "    <tr>\n",
       "      <th>343</th>\n",
       "      <td>Gentoo</td>\n",
       "      <td>Biscoe</td>\n",
       "      <td>49.9</td>\n",
       "      <td>16.1</td>\n",
       "      <td>213.0</td>\n",
       "      <td>5400.0</td>\n",
       "      <td>MALE</td>\n",
       "    </tr>\n",
       "  </tbody>\n",
       "</table>\n",
       "<p>334 rows × 7 columns</p>\n",
       "</div>"
      ],
      "text/plain": [
       "    species     island  bill_length_mm  bill_depth_mm  flipper_length_mm  \\\n",
       "0    Adelie  Torgersen            39.1           18.7              181.0   \n",
       "1    Adelie  Torgersen            39.5           17.4              186.0   \n",
       "2    Adelie  Torgersen            40.3           18.0              195.0   \n",
       "4    Adelie  Torgersen            36.7           19.3              193.0   \n",
       "5    Adelie  Torgersen            39.3           20.6              190.0   \n",
       "..      ...        ...             ...            ...                ...   \n",
       "338  Gentoo     Biscoe            47.2           13.7              214.0   \n",
       "340  Gentoo     Biscoe            46.8           14.3              215.0   \n",
       "341  Gentoo     Biscoe            50.4           15.7              222.0   \n",
       "342  Gentoo     Biscoe            45.2           14.8              212.0   \n",
       "343  Gentoo     Biscoe            49.9           16.1              213.0   \n",
       "\n",
       "     body_mass_g     sex  \n",
       "0         3750.0    MALE  \n",
       "1         3800.0  FEMALE  \n",
       "2         3250.0  FEMALE  \n",
       "4         3450.0  FEMALE  \n",
       "5         3650.0    MALE  \n",
       "..           ...     ...  \n",
       "338       4925.0  FEMALE  \n",
       "340       4850.0  FEMALE  \n",
       "341       5750.0    MALE  \n",
       "342       5200.0  FEMALE  \n",
       "343       5400.0    MALE  \n",
       "\n",
       "[334 rows x 7 columns]"
      ]
     },
     "execution_count": 3,
     "metadata": {},
     "output_type": "execute_result"
    }
   ],
   "source": [
    "# Put your code here\n",
    "dropped_penguin = penguin.dropna()\n",
    "dropped_penguin"
   ]
  },
  {
   "cell_type": "markdown",
   "metadata": {},
   "source": [
    "&#9989;  **Question 2.4 (4 points)**: Recall that this dataset has data on three different species of penguins. Although all three species are from the genus Pygoscelis, they are in fact very different. \n",
    "\n",
    "**Do This:** Split the data into three new DataFrames, one with just the rows with Adélie penguins, one with just the rows with Chinstrap penguins, and one with just the rows with Gentoo penguins. Display at least one of these DataFrames to convince yourself that your code worked."
   ]
  },
  {
   "cell_type": "code",
   "execution_count": 21,
   "metadata": {},
   "outputs": [],
   "source": [
    "# Put your code here"
   ]
  },
  {
   "cell_type": "code",
   "execution_count": 89,
   "metadata": {},
   "outputs": [
    {
     "name": "stdout",
     "output_type": "stream",
     "text": [
      "Gentoo Penguins DataFrame:\n",
      "Adélie Penguins DataFrame:\n",
      "Chinstrap Penguins DataFrame:\n"
     ]
    },
    {
     "data": {
      "text/html": [
       "<div>\n",
       "<style scoped>\n",
       "    .dataframe tbody tr th:only-of-type {\n",
       "        vertical-align: middle;\n",
       "    }\n",
       "\n",
       "    .dataframe tbody tr th {\n",
       "        vertical-align: top;\n",
       "    }\n",
       "\n",
       "    .dataframe thead th {\n",
       "        text-align: right;\n",
       "    }\n",
       "</style>\n",
       "<table border=\"1\" class=\"dataframe\">\n",
       "  <thead>\n",
       "    <tr style=\"text-align: right;\">\n",
       "      <th></th>\n",
       "      <th>species</th>\n",
       "      <th>island</th>\n",
       "      <th>bill_length_mm</th>\n",
       "      <th>bill_depth_mm</th>\n",
       "      <th>flipper_length_mm</th>\n",
       "      <th>body_mass_g</th>\n",
       "      <th>sex</th>\n",
       "    </tr>\n",
       "  </thead>\n",
       "  <tbody>\n",
       "    <tr>\n",
       "      <th>152</th>\n",
       "      <td>Chinstrap</td>\n",
       "      <td>Dream</td>\n",
       "      <td>46.5</td>\n",
       "      <td>17.9</td>\n",
       "      <td>192.0</td>\n",
       "      <td>3500.0</td>\n",
       "      <td>FEMALE</td>\n",
       "    </tr>\n",
       "    <tr>\n",
       "      <th>153</th>\n",
       "      <td>Chinstrap</td>\n",
       "      <td>Dream</td>\n",
       "      <td>50.0</td>\n",
       "      <td>19.5</td>\n",
       "      <td>196.0</td>\n",
       "      <td>3900.0</td>\n",
       "      <td>MALE</td>\n",
       "    </tr>\n",
       "    <tr>\n",
       "      <th>154</th>\n",
       "      <td>Chinstrap</td>\n",
       "      <td>Dream</td>\n",
       "      <td>51.3</td>\n",
       "      <td>19.2</td>\n",
       "      <td>193.0</td>\n",
       "      <td>3650.0</td>\n",
       "      <td>MALE</td>\n",
       "    </tr>\n",
       "    <tr>\n",
       "      <th>155</th>\n",
       "      <td>Chinstrap</td>\n",
       "      <td>Dream</td>\n",
       "      <td>45.4</td>\n",
       "      <td>18.7</td>\n",
       "      <td>188.0</td>\n",
       "      <td>3525.0</td>\n",
       "      <td>FEMALE</td>\n",
       "    </tr>\n",
       "    <tr>\n",
       "      <th>156</th>\n",
       "      <td>Chinstrap</td>\n",
       "      <td>Dream</td>\n",
       "      <td>52.7</td>\n",
       "      <td>19.8</td>\n",
       "      <td>197.0</td>\n",
       "      <td>3725.0</td>\n",
       "      <td>MALE</td>\n",
       "    </tr>\n",
       "  </tbody>\n",
       "</table>\n",
       "</div>"
      ],
      "text/plain": [
       "       species island  bill_length_mm  bill_depth_mm  flipper_length_mm  \\\n",
       "152  Chinstrap  Dream            46.5           17.9              192.0   \n",
       "153  Chinstrap  Dream            50.0           19.5              196.0   \n",
       "154  Chinstrap  Dream            51.3           19.2              193.0   \n",
       "155  Chinstrap  Dream            45.4           18.7              188.0   \n",
       "156  Chinstrap  Dream            52.7           19.8              197.0   \n",
       "\n",
       "     body_mass_g     sex  \n",
       "152       3500.0  FEMALE  \n",
       "153       3900.0    MALE  \n",
       "154       3650.0    MALE  \n",
       "155       3525.0  FEMALE  \n",
       "156       3725.0    MALE  "
      ]
     },
     "execution_count": 89,
     "metadata": {},
     "output_type": "execute_result"
    }
   ],
   "source": [
    "adelie_penguins = dropped_penguin[dropped_penguin['species'] == 'Adelie']\n",
    "chinstrap_penguins = dropped_penguin[dropped_penguin['species'] == 'Chinstrap']\n",
    "gentoo_penguins = dropped_penguin[dropped_penguin['species'] == 'Gentoo']\n",
    "\n",
    "print(\"Gentoo Penguins DataFrame:\")\n",
    "gentoo_penguins.head()\n",
    "\n",
    "print(\"Adélie Penguins DataFrame:\")\n",
    "adelie_penguins.head()\n",
    "\n",
    "print(\"Chinstrap Penguins DataFrame:\")\n",
    "chinstrap_penguins.head()"
   ]
  },
  {
   "cell_type": "markdown",
   "metadata": {},
   "source": [
    "---\n",
    "### &#128721; STOP\n",
    "**Pause to commit your changes to your Git repository!**\n",
    "\n",
    "Take a moment to save your notebook, commit the changes to your local `git` repository using the commit message \"Part 2 complete\", and push the changes to GitHub.\n",
    "\n",
    "---"
   ]
  },
  {
   "cell_type": "markdown",
   "metadata": {},
   "source": [
    "---\n",
    "## Part 3: One Variable Linear Regression (26 points)\n",
    "\n",
    "In this part, we'll perform some one-variable linear regression analysis on the penguin data.\n",
    "\n",
    "&#9989;  **Question 3.1 (3 points)**: Using the `OLS` method in `statsmodels`, perform a linear regression to predict a penguin's body mass using its bill depth and **display the results summary**. Remember that you may need to use the `add_constant()` method to make sure `OLS` fits a general line $y = ax+b$ to the data instead of a line through the origin $y = ax$. \n",
    "\n",
    "**For this problem, make sure that you're using the full penguin dataset, not just the dataframe for a single species.**"
   ]
  },
  {
   "cell_type": "code",
   "execution_count": 5,
   "metadata": {},
   "outputs": [
    {
     "name": "stdout",
     "output_type": "stream",
     "text": [
      "                            OLS Regression Results                            \n",
      "==============================================================================\n",
      "Dep. Variable:            body_mass_g   R-squared:                       0.224\n",
      "Model:                            OLS   Adj. R-squared:                  0.221\n",
      "Method:                 Least Squares   F-statistic:                     95.68\n",
      "Date:                Mon, 06 Nov 2023   Prob (F-statistic):           5.07e-20\n",
      "Time:                        10:25:07   Log-Likelihood:                -2665.8\n",
      "No. Observations:                 334   AIC:                             5336.\n",
      "Df Residuals:                     332   BIC:                             5343.\n",
      "Df Model:                           1                                         \n",
      "Covariance Type:            nonrobust                                         \n",
      "=================================================================================\n",
      "                    coef    std err          t      P>|t|      [0.025      0.975]\n",
      "---------------------------------------------------------------------------------\n",
      "const          7528.6205    341.587     22.040      0.000    6856.673    8200.568\n",
      "bill_depth_mm  -193.4424     19.776     -9.782      0.000    -232.345    -154.540\n",
      "==============================================================================\n",
      "Omnibus:                        7.861   Durbin-Watson:                   2.295\n",
      "Prob(Omnibus):                  0.020   Jarque-Bera (JB):                5.993\n",
      "Skew:                           0.220   Prob(JB):                       0.0500\n",
      "Kurtosis:                       2.513   Cond. No.                         152.\n",
      "==============================================================================\n",
      "\n",
      "Notes:\n",
      "[1] Standard Errors assume that the covariance matrix of the errors is correctly specified.\n"
     ]
    }
   ],
   "source": [
    "# Put your code here\n",
    "import statsmodels.api as sm\n",
    "\n",
    "X= dropped_penguin['bill_depth_mm']\n",
    "y=dropped_penguin['body_mass_g']\n",
    "\n",
    "X = sm.add_constant(X)\n",
    "model=sm.OLS(y,X).fit()\n",
    "print(model.summary())"
   ]
  },
  {
   "cell_type": "markdown",
   "metadata": {},
   "source": [
    "&#9989;  **Question 3.2 (3 points)**: Answer the following questions: \n",
    "\n",
    "1. What was the equation of the best fit linear relationship between a penguin's body mass and its bill depth?\n",
    "\n",
    "2. As a penguin's bill depth increases, does its body mass increase or decrease? What tells you this?\n",
    "\n",
    "3. Based on the $p$-value for the bill depth, is the relationship you found between a penguin's body mass and bill depth statistically significant? Justify yor answer."
   ]
  },
  {
   "cell_type": "markdown",
   "metadata": {},
   "source": [
    "<font size=+3>&#9998;</font> Put your answers here:\n",
    "\n",
    "1. y=-193.4424x+7528.6205\n",
    "2. As the bill depth increases, their body masses decrease. This tells us that there is a negative correlation between bill depth and body mass. \n",
    "3. Based on the p-value for the bill depth, the relationship is statistically significant. I detemined this by seeing that the p-value is 0. A p-value of 0 is less than the concentional significance level, which tells us that the relationship between penguin's body mass and bill depth is statistically significant "
   ]
  },
  {
   "cell_type": "markdown",
   "metadata": {},
   "source": [
    "&#9989;  **Question 3.3 (6 points, 2 points per part)**: Now, let's repeat the linear regression, but for each species separately.  It will likely help you later in this question to make sure that the variable names for the OLS model and OLS results are different for each species. That way, you won't overwrite one model with another.\n",
    "\n",
    "&#9989;  **Question 3.3.Adélie (2 points)**: Using the `OLS` method in `statsmodels`, perform a linear regression to predict an  **Adélie** penguin's body mass using its bill depth and display the results summary."
   ]
  },
  {
   "cell_type": "code",
   "execution_count": 6,
   "metadata": {},
   "outputs": [
    {
     "name": "stdout",
     "output_type": "stream",
     "text": [
      "                            OLS Regression Results                            \n",
      "==============================================================================\n",
      "Dep. Variable:            body_mass_g   R-squared:                       0.337\n",
      "Model:                            OLS   Adj. R-squared:                  0.332\n",
      "Method:                 Least Squares   F-statistic:                     73.06\n",
      "Date:                Sat, 04 Nov 2023   Prob (F-statistic):           1.67e-14\n",
      "Time:                        17:08:58   Log-Likelihood:                -1071.4\n",
      "No. Observations:                 146   AIC:                             2147.\n",
      "Df Residuals:                     144   BIC:                             2153.\n",
      "Df Model:                           1                                         \n",
      "Covariance Type:            nonrobust                                         \n",
      "=================================================================================\n",
      "                    coef    std err          t      P>|t|      [0.025      0.975]\n",
      "---------------------------------------------------------------------------------\n",
      "const          -297.3829    469.422     -0.634      0.527   -1225.231     630.465\n",
      "bill_depth_mm   218.2095     25.529      8.547      0.000     167.749     268.670\n",
      "==============================================================================\n",
      "Omnibus:                        4.410   Durbin-Watson:                   2.326\n",
      "Prob(Omnibus):                  0.110   Jarque-Bera (JB):                4.401\n",
      "Skew:                           0.422   Prob(JB):                        0.111\n",
      "Kurtosis:                       2.889   Cond. No.                         279.\n",
      "==============================================================================\n",
      "\n",
      "Notes:\n",
      "[1] Standard Errors assume that the covariance matrix of the errors is correctly specified.\n"
     ]
    }
   ],
   "source": [
    "# Put your code here\n",
    "\n",
    "\n",
    "adelie = dropped_penguin[dropped_penguin['species'] == 'Adelie']\n",
    "\n",
    "X = adelie['bill_depth_mm']\n",
    "y = adelie['body_mass_g']\n",
    "\n",
    "X = sm.add_constant(X)\n",
    "\n",
    "model = sm.OLS(y, X).fit()\n",
    "\n",
    "print(model.summary())\n"
   ]
  },
  {
   "cell_type": "markdown",
   "metadata": {},
   "source": [
    "&#9989;  **Question 3.3.Chinstrap (2 points)**: Using the `OLS` method in `statsmodels`, perform a linear regression to predict a  **Chinstrap** penguin's body mass using its bill depth and display the results summary."
   ]
  },
  {
   "cell_type": "code",
   "execution_count": 7,
   "metadata": {},
   "outputs": [
    {
     "name": "stdout",
     "output_type": "stream",
     "text": [
      "                            OLS Regression Results                            \n",
      "==============================================================================\n",
      "Dep. Variable:            body_mass_g   R-squared:                       0.365\n",
      "Model:                            OLS   Adj. R-squared:                  0.356\n",
      "Method:                 Least Squares   F-statistic:                     38.01\n",
      "Date:                Sat, 04 Nov 2023   Prob (F-statistic):           4.79e-08\n",
      "Time:                        17:09:00   Log-Likelihood:                -485.22\n",
      "No. Observations:                  68   AIC:                             974.4\n",
      "Df Residuals:                      66   BIC:                             978.9\n",
      "Df Model:                           1                                         \n",
      "Covariance Type:            nonrobust                                         \n",
      "=================================================================================\n",
      "                    coef    std err          t      P>|t|      [0.025      0.975]\n",
      "---------------------------------------------------------------------------------\n",
      "const           -36.2192    612.561     -0.059      0.953   -1259.238    1186.799\n",
      "bill_depth_mm   204.6247     33.192      6.165      0.000     138.355     270.895\n",
      "==============================================================================\n",
      "Omnibus:                        0.100   Durbin-Watson:                   2.542\n",
      "Prob(Omnibus):                  0.951   Jarque-Bera (JB):                0.019\n",
      "Skew:                           0.035   Prob(JB):                        0.990\n",
      "Kurtosis:                       2.955   Cond. No.                         303.\n",
      "==============================================================================\n",
      "\n",
      "Notes:\n",
      "[1] Standard Errors assume that the covariance matrix of the errors is correctly specified.\n"
     ]
    }
   ],
   "source": [
    "# Put your code here\n",
    "chinstrap = dropped_penguin[dropped_penguin['species'] == 'Chinstrap']\n",
    "\n",
    "X = chinstrap['bill_depth_mm']\n",
    "y = chinstrap['body_mass_g']\n",
    "\n",
    "X = sm.add_constant(X)\n",
    "\n",
    "model = sm.OLS(y, X).fit()\n",
    "\n",
    "print(model.summary())"
   ]
  },
  {
   "cell_type": "markdown",
   "metadata": {},
   "source": [
    "&#9989;  **Question 3.3.Gentoo (2 points)**: Using the `OLS` method in `statsmodels`, perform a linear regression to predict a  **Gentoo** penguin's body mass using its bill depth and display the results summary."
   ]
  },
  {
   "cell_type": "code",
   "execution_count": 8,
   "metadata": {},
   "outputs": [
    {
     "name": "stdout",
     "output_type": "stream",
     "text": [
      "                            OLS Regression Results                            \n",
      "==============================================================================\n",
      "Dep. Variable:            body_mass_g   R-squared:                       0.516\n",
      "Model:                            OLS   Adj. R-squared:                  0.512\n",
      "Method:                 Least Squares   F-statistic:                     125.8\n",
      "Date:                Sat, 04 Nov 2023   Prob (F-statistic):           2.61e-20\n",
      "Time:                        17:09:03   Log-Likelihood:                -871.94\n",
      "No. Observations:                 120   AIC:                             1748.\n",
      "Df Residuals:                     118   BIC:                             1753.\n",
      "Df Model:                           1                                         \n",
      "Covariance Type:            nonrobust                                         \n",
      "=================================================================================\n",
      "                    coef    std err          t      P>|t|      [0.025      0.975]\n",
      "---------------------------------------------------------------------------------\n",
      "const          -382.5446    489.106     -0.782      0.436   -1351.107     586.018\n",
      "bill_depth_mm   364.8172     32.532     11.214      0.000     300.394     429.240\n",
      "==============================================================================\n",
      "Omnibus:                        5.552   Durbin-Watson:                   2.529\n",
      "Prob(Omnibus):                  0.062   Jarque-Bera (JB):                5.143\n",
      "Skew:                           0.498   Prob(JB):                       0.0764\n",
      "Kurtosis:                       3.196   Cond. No.                         232.\n",
      "==============================================================================\n",
      "\n",
      "Notes:\n",
      "[1] Standard Errors assume that the covariance matrix of the errors is correctly specified.\n"
     ]
    }
   ],
   "source": [
    "# Put your code here\n",
    "gentoo = dropped_penguin[dropped_penguin['species'] == 'Gentoo']\n",
    "\n",
    "X = gentoo['bill_depth_mm']\n",
    "y = gentoo['body_mass_g']\n",
    "\n",
    "X = sm.add_constant(X)\n",
    "\n",
    "model = sm.OLS(y, X).fit()\n",
    "\n",
    "print(model.summary())"
   ]
  },
  {
   "cell_type": "markdown",
   "metadata": {},
   "source": [
    "&#9989;  **Question 3.4 (5 points)**: Answer the following questions: \n",
    "\n",
    "1. For each of the three species of penguins, what was the equation of the best fit linear relationship between the species' body mass and bill depth?\n",
    "\n",
    "2. For each of the three species of penguins, as its bill depth increases, does its body mass increase or decrease? \n",
    "\n",
    "3. Based on the $p$-values for the bill depth, is the relationship between each species' body mass and bill depth statistically significant?"
   ]
  },
  {
   "cell_type": "markdown",
   "metadata": {},
   "source": [
    "<font size=+3>&#9998;</font> Put your answers here:\n",
    "\n",
    "1. For each of the following species of penguins, the equation of the best fit linear relationship between body mass and bill depth is:\n",
    "\n",
    "Adelie: y = 218.2095x - 297.3829\n",
    "Chinstrap: y= 204.6247x - 36.2192\n",
    "Gentoo: y = 364.8172x - 382.5446\n",
    "\n",
    "2. For each of the three species, does bill length increase, does body mass increase/decrease\n",
    "\n",
    "Adelie: As bill depth increases, their body mass increases.\n",
    "Chinstrap: As bill depth increases, their body mass increases.\n",
    "Gentoo: As bill depth incrases, their body mass increases.\n",
    "\n",
    "3. Based on the p-values for the bill depth for the three speices, statistical signifiance on the relationship between the species body mass and bill depth:\n",
    "\n",
    "Adelie: the pvalue for the regression is very small. This means there is a statistically significant relationship between the bill depth and body mass. As the bill depth increases, the body mass will increase as well.\n",
    "\n",
    "Chinstrap: the pvalue for the regression is very small. This means there is a statistically significant relationship between the bill depth and body mass. As the bill depth increases, the body mass will increase as well.\n",
    "\n",
    "Gentoo: the pvalue for the regression is very small. This means there is a statistically significant relationship between the bill depth and body mass. As the bill depth increases, the body mass will increase as well.\n"
   ]
  },
  {
   "cell_type": "markdown",
   "metadata": {},
   "source": [
    "&#9989;  **Question 3.5 (6 points)**: Assuming you did everything correctly, the relationship between a penguin's body mass and it's bill depth is the opposite when you split the data by species. This might seem confusing to you. Part of the reason for this is because we skipped a very important step regarding dealing with unfamiliar data, that is **visualizing the data**. \n",
    "\n",
    "**Do this**: Make a scatterplot showing the penguins' body mass vs. bill depth. Color code the dots so that each species gets a different color. Then, display the best fit line for each of the three species using the same color and display the best fit line for all the penguins using a different color. Don't forget to label your axes. When you're done, you should have a plot that contains three different colors of dots and 4 different lines (3 of the lines should match the colors of the three penguin species, respectively)\n",
    "\n",
    "**Hint**: We've included a function to help you plot a line. Feel free to use it, or not. "
   ]
  },
  {
   "cell_type": "code",
   "execution_count": 12,
   "metadata": {},
   "outputs": [],
   "source": [
    "# Put your code here\n",
    "\n",
    "import matplotlib.pyplot as plt\n",
    "import numpy as np\n",
    "def plot_line(slope, intercept, xmin, xmax, color):\n",
    "    xline = np.array([xmin,xmax])\n",
    "    yline = slope*xline+intercept\n",
    "    plt.plot(xline,yline,color)\n",
    "    \n"
   ]
  },
  {
   "cell_type": "code",
   "execution_count": 35,
   "metadata": {},
   "outputs": [
    {
     "data": {
      "text/plain": [
       "<matplotlib.legend.Legend at 0x7fb7e4218640>"
      ]
     },
     "execution_count": 35,
     "metadata": {},
     "output_type": "execute_result"
    },
    {
     "data": {
      "image/png": "[encoded data removed]",
      "text/plain": [
       "<Figure size 720x432 with 1 Axes>"
      ]
     },
     "metadata": {
      "needs_background": "light"
     },
     "output_type": "display_data"
    }
   ],
   "source": [
    "unique_species = dropped_penguin['species'].unique()\n",
    "\n",
    "plt.figure(figsize=(10, 6))\n",
    "colors = ['purple', 'pink', 'brown']\n",
    "color_index = 0\n",
    "\n",
    "for i in unique_species:\n",
    "    species_data = dropped_penguin[dropped_penguin['species'] == i]\n",
    "    x = species_data['bill_depth_mm']\n",
    "    y = species_data['body_mass_g']\n",
    "    plt.scatter(x, y, label=i, color=colors[color_index])\n",
    "\n",
    "    slope, intercept = np.polyfit(x, y, 1)\n",
    "\n",
    "    x_range = np.array([x.min(), x.max()])\n",
    "    y_range = slope * x_range + intercept\n",
    "    plt.plot(x_range, y_range, color=colors[color_index], label=('Best Fit Line', i))\n",
    "\n",
    "    color_index += 1\n",
    "\n",
    "x_all = dropped_penguin['bill_depth_mm']\n",
    "y_all = dropped_penguin['body_mass_g']\n",
    "slope_all, intercept_all = np.polyfit(x_all, y_all, 1)\n",
    "\n",
    "x_range_all = np.array([x_all.min(), x_all.max()])\n",
    "y_range_all = slope_all * x_range_all + intercept_all\n",
    "plt.plot(x_range_all, y_range_all, color='green', label='Best Fit Line (All Penguins)')\n",
    "\n",
    "plt.xlabel('Bill Depth (mm)')\n",
    "plt.ylabel('Body Mass (g)')\n",
    "plt.title('Best fit line for Penguins Body mass vs Bill Depth')\n",
    "plt.legend()\n",
    "\n"
   ]
  },
  {
   "cell_type": "markdown",
   "metadata": {},
   "source": [
    "&#9989;  **Question 3.6 (3 points)**: Now that you've visualized the data, can you give an explaination as to why the relationship between a penguin's body mass and bill depth changed drastically when we split the data by species?"
   ]
  },
  {
   "cell_type": "markdown",
   "metadata": {},
   "source": [
    "<font size=+3>&#9998;</font> Put your answers here: \n",
    "\n",
    "The change in the relationship between a penguin's body mass and bill depth when splitting the data by species may be because of different factors, including diffeent evolutionary and environemntal/genetic factors. When visualzing the data, we can see how these environmental/genetic factors could influence the data."
   ]
  },
  {
   "cell_type": "markdown",
   "metadata": {},
   "source": [
    "---\n",
    "### &#128721; STOP\n",
    "**Pause to commit your changes to your Git repository!**\n",
    "\n",
    "Take a moment to save your notebook, commit the changes to your local `git` repository using the commit message \"Part 3 complete\", and push the changes to GitHub.\n",
    "\n",
    "---"
   ]
  },
  {
   "cell_type": "markdown",
   "metadata": {},
   "source": [
    "## Part 4: Multiple Regression (20 points)\n",
    "\n",
    "In this part, we'll use multiple features to predict the body mass of a Chinstrap penguin. "
   ]
  },
  {
   "cell_type": "markdown",
   "metadata": {},
   "source": [
    "&#9989;  **Question 4.1 (3 points)**: Using the `OLS` method in `statsmodels`, perform a multivariable linear regression to predict a  **Chinstrap** penguin's body mass given just its bill length, bill depth, and flipper length. Be sure to use the `add_constant()` method to ensure `OLS` includes a constant term in its model. As before, make sure to **display a summary of your results**."
   ]
  },
  {
   "cell_type": "code",
   "execution_count": 91,
   "metadata": {},
   "outputs": [
    {
     "name": "stdout",
     "output_type": "stream",
     "text": [
      "                            OLS Regression Results                            \n",
      "==============================================================================\n",
      "Dep. Variable:            body_mass_g   R-squared:                       0.504\n",
      "Model:                            OLS   Adj. R-squared:                  0.481\n",
      "Method:                 Least Squares   F-statistic:                     21.66\n",
      "Date:                Mon, 06 Nov 2023   Prob (F-statistic):           8.48e-10\n",
      "Time:                        14:21:25   Log-Likelihood:                -476.86\n",
      "No. Observations:                  68   AIC:                             961.7\n",
      "Df Residuals:                      64   BIC:                             970.6\n",
      "Df Model:                           3                                         \n",
      "Covariance Type:            nonrobust                                         \n",
      "=====================================================================================\n",
      "                        coef    std err          t      P>|t|      [0.025      0.975]\n",
      "-------------------------------------------------------------------------------------\n",
      "const             -3157.5301    932.364     -3.387      0.001   -5020.141   -1294.919\n",
      "bill_length_mm       16.0392     13.542      1.184      0.241     -11.015      43.093\n",
      "bill_depth_mm        91.5127     43.120      2.122      0.038       5.371     177.654\n",
      "flipper_length_mm    22.5797      5.892      3.832      0.000      10.809      34.351\n",
      "==============================================================================\n",
      "Omnibus:                        0.879   Durbin-Watson:                   2.477\n",
      "Prob(Omnibus):                  0.644   Jarque-Bera (JB):                0.330\n",
      "Skew:                          -0.037   Prob(JB):                        0.848\n",
      "Kurtosis:                       3.333   Cond. No.                     5.63e+03\n",
      "==============================================================================\n",
      "\n",
      "Notes:\n",
      "[1] Standard Errors assume that the covariance matrix of the errors is correctly specified.\n",
      "[2] The condition number is large, 5.63e+03. This might indicate that there are\n",
      "strong multicollinearity or other numerical problems.\n"
     ]
    }
   ],
   "source": [
    "# Put your code here\n",
    "import statsmodels.api as sm\n",
    "\n",
    "\n",
    "X = sm.add_constant(chinstrap_penguins[['bill_length_mm', 'bill_depth_mm', 'flipper_length_mm']])\n",
    "y=chinstrap_penguins['body_mass_g']\n",
    "\n",
    "model = sm.OLS(y, X).fit()\n",
    "print(model.summary())"
   ]
  },
  {
   "cell_type": "markdown",
   "metadata": {},
   "source": [
    "&#9989;  **Question 4.2 (4 points)**: Answer the following questions: \n",
    "\n",
    "1. Suppose the Chinstrap penguin in the image above has a bill length of 52.0 mm, a bill depth of 20.7 mm, and a flipper length of 210.0 mm. What does your linear model predict the Chinstrap penguin's body mass (in g) is? Explain how you got your answer.\n",
    "\n",
    "2. For each of the features, specify if it is statistically significant or not. Briefly justify your answers."
   ]
  },
  {
   "cell_type": "markdown",
   "metadata": {},
   "source": [
    "<font size=+3>&#9998;</font> Put your answers here:\n",
    "\n",
    "1. My linerar model predicts that the body mass in (g) is 5323.0613 grams. This is because I set the body mass to the bill length, bill depth, and flipper length multiplied by their coefficents, and then substrated by the y intercept (coefficient constant)\n",
    "\n",
    "y (body_mass_g) = (coeff * bill length) + (coeff * bill depth) * (coeff * flipper length) - yinteract \n",
    "\n",
    "2. Bill depth and flipped length are statistically significant in predicting body mass because their p values are below 0.05. Bill length is not statistically significant as its p value is higher than 0.05 (has a p value os 0.241). This means that in the Chintrap model, only body mass and flipper length are reliable predictors, since they have statistial significance, and bill length does not hold any statistical signifiance. "
   ]
  },
  {
   "cell_type": "markdown",
   "metadata": {},
   "source": [
    "&#9989;  **Question 4.3 (3 points)**: Perform the same multivariable linear regression again, but this time with just the **two most significant features**. Even if you got that 0, 1, or 3 of the features were significant, just pick the two you think are most significant for this question. Display the summary of these results."
   ]
  },
  {
   "cell_type": "code",
   "execution_count": 6,
   "metadata": {},
   "outputs": [
    {
     "name": "stdout",
     "output_type": "stream",
     "text": [
      "                                 OLS Regression Results                                \n",
      "=======================================================================================\n",
      "Dep. Variable:            body_mass_g   R-squared (uncentered):                   0.988\n",
      "Model:                            OLS   Adj. R-squared (uncentered):              0.988\n",
      "Method:                 Least Squares   F-statistic:                          1.377e+04\n",
      "Date:                Mon, 06 Nov 2023   Prob (F-statistic):                   3.86e-320\n",
      "Time:                        10:28:20   Log-Likelihood:                         -2527.2\n",
      "No. Observations:                 334   AIC:                                      5058.\n",
      "Df Residuals:                     332   BIC:                                      5066.\n",
      "Df Model:                           2                                                  \n",
      "Covariance Type:            nonrobust                                                  \n",
      "=====================================================================================\n",
      "                        coef    std err          t      P>|t|      [0.025      0.975]\n",
      "-------------------------------------------------------------------------------------\n",
      "bill_depth_mm      -112.4105      9.083    -12.375      0.000    -130.279     -94.542\n",
      "flipper_length_mm    30.5859      0.779     39.282      0.000      29.054      32.118\n",
      "==============================================================================\n",
      "Omnibus:                        4.065   Durbin-Watson:                   2.651\n",
      "Prob(Omnibus):                  0.131   Jarque-Bera (JB):                3.467\n",
      "Skew:                           0.160   Prob(JB):                        0.177\n",
      "Kurtosis:                       2.617   Cond. No.                         71.8\n",
      "==============================================================================\n",
      "\n",
      "Notes:\n",
      "[1] R² is computed without centering (uncentered) since the model does not contain a constant.\n",
      "[2] Standard Errors assume that the covariance matrix of the errors is correctly specified.\n"
     ]
    }
   ],
   "source": [
    "# Put your code here\n",
    "#previous code from 4.2 \n",
    "# X = sm.add_constant(dropped_penguin[['bill_length_mm', 'bill_depth_mm', 'flipper_length_mm']])\n",
    "# y=dropped_penguin['body_mass_g']\n",
    "\n",
    "# model = sm.OLS(y, X).fit()\n",
    "# print(model.summary())\n",
    "\n",
    "significant_featues = ['bill_depth_mm', 'flipper_length_mm']\n",
    "x_significant_feature = dropped_penguin[significant_featues]\n",
    "model_features = sm.OLS(y, x_significant_feature).fit()\n",
    "\n",
    "summary_significance = model_features.summary()\n",
    "print(summary_significance)"
   ]
  },
  {
   "cell_type": "markdown",
   "metadata": {},
   "source": [
    "&#9989;  **Question 4.4 (4 points)**: Answer these questions: \n",
    "\n",
    "1. Qualitatively, how much better/worse is the reduced model compared to the original model? Briefly justify your answer.\n",
    "\n",
    "2. Explain in your own words why we might want to use a model with fewer features, even if it fits the data a bit worse than a model with more features."
   ]
  },
  {
   "cell_type": "markdown",
   "metadata": {},
   "source": [
    "<font size=+3>&#9998;</font> Put your answers here:\n",
    "\n",
    "1. The reduced model is better than the original model. This is because the p values for both the bill depth and flipper length have a very low p valye in the reduced model, indicating they have a high statistical signifiance in preducting body mass. In the original model, the p value was not statistically signifiance, suggesting it could not be a reliable predictor for body mass.\n",
    "\n",
    "2. Using a model with feewer features may be a useful took, since it helps make the model much simplier to understand and interpret. It communicates the relationship between variables and outcomes in a straightforward way. "
   ]
  },
  {
   "cell_type": "markdown",
   "metadata": {},
   "source": [
    "&#9989;  **Question 4.5 (2 points)**: Suppose we wanted to use the sex of a Chinstrap penguin as a feature to predict its body mass. Will simply including the `sex` column in the second argument to `OLS()` work? If not, why, and what could we do to fix it?"
   ]
  },
  {
   "cell_type": "markdown",
   "metadata": {},
   "source": [
    "<font size=+3>&#9998;</font> Put your answers here: Adding the sex as a feature as a second argument would not work. This is because the sex variable is a categorical variable (string), while the OLS regression model requires a numerical variable (float or integer aka a number). To use the penguin's sex, we wiuld need to convert the categorical variables to numerical code. We could do this by replacing the \"male\" and \"female\" columns to zeros and ones respectively. "
   ]
  },
  {
   "cell_type": "markdown",
   "metadata": {},
   "source": [
    "&#9989;  **Question 4.6 (4 points)**: A student from U of M managed to enroll in this class (don't ask us how) and is working on this homework. They got the following output when they used the `OLS()` method in `statsmodels.api`. \n",
    "\n",
    "<img src=\"https://i.ibb.co/SRs1MRM/Perfect-Model-Chinstrap.png\" width=\"400px\" border=\"0\">\n",
    "\n",
    "When you compare outputs, the Wolverine tells you \"My linear model is better than yours because my linear model has a larger $R^2$-value than your model. I guess Wolverines are way better than Spartans at data science.\"\n",
    "\n",
    "**Do this**: Answer These Questions:\n",
    "1. How did they get a linear model with a near perfect $R^2$-value? \n",
    "2. Is their model actually better than yours? \n",
    "\n",
    "Justify your answers."
   ]
  },
  {
   "cell_type": "markdown",
   "metadata": {},
   "source": [
    "<font size=+3>&#9998;</font> Put your answers here:\n",
    "\n",
    "1. The wolverines could have done this by overfitting their data. This means that they could have generalized their data poorly and added uneeded noise.\n",
    "\n",
    "2. Potentially, we not really. You need to look beyond the R sqaured valye to evauate whether their model is better than ours."
   ]
  },
  {
   "cell_type": "markdown",
   "metadata": {},
   "source": [
    "---\n",
    "### &#128721; STOP\n",
    "**Pause to commit your changes to your Git repository!**\n",
    "\n",
    "Take a moment to save your notebook, commit the changes to your local `git` repository using the commit message \"Part 4 complete\", and push the changes to GitHub.\n",
    "\n",
    "---"
   ]
  },
  {
   "cell_type": "markdown",
   "metadata": {},
   "source": [
    "## Part 5: Logistic Regression (18 points)\n",
    "\n",
    "In this part, we'd like to use logistic regression to classify the species of a penguin given it's body measurements. Logistic regression (as we've learned so far in class) does binary classification. However, we have three species of penguins, and they are not very happy when they are mistaken for another species.\n",
    "\n",
    "<img src=\"https://i.redd.it/q09631arghi41.jpg\" width=\"400px\">"
   ]
  },
  {
   "cell_type": "markdown",
   "metadata": {},
   "source": [
    "&#9989;  **Question 5.1 (4 points)**: Let's start by making a classifier to distinguish Adélie penguins from the other two species (Chinstrap penguins and Gentoo penguins). \n",
    "\n",
    "**Do This**: Double check that you still have the DataFrame from Question 2.3 intact, i.e. it has data from all three species, but with the NaN rows dropped. Then, create a `Pandas` `Series` called `labels` which takes the `species` column of the DataFrame, but replaces 'Chinstrap' and 'Gentoo' with 0 and replaces 'Adelie' with 1. Also, create a `Pandas` `DataFrame` called `features` which consists of just the four columns bill length, bill depth, flipper length, and body mass. Display the labels and features to make sure you did this correctly."
   ]
  },
  {
   "cell_type": "code",
   "execution_count": 41,
   "metadata": {},
   "outputs": [
    {
     "name": "stdout",
     "output_type": "stream",
     "text": [
      "0      1\n",
      "1      1\n",
      "2      1\n",
      "4      1\n",
      "5      1\n",
      "      ..\n",
      "338    0\n",
      "340    0\n",
      "341    0\n",
      "342    0\n",
      "343    0\n",
      "Name: species, Length: 334, dtype: int64\n"
     ]
    },
    {
     "data": {
      "text/html": [
       "<div>\n",
       "<style scoped>\n",
       "    .dataframe tbody tr th:only-of-type {\n",
       "        vertical-align: middle;\n",
       "    }\n",
       "\n",
       "    .dataframe tbody tr th {\n",
       "        vertical-align: top;\n",
       "    }\n",
       "\n",
       "    .dataframe thead th {\n",
       "        text-align: right;\n",
       "    }\n",
       "</style>\n",
       "<table border=\"1\" class=\"dataframe\">\n",
       "  <thead>\n",
       "    <tr style=\"text-align: right;\">\n",
       "      <th></th>\n",
       "      <th>bill_length_mm</th>\n",
       "      <th>bill_depth_mm</th>\n",
       "      <th>flipper_length_mm</th>\n",
       "      <th>body_mass_g</th>\n",
       "    </tr>\n",
       "  </thead>\n",
       "  <tbody>\n",
       "    <tr>\n",
       "      <th>0</th>\n",
       "      <td>39.1</td>\n",
       "      <td>18.7</td>\n",
       "      <td>181.0</td>\n",
       "      <td>3750.0</td>\n",
       "    </tr>\n",
       "    <tr>\n",
       "      <th>1</th>\n",
       "      <td>39.5</td>\n",
       "      <td>17.4</td>\n",
       "      <td>186.0</td>\n",
       "      <td>3800.0</td>\n",
       "    </tr>\n",
       "    <tr>\n",
       "      <th>2</th>\n",
       "      <td>40.3</td>\n",
       "      <td>18.0</td>\n",
       "      <td>195.0</td>\n",
       "      <td>3250.0</td>\n",
       "    </tr>\n",
       "    <tr>\n",
       "      <th>4</th>\n",
       "      <td>36.7</td>\n",
       "      <td>19.3</td>\n",
       "      <td>193.0</td>\n",
       "      <td>3450.0</td>\n",
       "    </tr>\n",
       "    <tr>\n",
       "      <th>5</th>\n",
       "      <td>39.3</td>\n",
       "      <td>20.6</td>\n",
       "      <td>190.0</td>\n",
       "      <td>3650.0</td>\n",
       "    </tr>\n",
       "    <tr>\n",
       "      <th>...</th>\n",
       "      <td>...</td>\n",
       "      <td>...</td>\n",
       "      <td>...</td>\n",
       "      <td>...</td>\n",
       "    </tr>\n",
       "    <tr>\n",
       "      <th>338</th>\n",
       "      <td>47.2</td>\n",
       "      <td>13.7</td>\n",
       "      <td>214.0</td>\n",
       "      <td>4925.0</td>\n",
       "    </tr>\n",
       "    <tr>\n",
       "      <th>340</th>\n",
       "      <td>46.8</td>\n",
       "      <td>14.3</td>\n",
       "      <td>215.0</td>\n",
       "      <td>4850.0</td>\n",
       "    </tr>\n",
       "    <tr>\n",
       "      <th>341</th>\n",
       "      <td>50.4</td>\n",
       "      <td>15.7</td>\n",
       "      <td>222.0</td>\n",
       "      <td>5750.0</td>\n",
       "    </tr>\n",
       "    <tr>\n",
       "      <th>342</th>\n",
       "      <td>45.2</td>\n",
       "      <td>14.8</td>\n",
       "      <td>212.0</td>\n",
       "      <td>5200.0</td>\n",
       "    </tr>\n",
       "    <tr>\n",
       "      <th>343</th>\n",
       "      <td>49.9</td>\n",
       "      <td>16.1</td>\n",
       "      <td>213.0</td>\n",
       "      <td>5400.0</td>\n",
       "    </tr>\n",
       "  </tbody>\n",
       "</table>\n",
       "<p>334 rows × 4 columns</p>\n",
       "</div>"
      ],
      "text/plain": [
       "     bill_length_mm  bill_depth_mm  flipper_length_mm  body_mass_g\n",
       "0              39.1           18.7              181.0       3750.0\n",
       "1              39.5           17.4              186.0       3800.0\n",
       "2              40.3           18.0              195.0       3250.0\n",
       "4              36.7           19.3              193.0       3450.0\n",
       "5              39.3           20.6              190.0       3650.0\n",
       "..              ...            ...                ...          ...\n",
       "338            47.2           13.7              214.0       4925.0\n",
       "340            46.8           14.3              215.0       4850.0\n",
       "341            50.4           15.7              222.0       5750.0\n",
       "342            45.2           14.8              212.0       5200.0\n",
       "343            49.9           16.1              213.0       5400.0\n",
       "\n",
       "[334 rows x 4 columns]"
      ]
     },
     "execution_count": 41,
     "metadata": {},
     "output_type": "execute_result"
    }
   ],
   "source": [
    "# Put your code here\n",
    "\n",
    "labels = dropped_penguin['species'].replace({'Chinstrap': 0, 'Gentoo': 0, 'Adelie': 1})\n",
    "features = dropped_penguin[['bill_length_mm', 'bill_depth_mm', 'flipper_length_mm', 'body_mass_g']]\n",
    "\n",
    "print(labels)\n",
    "features\n",
    "\n",
    "\n"
   ]
  },
  {
   "cell_type": "markdown",
   "metadata": {},
   "source": [
    "&#9989;  **Question 5.2 (4 points)**: Split your data into a training and testing set with a training set representing 75% of your data. For reproducibility, set the `random_state` argument to `0`. Print the shapes of the training features, the testing features, the training labels, and the testing labels to show you have the right number of entries in each of the four variables."
   ]
  },
  {
   "cell_type": "code",
   "execution_count": 43,
   "metadata": {},
   "outputs": [
    {
     "name": "stdout",
     "output_type": "stream",
     "text": [
      "Training Features Shape: (250, 4)\n",
      "Testing Features Shape: (84, 4)\n",
      "Training Labels Shape: (250,)\n",
      "Testing Labels Shape: (84,)\n"
     ]
    }
   ],
   "source": [
    "# Put your code here\n",
    "\n",
    "#library for doing the splitting data:\n",
    "from sklearn.model_selection import train_test_split\n",
    "\n",
    "X_train, X_test, y_train, y_test = train_test_split(features, labels, test_size=0.25, random_state=0)\n",
    "\n",
    "print(\"Training Features Shape:\", X_train.shape)\n",
    "print(\"Testing Features Shape:\", X_test.shape)\n",
    "print(\"Training Labels Shape:\", y_train.shape)\n",
    "print(\"Testing Labels Shape:\", y_test.shape)\n"
   ]
  },
  {
   "cell_type": "markdown",
   "metadata": {},
   "source": [
    "&#9989;  **Question 5.3 (4 points)**: Now, train a logistic regression model using your training features and training labels. **Display the summary**."
   ]
  },
  {
   "cell_type": "code",
   "execution_count": 71,
   "metadata": {},
   "outputs": [
    {
     "name": "stdout",
     "output_type": "stream",
     "text": [
      "Optimization terminated successfully.\n",
      "         Current function value: 0.015370\n",
      "         Iterations 14\n",
      "                           Logit Regression Results                           \n",
      "==============================================================================\n",
      "Dep. Variable:                species   No. Observations:                  250\n",
      "Model:                          Logit   Df Residuals:                      245\n",
      "Method:                           MLE   Df Model:                            4\n",
      "Date:                Mon, 06 Nov 2023   Pseudo R-squ.:                  0.9774\n",
      "Time:                        13:31:38   Log-Likelihood:                -3.8426\n",
      "converged:                       True   LL-Null:                       -169.74\n",
      "Covariance Type:            nonrobust   LLR p-value:                 1.490e-70\n",
      "=====================================================================================\n",
      "                        coef    std err          z      P>|z|      [0.025      0.975]\n",
      "-------------------------------------------------------------------------------------\n",
      "const                30.4634     39.050      0.780      0.435     -46.073     107.000\n",
      "bill_length_mm       -4.0612      2.426     -1.674      0.094      -8.816       0.694\n",
      "bill_depth_mm         6.5674      4.254      1.544      0.123      -1.770      14.905\n",
      "flipper_length_mm     0.0809      0.155      0.522      0.602      -0.223       0.385\n",
      "body_mass_g           0.0034      0.004      0.904      0.366      -0.004       0.011\n",
      "=====================================================================================\n",
      "\n",
      "Possibly complete quasi-separation: A fraction 0.90 of observations can be\n",
      "perfectly predicted. This might indicate that there is complete\n",
      "quasi-separation. In this case some parameters will not be identified.\n"
     ]
    }
   ],
   "source": [
    "import statsmodels.api as sm\n",
    "\n",
    "logistic_model = sm.Logit(y_train, sm.add_constant(X_train))\n",
    "results = logistic_model.fit()\n",
    "\n",
    "print(results.summary())\n",
    "\n",
    "\n",
    "#source: https://www.geeksforgeeks.org/logistic-regression-using-statsmodels/#"
   ]
  },
  {
   "cell_type": "markdown",
   "metadata": {},
   "source": [
    "&#9989;  **Question 5.4 (4 points)**: Finally, test your logistic regression model using your testing features and testing labels. Display the fraction of testing data points that were correctly predicted. "
   ]
  },
  {
   "cell_type": "code",
   "execution_count": 87,
   "metadata": {},
   "outputs": [
    {
     "name": "stdout",
     "output_type": "stream",
     "text": [
      "Accuracy on Testing Data Correctly Predicted: 0.9880952380952381\n"
     ]
    }
   ],
   "source": [
    "# Put your code here\n",
    "\n",
    "from sklearn import metrics\n",
    "\n",
    "y_predict = results.predict(sm.add_constant(X_test))\n",
    "\n",
    "y_predict = (y_predict > 0.5).astype(int)\n",
    "\n",
    "        \n",
    "accuracy = metrics.accuracy_score(y_test, y_predict)\n",
    "\n",
    "print('Accuracy on Testing Data Correctly Predicted:', accuracy)\n"
   ]
  },
  {
   "cell_type": "markdown",
   "metadata": {},
   "source": [
    "&#9989;  **Question 5.5 (2 points)**: If everything worked correctly, you should have a classifier that can distinguish Adélie penguins from the other two species with high accuracy! Now, suppose you wanted to write code that would take a penguins measurements (bill length, bill depth, flipper length, and body mass) and predict which of the three species the penguin was. Describe how you would do this. **Note**: You don't need to actually implement this with code, you simply need to have a sufficiently detailed plan for how you *could* do it. "
   ]
  },
  {
   "cell_type": "markdown",
   "metadata": {},
   "source": [
    "<font size=+3>&#9998;</font> Put your answers here: To make a code that takes a penguins measurements (bill length, bill depth, flipper length, and body mass of the three species the penguin was, I would first use the trained logistical regression model from above to make predictions using .predict() from the statsmodel to get the predicted probability scores for each class. Then, I would interpret my results for each species by using the highest probability to provide probabilitie of each speices. Then, I would visualize my data using a scatterplot to see th epredicted species distributions."
   ]
  },
  {
   "cell_type": "markdown",
   "metadata": {},
   "source": [
    "---\n",
    "### &#128721; STOP\n",
    "**Pause to commit your changes to your Git repository!**\n",
    "\n",
    "Take a moment to save your notebook, commit the changes to your local `git` repository using the commit message \"Part 5 complete\", and push the changes to GitHub.\n",
    "\n",
    "---"
   ]
  },
  {
   "cell_type": "markdown",
   "metadata": {},
   "source": [
    "## Part 1. Continued\n",
    "\n",
    "Now that you've finished your new \"development\" on your 202 turn-in repo, you can merge your work back into your `main` branch.\n",
    "\n",
    "**&#9989; Do the following**:\n",
    "\n",
    "7. Switch back to your `main` branch. \n",
    "8. Merge your `hw03_branch` with your `main` branch. \n",
    "9. Finally, push the changes to GitHub."
   ]
  },
  {
   "cell_type": "markdown",
   "metadata": {},
   "source": [
    "---\n",
    "## Assignment wrap-up\n",
    "\n",
    "\n",
    "Please fill out the form that appears when you run the code below.  **You must completely fill this out in order to receive credit for the assignment!**"
   ]
  },
  {
   "cell_type": "code",
   "execution_count": null,
   "metadata": {},
   "outputs": [],
   "source": [
    "from IPython.display import HTML\n",
    "HTML(\n",
    "\"\"\"\n",
    "<iframe \n",
    "\tsrc=\"https://forms.office.com/r/UsXJF7EeNY\" \n",
    "\twidth=\"800px\" \n",
    "\theight=\"600px\" \n",
    "\tframeborder=\"0\" \n",
    "\tmarginheight=\"0\" \n",
    "\tmarginwidth=\"0\">\n",
    "\tLoading...\n",
    "</iframe>\n",
    "\"\"\"\n",
    ")"
   ]
  },
  {
   "cell_type": "markdown",
   "metadata": {},
   "source": [
    "## Congratulations, you're done!\n",
    "\n",
    "<img src=https://education.rstudio.com/blog/2020/07/palmerpenguins-cran/penguins_cran.png width=200px>\n",
    "\n",
    "Submit this assignment by uploading it to the course Desire2Learn web page.  Go to the \"Homework Assignments\" folder, find the dropbox link for Homework 3, and upload it there."
   ]
  },
  {
   "cell_type": "markdown",
   "metadata": {},
   "source": [
    "&#169; Copyright 2023,  Department of Computational Mathematics, Science and Engineering at Michigan State University"
   ]
  }
 ],
 "metadata": {
  "kernelspec": {
   "display_name": "Python 3.8",
   "language": "python",
   "name": "python3"
  },
  "language_info": {
   "codemirror_mode": {
    "name": "ipython",
    "version": 3
   },
   "file_extension": ".py",
   "mimetype": "text/x-python",
   "name": "python",
   "nbconvert_exporter": "python",
   "pygments_lexer": "ipython3",
   "version": "3.8.8"
  },
  "toc": {
   "base_numbering": 1,
   "nav_menu": {},
   "number_sections": true,
   "sideBar": true,
   "skip_h1_title": false,
   "title_cell": "Table of Contents",
   "title_sidebar": "Contents",
   "toc_cell": false,
   "toc_position": {},
   "toc_section_display": true,
   "toc_window_display": false
  }
 },
 "nbformat": 4,
 "nbformat_minor": 4
}
